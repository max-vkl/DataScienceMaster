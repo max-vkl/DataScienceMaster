# BEGIN: Test if all ratings from df are still the same in um_pairs
import numpy as np

# Create a boolean array to check if ratings are the same
ratings_same = np.all(df['rating'] == um_pairs['rating'])

# Print the result
print(f"All ratings from df are still the same in um_pairs: {ratings_same}")
# END: Test if all ratings from df are still the same in um_pairs# BEGIN: Test if all ratings for user_id and movie_id in df are still the same in um_pairs
import numpy as np

# Create a boolean array to check if ratings are the same
ratings_same = np.all(df.merge(um_pairs, on=['user_id', 'movie_id'], how='left')['rating_x'] == df.merge(um_pairs, on=['user_id', 'movie_id'], how='left')['rating_y'])

# Print the result
print(f"All ratings for user_id and movie_id in df are still the same in um_pairs: {ratings_same}")
# END: Test if all ratings for user_id and movie_id in df are still the same in um_pairs