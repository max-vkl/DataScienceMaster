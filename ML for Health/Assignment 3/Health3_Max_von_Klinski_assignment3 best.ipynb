{
  "cells": [
    {
      "cell_type": "markdown",
      "metadata": {
        "id": "auTsS1iIXu-R"
      },
      "source": [
        "# Generative Adversarial Networks for X-RAY Classification"
      ]
    },
    {
      "cell_type": "markdown",
      "metadata": {
        "id": "Nzcaiers5ewy"
      },
      "source": [
        "The [MedMNIST v2 dataset](https://medmnist.com/) is the MNIST of Medical Imaging containing a large-scale MNIST-like collection of standardized biomedical images.\n",
        "\n",
        "Can we use this dataset to generate additional synthetic images? Can we condition the data generation on a label?\n",
        "\n",
        "Let's try this in this exercise!"
      ]
    },
    {
      "cell_type": "markdown",
      "metadata": {
        "id": "m2GOZh-oXu-T"
      },
      "source": [
        "## Exercise:\n",
        "\n",
        "\n",
        "#### 1. Definition of Research Question\n",
        "We propose to explore one of the MedMNIST datasets and and define a suitable research question. This research question should contain GANs in its hypothesis and aiming towards solving a useful clinical task. Note: Normally, one would also look up the literature to see if the research question is already answered. For now, we skip this step\n",
        "\n",
        "#### 2. Definition of a Baseline for the Research Question\n",
        "To test our hypothesis, we need to gather experimental data to compare our solution against the state-of-the-art. The state-of-the-art is our baseline method.\n",
        "\n",
        "#### 3. Implementation of the Baseline\n",
        "We implement the baseline and try to do so making our code reusable for our method  (e.g. dataloaders, downstream classifer).  \n",
        "\n",
        "#### 4. Testing the Baseline and Storage of Results\n",
        "Now, we test out our baseline implementation and gather the corresponding empirical results and observe its results on our target performance metrics. Can these results be improved upon? Or, can similar results be achieved with our more e.g. privacy-preserving, interpretable, generalizable, simpler, or more environment friendly solution?\n",
        "\n",
        "#### 5. Implementation of our GAN Method\n",
        "The method we hypothesise for the clinical task at hand would need to be implemented to allow testing its usefulness.\n",
        "\n",
        "#### 6. Test of our GAN Method and Storage of Results\n",
        "Now is the time to observe whether our method/intervention yields useful results, as we can readily compare it to our  baseline.\n",
        "\n",
        "#### 7. Comparison of our Method and Baseline, Interpretration of Results\n",
        "Now that we have generated some experimental data, we can interpret our results and clearly demonstrate whether our method was useful for the clinical task. We can now reject or accept our hypothesis.\n",
        "\n",
        "#### 8. Reflective Account\n",
        "What could be the reasons why our study did or did not succeed? What do you think are the limitations of our study? What can we learn and takeaway from this exercise? How should it inform our future work? What are the next things to try?"
      ]
    },
    {
      "cell_type": "markdown",
      "metadata": {
        "id": "wUR5QlGZXu-T"
      },
      "source": [
        "# 1. Definition of a Research question"
      ]
    },
    {
      "cell_type": "markdown",
      "metadata": {
        "id": "cyYeM7EpXu-T"
      },
      "source": [
        "\n",
        "### Review of MedMNIST Datasets\n",
        "\n",
        "The MedMNIST dataset including 12 datasets for 2D and 6 datasets for 3D, in total containing 708,069 2D images and 10,214 3D images. The dataset is pre-processed into 28 x 28 (2D) or 28 x 28 x 28 (3D) images alongside the corresponding classification labels for diverse classification tasks (binary/multi-class, ordinal regression and multi-label). More information can be found in the [MedMNIST homepage](https://medmnist.com/).\n",
        "\n",
        "\n",
        "### Choice of PneumoniaMNIST Dataset for our Study\n",
        "\n",
        "We propose to use the PneumoniaMNIST dataset from MedMNIST, which contains to 5,856 chest x-rays (train: 4,708, validation: 524, test: 624). The reason for choosing this dataset is that its respective image classification task is binary (pneumonia/normal). Binary classification is likely to be simpler than multi-class classification for data augmentation purposes i.e. only two rather than multiple class-conditioned images need to be generated.\n",
        "More information on the source of the Pneumonia dataset can be found [here](https://www.sciencedirect.com/science/article/pii/S0092867418301545).\n",
        "\n",
        "\n",
        "### Definition of our Research Question\n",
        "\n",
        "We follow the clinical task defined by the dataset providers, which is the classification of resampled chest xrays to diagnose lung pneumonia.\n",
        "\n",
        "In this regard, our objective would be to maximize the performance of the classifier on the test dataset that should, in theory, resemble the real world distribution if we'd deploy our classifer into a clinical setting.\n",
        "\n",
        "Now, we could train a GAN to augment the classfier's training data, which might improve classification performance.\n",
        "\n",
        "However, the [reported performance](https://medmnist.com/) is already quite strong:\n",
        "\n",
        "**ResNet-18: AUC: 0.944, ACC: 0.854**\n",
        "\n",
        "There seems to be not that much to gain with GAN-based data augmentation (*Note: You may still try if you like*).\n",
        "\n",
        "On the other hand, privacy preservation is a topic of immense importance in medical imaging. The pneumonia chest scans are from a pediatric patient cohort that paticularly requires special data protection. We could train a GAN to generate a synthetic dataset that would likely need less privacy protection than the real data.\n",
        "\n",
        "*Note: Feel free to checkout the related topic of [differential privacy](https://ai.googleblog.com/2022/02/applying-differential-privacy-to-large.html) that provides a guarantee of privacy, among others, in neural networks.*\n",
        "\n",
        "In this sense, we can now define our hypothesis:\n",
        "\n",
        "**H1: Could we, instead of using real patient data, use only synthetic data to train our classifier and achieve comparable performance?**"
      ]
    },
    {
      "cell_type": "markdown",
      "metadata": {
        "id": "1CXDiEUCXu-T"
      },
      "source": [
        "# 2. Definition of a Baseline for the Research Question"
      ]
    },
    {
      "cell_type": "markdown",
      "metadata": {
        "id": "4icuRtmHXu-U"
      },
      "source": [
        "\n",
        "##### We can now define our baseline metrics:\n",
        "For example, a ResNet-18 trained on the real training dataset achieved AUC: 0.944 and ACC: 0.854\n",
        "\n",
        "##### We define our method:\n",
        "A simple CNN trained on a GAN-generated synthetic training dataset.\n",
        "\n",
        "You are free to change the CNN model and use another architecture (e.g.,[see baseline](https://medmnist.com/))\n",
        "\n",
        "##### How do we create the GAN-generated dataset?\n",
        "Feel free to explore any idea you have. You may try out different (un)conditional GAN architectures and loss functions. Further below you will find some optional guidance."
      ]
    },
    {
      "cell_type": "markdown",
      "metadata": {
        "id": "vJnOyIH-Xu-U"
      },
      "source": [
        "# 3. Implementation of the Baseline"
      ]
    },
    {
      "cell_type": "markdown",
      "metadata": {
        "id": "ASk-cpYEXu-U"
      },
      "source": [
        "### Getting the Data\n",
        "As always, you need access to the dataset. In this case you can download the pneumoniamnist.npz from [Zenodo](https://zenodo.org/record/5208230#.YmcLxtNBz0o). However, note that you can also access medMNIST data via the python packaging index ([pip](https://pypi.org/project/medmnist/)) or [Github](https://github.com/MedMNIST/MedMNIST) directly as pytorch dataset class.\n",
        "\n",
        "For example:"
      ]
    },
    {
      "cell_type": "code",
      "execution_count": 2,
      "metadata": {
        "colab": {
          "base_uri": "https://localhost:8080/"
        },
        "id": "g5EWQErKXu-U",
        "outputId": "ceb3469a-89e3-4aa7-a251-d9dd4d512fbe"
      },
      "outputs": [
        {
          "name": "stdout",
          "output_type": "stream",
          "text": [
            "Collecting medmnist\n",
            "  Downloading medmnist-3.0.1-py3-none-any.whl (25 kB)\n",
            "Requirement already satisfied: numpy in /usr/local/lib/python3.10/dist-packages (from medmnist) (1.25.2)\n",
            "Requirement already satisfied: pandas in /usr/local/lib/python3.10/dist-packages (from medmnist) (2.0.3)\n",
            "Requirement already satisfied: scikit-learn in /usr/local/lib/python3.10/dist-packages (from medmnist) (1.2.2)\n",
            "Requirement already satisfied: scikit-image in /usr/local/lib/python3.10/dist-packages (from medmnist) (0.19.3)\n",
            "Requirement already satisfied: tqdm in /usr/local/lib/python3.10/dist-packages (from medmnist) (4.66.2)\n",
            "Requirement already satisfied: Pillow in /usr/local/lib/python3.10/dist-packages (from medmnist) (9.4.0)\n",
            "Collecting fire (from medmnist)\n",
            "  Downloading fire-0.6.0.tar.gz (88 kB)\n",
            "\u001b[2K     \u001b[90m━━━━━━━━━━━━━━━━━━━━━━━━━━━━━━━━━━━━━━━━\u001b[0m \u001b[32m88.4/88.4 kB\u001b[0m \u001b[31m1.5 MB/s\u001b[0m eta \u001b[36m0:00:00\u001b[0m\n",
            "\u001b[?25h  Preparing metadata (setup.py) ... \u001b[?25l\u001b[?25hdone\n",
            "Requirement already satisfied: torch in /usr/local/lib/python3.10/dist-packages (from medmnist) (2.2.1+cu121)\n",
            "Requirement already satisfied: torchvision in /usr/local/lib/python3.10/dist-packages (from medmnist) (0.17.1+cu121)\n",
            "Requirement already satisfied: six in /usr/local/lib/python3.10/dist-packages (from fire->medmnist) (1.16.0)\n",
            "Requirement already satisfied: termcolor in /usr/local/lib/python3.10/dist-packages (from fire->medmnist) (2.4.0)\n",
            "Requirement already satisfied: python-dateutil>=2.8.2 in /usr/local/lib/python3.10/dist-packages (from pandas->medmnist) (2.8.2)\n",
            "Requirement already satisfied: pytz>=2020.1 in /usr/local/lib/python3.10/dist-packages (from pandas->medmnist) (2023.4)\n",
            "Requirement already satisfied: tzdata>=2022.1 in /usr/local/lib/python3.10/dist-packages (from pandas->medmnist) (2024.1)\n",
            "Requirement already satisfied: scipy>=1.4.1 in /usr/local/lib/python3.10/dist-packages (from scikit-image->medmnist) (1.11.4)\n",
            "Requirement already satisfied: networkx>=2.2 in /usr/local/lib/python3.10/dist-packages (from scikit-image->medmnist) (3.3)\n",
            "Requirement already satisfied: imageio>=2.4.1 in /usr/local/lib/python3.10/dist-packages (from scikit-image->medmnist) (2.31.6)\n",
            "Requirement already satisfied: tifffile>=2019.7.26 in /usr/local/lib/python3.10/dist-packages (from scikit-image->medmnist) (2024.2.12)\n",
            "Requirement already satisfied: PyWavelets>=1.1.1 in /usr/local/lib/python3.10/dist-packages (from scikit-image->medmnist) (1.6.0)\n",
            "Requirement already satisfied: packaging>=20.0 in /usr/local/lib/python3.10/dist-packages (from scikit-image->medmnist) (24.0)\n",
            "Requirement already satisfied: joblib>=1.1.1 in /usr/local/lib/python3.10/dist-packages (from scikit-learn->medmnist) (1.4.0)\n",
            "Requirement already satisfied: threadpoolctl>=2.0.0 in /usr/local/lib/python3.10/dist-packages (from scikit-learn->medmnist) (3.4.0)\n",
            "Requirement already satisfied: filelock in /usr/local/lib/python3.10/dist-packages (from torch->medmnist) (3.13.4)\n",
            "Requirement already satisfied: typing-extensions>=4.8.0 in /usr/local/lib/python3.10/dist-packages (from torch->medmnist) (4.11.0)\n",
            "Requirement already satisfied: sympy in /usr/local/lib/python3.10/dist-packages (from torch->medmnist) (1.12)\n",
            "Requirement already satisfied: jinja2 in /usr/local/lib/python3.10/dist-packages (from torch->medmnist) (3.1.3)\n",
            "Requirement already satisfied: fsspec in /usr/local/lib/python3.10/dist-packages (from torch->medmnist) (2023.6.0)\n",
            "Collecting nvidia-cuda-nvrtc-cu12==12.1.105 (from torch->medmnist)\n",
            "  Using cached nvidia_cuda_nvrtc_cu12-12.1.105-py3-none-manylinux1_x86_64.whl (23.7 MB)\n",
            "Collecting nvidia-cuda-runtime-cu12==12.1.105 (from torch->medmnist)\n",
            "  Using cached nvidia_cuda_runtime_cu12-12.1.105-py3-none-manylinux1_x86_64.whl (823 kB)\n",
            "Collecting nvidia-cuda-cupti-cu12==12.1.105 (from torch->medmnist)\n",
            "  Using cached nvidia_cuda_cupti_cu12-12.1.105-py3-none-manylinux1_x86_64.whl (14.1 MB)\n",
            "Collecting nvidia-cudnn-cu12==8.9.2.26 (from torch->medmnist)\n",
            "  Using cached nvidia_cudnn_cu12-8.9.2.26-py3-none-manylinux1_x86_64.whl (731.7 MB)\n",
            "Collecting nvidia-cublas-cu12==12.1.3.1 (from torch->medmnist)\n",
            "  Using cached nvidia_cublas_cu12-12.1.3.1-py3-none-manylinux1_x86_64.whl (410.6 MB)\n",
            "Collecting nvidia-cufft-cu12==11.0.2.54 (from torch->medmnist)\n",
            "  Using cached nvidia_cufft_cu12-11.0.2.54-py3-none-manylinux1_x86_64.whl (121.6 MB)\n",
            "Collecting nvidia-curand-cu12==10.3.2.106 (from torch->medmnist)\n",
            "  Using cached nvidia_curand_cu12-10.3.2.106-py3-none-manylinux1_x86_64.whl (56.5 MB)\n",
            "Collecting nvidia-cusolver-cu12==11.4.5.107 (from torch->medmnist)\n",
            "  Using cached nvidia_cusolver_cu12-11.4.5.107-py3-none-manylinux1_x86_64.whl (124.2 MB)\n",
            "Collecting nvidia-cusparse-cu12==12.1.0.106 (from torch->medmnist)\n",
            "  Using cached nvidia_cusparse_cu12-12.1.0.106-py3-none-manylinux1_x86_64.whl (196.0 MB)\n",
            "Collecting nvidia-nccl-cu12==2.19.3 (from torch->medmnist)\n",
            "  Using cached nvidia_nccl_cu12-2.19.3-py3-none-manylinux1_x86_64.whl (166.0 MB)\n",
            "Collecting nvidia-nvtx-cu12==12.1.105 (from torch->medmnist)\n",
            "  Using cached nvidia_nvtx_cu12-12.1.105-py3-none-manylinux1_x86_64.whl (99 kB)\n",
            "Requirement already satisfied: triton==2.2.0 in /usr/local/lib/python3.10/dist-packages (from torch->medmnist) (2.2.0)\n",
            "Collecting nvidia-nvjitlink-cu12 (from nvidia-cusolver-cu12==11.4.5.107->torch->medmnist)\n",
            "  Using cached nvidia_nvjitlink_cu12-12.4.127-py3-none-manylinux2014_x86_64.whl (21.1 MB)\n",
            "Requirement already satisfied: MarkupSafe>=2.0 in /usr/local/lib/python3.10/dist-packages (from jinja2->torch->medmnist) (2.1.5)\n",
            "Requirement already satisfied: mpmath>=0.19 in /usr/local/lib/python3.10/dist-packages (from sympy->torch->medmnist) (1.3.0)\n",
            "Building wheels for collected packages: fire\n",
            "  Building wheel for fire (setup.py) ... \u001b[?25l\u001b[?25hdone\n",
            "  Created wheel for fire: filename=fire-0.6.0-py2.py3-none-any.whl size=117029 sha256=425cce08ce1424379f01101f3cbe685752b796585da10c6178d62ce452cccaa7\n",
            "  Stored in directory: /root/.cache/pip/wheels/d6/6d/5d/5b73fa0f46d01a793713f8859201361e9e581ced8c75e5c6a3\n",
            "Successfully built fire\n",
            "Installing collected packages: nvidia-nvtx-cu12, nvidia-nvjitlink-cu12, nvidia-nccl-cu12, nvidia-curand-cu12, nvidia-cufft-cu12, nvidia-cuda-runtime-cu12, nvidia-cuda-nvrtc-cu12, nvidia-cuda-cupti-cu12, nvidia-cublas-cu12, fire, nvidia-cusparse-cu12, nvidia-cudnn-cu12, nvidia-cusolver-cu12, medmnist\n",
            "Successfully installed fire-0.6.0 medmnist-3.0.1 nvidia-cublas-cu12-12.1.3.1 nvidia-cuda-cupti-cu12-12.1.105 nvidia-cuda-nvrtc-cu12-12.1.105 nvidia-cuda-runtime-cu12-12.1.105 nvidia-cudnn-cu12-8.9.2.26 nvidia-cufft-cu12-11.0.2.54 nvidia-curand-cu12-10.3.2.106 nvidia-cusolver-cu12-11.4.5.107 nvidia-cusparse-cu12-12.1.0.106 nvidia-nccl-cu12-2.19.3 nvidia-nvjitlink-cu12-12.4.127 nvidia-nvtx-cu12-12.1.105\n"
          ]
        }
      ],
      "source": [
        "!pip3 install medmnist"
      ]
    },
    {
      "cell_type": "code",
      "execution_count": 3,
      "metadata": {
        "id": "NOEtrbkPXu-V"
      },
      "outputs": [],
      "source": [
        "import medmnist\n",
        "from medmnist import INFO, Evaluator\n",
        "info = INFO['pneumoniamnist']\n",
        "DataClass = getattr(medmnist, info['python_class'])\n",
        "\n",
        "task = info['task']\n",
        "n_channels = info['n_channels']\n",
        "n_classes = len(info['label'])"
      ]
    },
    {
      "cell_type": "markdown",
      "metadata": {
        "id": "q6wJRIfdXu-V"
      },
      "source": [
        "Let's further explore the dataset. We can start by printing dataset info and checking the label distribution."
      ]
    },
    {
      "cell_type": "code",
      "execution_count": 4,
      "metadata": {
        "colab": {
          "base_uri": "https://localhost:8080/"
        },
        "id": "md0Cw25tXu-V",
        "outputId": "84585b90-5db3-478c-9b70-1ffe11115bfa"
      },
      "outputs": [
        {
          "name": "stdout",
          "output_type": "stream",
          "text": [
            "Downloading https://zenodo.org/records/10519652/files/pneumoniamnist.npz?download=1 to /root/.medmnist/pneumoniamnist.npz\n"
          ]
        },
        {
          "name": "stderr",
          "output_type": "stream",
          "text": [
            "100%|██████████| 4170669/4170669 [00:00<00:00, 4980061.50it/s]\n"
          ]
        },
        {
          "name": "stdout",
          "output_type": "stream",
          "text": [
            "Dataset PneumoniaMNIST of size 28 (pneumoniamnist)\n",
            "    Number of datapoints: 4708\n",
            "    Root location: /root/.medmnist\n",
            "    Split: train\n",
            "    Task: binary-class\n",
            "    Number of channels: 1\n",
            "    Meaning of labels: {'0': 'normal', '1': 'pneumonia'}\n",
            "    Number of samples: {'train': 4708, 'val': 524, 'test': 624}\n",
            "    Description: The PneumoniaMNIST is based on a prior dataset of 5,856 pediatric chest X-Ray images. The task is binary-class classification of pneumonia against normal. We split the source training set with a ratio of 9:1 into training and validation set and use its source validation set as the test set. The source images are gray-scale, and their sizes are (384−2,916)×(127−2,713). We center-crop the images and resize them into 1×28×28.\n",
            "    License: CC BY 4.0\n"
          ]
        }
      ],
      "source": [
        "# Download the dataset\n",
        "train_dataset = DataClass(split='train', download=True)\n",
        "\n",
        "# Print dataset information\n",
        "print(train_dataset)"
      ]
    },
    {
      "cell_type": "code",
      "execution_count": 5,
      "metadata": {
        "colab": {
          "base_uri": "https://localhost:8080/"
        },
        "id": "oCOdLpZ1Xu-V",
        "outputId": "67fcb30a-23dd-470d-df99-a3d699fb86fa"
      },
      "outputs": [
        {
          "name": "stderr",
          "output_type": "stream",
          "text": [
            "<ipython-input-5-515e94852988>:4: DeprecationWarning: Conversion of an array with ndim > 0 to a scalar is deprecated, and will error in future. Ensure you extract a single element from your array before performing this operation. (Deprecated NumPy 1.25.)\n",
            "  train_classes = [float(label) for _, label in train_dataset]\n"
          ]
        },
        {
          "name": "stdout",
          "output_type": "stream",
          "text": [
            "{1.0: 3494, 0.0: 1214}\n"
          ]
        }
      ],
      "source": [
        "from collections import Counter\n",
        "\n",
        "# Check the training label distribution\n",
        "train_classes = [float(label) for _, label in train_dataset]\n",
        "print (dict(Counter(train_classes)))"
      ]
    },
    {
      "cell_type": "code",
      "execution_count": 6,
      "metadata": {
        "colab": {
          "base_uri": "https://localhost:8080/",
          "height": 632
        },
        "id": "0ccDi-ElXu-V",
        "outputId": "411da09a-988c-4ab7-b712-c9fa08754b00"
      },
      "outputs": [
        {
          "name": "stderr",
          "output_type": "stream",
          "text": [
            "/usr/local/lib/python3.10/dist-packages/medmnist/utils.py:32: FutureWarning: `multichannel` is a deprecated argument name for `montage`. It will be removed in version 1.0. Please use `channel_axis` instead.\n",
            "  montage_arr = skimage_montage(sel_img, multichannel=(n_channels == 3))\n"
          ]
        },
        {
          "data": {
            "image/png": "[encoded data removed]",
            "text/plain": [
              "<PIL.Image.Image image mode=L size=560x560>"
            ]
          },
          "execution_count": 6,
          "metadata": {},
          "output_type": "execute_result"
        }
      ],
      "source": [
        "# Let's have a look at some of the training images.\n",
        "train_dataset.montage(length=20)"
      ]
    },
    {
      "cell_type": "code",
      "execution_count": 7,
      "metadata": {
        "colab": {
          "base_uri": "https://localhost:8080/",
          "height": 304
        },
        "id": "xHlf0HtzXu-V",
        "outputId": "5b9bc3a3-d7f3-4c69-b852-26c6d22d8daa"
      },
      "outputs": [
        {
          "data": {
            "text/plain": [
              "<matplotlib.image.AxesImage at 0x7dba704d4fa0>"
            ]
          },
          "execution_count": 7,
          "metadata": {},
          "output_type": "execute_result"
        },
        {
          "data": {
            "image/png": "[encoded data removed]",
            "text/plain": [
              "<Figure size 640x480 with 2 Axes>"
            ]
          },
          "metadata": {},
          "output_type": "display_data"
        }
      ],
      "source": [
        "# Let's visually compare pneumial vs. healthy thoraic xray\n",
        "# 0: normal, 1: pneumonia\n",
        "import matplotlib.pyplot as plt\n",
        "fig, ax = plt.subplots(1,2)\n",
        "ax[0].imshow(train_dataset[0][0], cmap='gray') # pneumonia\n",
        "ax[1].imshow(train_dataset[200][0],cmap='gray') # normal"
      ]
    },
    {
      "cell_type": "markdown",
      "metadata": {
        "id": "IAg7yQV2Xu-V"
      },
      "source": [
        "### Baseline Model Implementation\n",
        "To implement the baseline, we start with the [medMNIST github](https://github.com/MedMNIST/MedMNIST), where we can find a [Pytorch getting started notebook](https://github.com/MedMNIST/MedMNIST/blob/main/examples/getting_started.ipynb)."
      ]
    },
    {
      "cell_type": "code",
      "execution_count": 8,
      "metadata": {
        "id": "IEHtOh3IXu-V"
      },
      "outputs": [],
      "source": [
        "# We define a simple CNN model for pneumonia classification\n",
        "from torch import nn\n",
        "\n",
        "class Net(nn.Module):\n",
        "    def __init__(self, in_channels, num_classes):\n",
        "        super(Net, self).__init__()\n",
        "\n",
        "        self.layer1 = nn.Sequential(\n",
        "            nn.Conv2d(in_channels, 16, kernel_size=3),\n",
        "            nn.BatchNorm2d(16),\n",
        "            nn.ReLU())\n",
        "\n",
        "        self.layer2 = nn.Sequential(\n",
        "            nn.Conv2d(16, 16, kernel_size=3),\n",
        "            nn.BatchNorm2d(16),\n",
        "            nn.ReLU(),\n",
        "            nn.MaxPool2d(kernel_size=2, stride=2))\n",
        "\n",
        "        self.layer3 = nn.Sequential(\n",
        "            nn.Conv2d(16, 64, kernel_size=3),\n",
        "            nn.BatchNorm2d(64),\n",
        "            nn.ReLU())\n",
        "\n",
        "        self.layer4 = nn.Sequential(\n",
        "            nn.Conv2d(64, 64, kernel_size=3),\n",
        "            nn.BatchNorm2d(64),\n",
        "            nn.ReLU())\n",
        "\n",
        "        self.layer5 = nn.Sequential(\n",
        "            nn.Conv2d(64, 64, kernel_size=3, padding=1),\n",
        "            nn.BatchNorm2d(64),\n",
        "            nn.ReLU(),\n",
        "            nn.MaxPool2d(kernel_size=2, stride=2))\n",
        "\n",
        "        self.fc = nn.Sequential(\n",
        "            nn.Linear(64 * 4 * 4, 128),\n",
        "            nn.ReLU(),\n",
        "            nn.Linear(128, 128),\n",
        "            nn.ReLU(),\n",
        "            nn.Linear(128, num_classes-1)) # -1 if we use binary CLF\n",
        "\n",
        "    def forward(self, x):\n",
        "        x = self.layer1(x)\n",
        "        x = self.layer2(x)\n",
        "        x = self.layer3(x)\n",
        "        x = self.layer4(x)\n",
        "        x = self.layer5(x)\n",
        "        x = x.view(x.size(0), -1)\n",
        "        x = self.fc(x)\n",
        "        return x"
      ]
    },
    {
      "cell_type": "markdown",
      "metadata": {
        "id": "NlkAgVEEXu-W"
      },
      "source": [
        "Initialization of model, criterion and optimizer"
      ]
    },
    {
      "cell_type": "code",
      "execution_count": 9,
      "metadata": {
        "id": "jswE6XqlXu-W"
      },
      "outputs": [],
      "source": [
        "from torch import optim\n",
        "\n",
        "lr = 0.001\n",
        "\n",
        "model_base = Net(in_channels=n_channels, num_classes=n_classes)\n",
        "\n",
        "# define loss function and optimizer\n",
        "criterion = nn.BCEWithLogitsLoss()\n",
        "\n",
        "optimizer = optim.SGD(model_base.parameters(), lr=lr, momentum=0.9)\n"
      ]
    },
    {
      "cell_type": "markdown",
      "metadata": {
        "id": "kIKOQ-8iXu-W"
      },
      "source": [
        "# 4. Testing the Baseline and Storage of Results\n"
      ]
    },
    {
      "cell_type": "markdown",
      "metadata": {
        "id": "J52H41AmXu-W"
      },
      "source": [
        "Defining hyperparameters and splitting of the dataset into test, validation, train."
      ]
    },
    {
      "cell_type": "code",
      "execution_count": 10,
      "metadata": {
        "id": "05hsPFfgXu-W"
      },
      "outputs": [],
      "source": [
        "data_flag = 'pneumoniamnist'\n",
        "download = True  #  set to False if already loaded\n",
        "\n",
        "NUM_EPOCHS = 5\n",
        "BATCH_SIZE = 128\n",
        "#lr = 0.001\n",
        "\n",
        "info = INFO[data_flag]\n",
        "#task = info['task']\n",
        "#n_channels = info['n_channels']\n",
        "#n_classes = len(info['label'])\n",
        "\n",
        "DataClass = getattr(medmnist, info['python_class'])"
      ]
    },
    {
      "cell_type": "code",
      "execution_count": 11,
      "metadata": {
        "colab": {
          "base_uri": "https://localhost:8080/"
        },
        "id": "uTFrqEivXu-W",
        "outputId": "c6e4b1e4-a629-44c5-f059-70b6e0e6e861"
      },
      "outputs": [
        {
          "name": "stdout",
          "output_type": "stream",
          "text": [
            "Using downloaded and verified file: /root/.medmnist/pneumoniamnist.npz\n",
            "Using downloaded and verified file: /root/.medmnist/pneumoniamnist.npz\n",
            "Using downloaded and verified file: /root/.medmnist/pneumoniamnist.npz\n"
          ]
        }
      ],
      "source": [
        "from torchvision import transforms, utils\n",
        "from torch.utils.data import DataLoader, Dataset\n",
        "\n",
        "# preprocessing\n",
        "data_transform = transforms.Compose([\n",
        "    transforms.ToTensor(),\n",
        "    transforms.Normalize(mean=[.5], std=[.5])\n",
        "])\n",
        "\n",
        "# load the data\n",
        "train_dataset = DataClass(split='train', transform=data_transform, download=download)\n",
        "val_dataset = DataClass(split='val', transform=data_transform, download=download)\n",
        "test_dataset = DataClass(split='test', transform=data_transform, download=download)\n",
        "\n",
        "# ingest torch datasets data into torch dataloader\n",
        "train_loader = DataLoader(dataset=train_dataset, batch_size=BATCH_SIZE, shuffle=True)\n",
        "train_loader_at_eval = DataLoader(dataset=train_dataset, batch_size=2*BATCH_SIZE, shuffle=False)\n",
        "val_loader = DataLoader(dataset=val_dataset, batch_size=2*BATCH_SIZE, shuffle=False)\n",
        "test_loader = DataLoader(dataset=test_dataset, batch_size=2*BATCH_SIZE, shuffle=False)"
      ]
    },
    {
      "cell_type": "markdown",
      "metadata": {
        "id": "JUV_KtOzXu-W"
      },
      "source": [
        "Defining evaluation metrics such as the area under the receiver operating characteristic curve (AUROC) and the accuracy (ACC)."
      ]
    },
    {
      "cell_type": "code",
      "execution_count": 12,
      "metadata": {
        "id": "vSpGX4gDXu-W"
      },
      "outputs": [],
      "source": [
        "def getAUC(y_true, y_score, task):\n",
        "    '''AUC metric.\n",
        "    :param y_true: the ground truth labels, shape: (n_samples, n_labels) or (n_samples,) if n_labels==1\n",
        "    :param y_score: the predicted score of each class,\n",
        "    shape: (n_samples, n_labels) or (n_samples, n_classes) or (n_samples,) if n_labels==1 or n_classes==1\n",
        "    :param task: the task of current dataset\n",
        "    '''\n",
        "    y_true = y_true.squeeze()\n",
        "    y_score = y_score.squeeze()\n",
        "\n",
        "    if task == 'multi-label, binary-class':\n",
        "        auc = 0\n",
        "        for i in range(y_score.shape[1]):\n",
        "            label_auc = roc_auc_score(y_true[:, i], y_score[:, i])\n",
        "            auc += label_auc\n",
        "        ret = auc / y_score.shape[1]\n",
        "    elif task == 'binary-class':\n",
        "        if y_score.ndim == 2:\n",
        "            y_score = y_score[:, -1]\n",
        "        else:\n",
        "            assert y_score.ndim == 1\n",
        "        ret = roc_auc_score(y_true, y_score)\n",
        "    else:\n",
        "        auc = 0\n",
        "        for i in range(y_score.shape[1]):\n",
        "            y_true_binary = (y_true == i).astype(float)\n",
        "            y_score_binary = y_score[:, i]\n",
        "            auc += roc_auc_score(y_true_binary, y_score_binary)\n",
        "        ret = auc / y_score.shape[1]\n",
        "\n",
        "    return ret\n",
        "\n",
        "def getACC(y_true, y_score, task, threshold=0.5):\n",
        "    '''Accuracy metric.\n",
        "    :param y_true: the ground truth labels, shape: (n_samples, n_labels) or (n_samples,) if n_labels==1\n",
        "    :param y_score: the predicted score of each class,\n",
        "    shape: (n_samples, n_labels) or (n_samples, n_classes) or (n_samples,) if n_labels==1 or n_classes==1\n",
        "    :param task: the task of current dataset\n",
        "    :param threshold: the threshold for multilabel and binary-class tasks\n",
        "    '''\n",
        "    y_true = y_true.squeeze()\n",
        "    y_score = y_score.squeeze()\n",
        "\n",
        "    if task == 'multi-label, binary-class':\n",
        "        y_pre = y_score > threshold\n",
        "        acc = 0\n",
        "        for label in range(y_true.shape[1]):\n",
        "            label_acc = accuracy_score(y_true[:, label], y_pre[:, label])\n",
        "            acc += label_acc\n",
        "        ret = acc / y_true.shape[1]\n",
        "    elif task == 'binary-class':\n",
        "        if y_score.ndim == 2:\n",
        "            y_score = y_score[:, -1]\n",
        "        else:\n",
        "            assert y_score.ndim == 1\n",
        "        ret = accuracy_score(y_true, y_score > threshold)\n",
        "    else:\n",
        "        ret = accuracy_score(y_true, np.argmax(y_score, axis=-1))\n",
        "\n",
        "    return ret"
      ]
    },
    {
      "cell_type": "markdown",
      "metadata": {
        "id": "awXFNXniXu-W"
      },
      "source": [
        "Training the baseline pneumonia classification model."
      ]
    },
    {
      "cell_type": "code",
      "execution_count": 19,
      "metadata": {
        "colab": {
          "base_uri": "https://localhost:8080/"
        },
        "id": "7sZ9hJaRXu-W",
        "outputId": "01986e28-ef10-48e4-94a9-4aaf6d07b34f"
      },
      "outputs": [
        {
          "name": "stderr",
          "output_type": "stream",
          "text": [
            "  3%|▎         | 1/37 [00:00<00:07,  4.97it/s]"
          ]
        },
        {
          "name": "stdout",
          "output_type": "stream",
          "text": [
            "torch.Size([128, 1])\n",
            "torch.Size([128, 1])\n"
          ]
        },
        {
          "name": "stderr",
          "output_type": "stream",
          "text": [
            "\r  5%|▌         | 2/37 [00:00<00:07,  4.84it/s]"
          ]
        },
        {
          "name": "stdout",
          "output_type": "stream",
          "text": [
            "torch.Size([128, 1])\n",
            "torch.Size([128, 1])\n"
          ]
        },
        {
          "name": "stderr",
          "output_type": "stream",
          "text": [
            "\r  8%|▊         | 3/37 [00:00<00:07,  4.77it/s]"
          ]
        },
        {
          "name": "stdout",
          "output_type": "stream",
          "text": [
            "torch.Size([128, 1])\n",
            "torch.Size([128, 1])\n"
          ]
        },
        {
          "name": "stderr",
          "output_type": "stream",
          "text": [
            "\r 11%|█         | 4/37 [00:00<00:06,  4.77it/s]"
          ]
        },
        {
          "name": "stdout",
          "output_type": "stream",
          "text": [
            "torch.Size([128, 1])\n",
            "torch.Size([128, 1])\n"
          ]
        },
        {
          "name": "stderr",
          "output_type": "stream",
          "text": [
            "\r 14%|█▎        | 5/37 [00:01<00:06,  4.89it/s]"
          ]
        },
        {
          "name": "stdout",
          "output_type": "stream",
          "text": [
            "torch.Size([128, 1])\n",
            "torch.Size([128, 1])\n",
            "torch.Size([128, 1])\n",
            "torch.Size([128, 1])\n"
          ]
        },
        {
          "name": "stderr",
          "output_type": "stream",
          "text": [
            " 19%|█▉        | 7/37 [00:01<00:06,  4.92it/s]"
          ]
        },
        {
          "name": "stdout",
          "output_type": "stream",
          "text": [
            "torch.Size([128, 1])\n",
            "torch.Size([128, 1])\n"
          ]
        },
        {
          "name": "stderr",
          "output_type": "stream",
          "text": [
            "\r 22%|██▏       | 8/37 [00:01<00:05,  4.91it/s]"
          ]
        },
        {
          "name": "stdout",
          "output_type": "stream",
          "text": [
            "torch.Size([128, 1])\n",
            "torch.Size([128, 1])\n"
          ]
        },
        {
          "name": "stderr",
          "output_type": "stream",
          "text": [
            "\r 24%|██▍       | 9/37 [00:01<00:05,  4.84it/s]"
          ]
        },
        {
          "name": "stdout",
          "output_type": "stream",
          "text": [
            "torch.Size([128, 1])\n",
            "torch.Size([128, 1])\n"
          ]
        },
        {
          "name": "stderr",
          "output_type": "stream",
          "text": [
            "\r 27%|██▋       | 10/37 [00:02<00:05,  4.83it/s]"
          ]
        },
        {
          "name": "stdout",
          "output_type": "stream",
          "text": [
            "torch.Size([128, 1])\n",
            "torch.Size([128, 1])\n"
          ]
        },
        {
          "name": "stderr",
          "output_type": "stream",
          "text": [
            "\r 30%|██▉       | 11/37 [00:02<00:05,  4.87it/s]"
          ]
        },
        {
          "name": "stdout",
          "output_type": "stream",
          "text": [
            "torch.Size([128, 1])\n",
            "torch.Size([128, 1])\n",
            "torch.Size([128, 1])\n",
            "torch.Size([128, 1])\n"
          ]
        },
        {
          "name": "stderr",
          "output_type": "stream",
          "text": [
            " 35%|███▌      | 13/37 [00:02<00:04,  4.88it/s]"
          ]
        },
        {
          "name": "stdout",
          "output_type": "stream",
          "text": [
            "torch.Size([128, 1])\n",
            "torch.Size([128, 1])\n"
          ]
        },
        {
          "name": "stderr",
          "output_type": "stream",
          "text": [
            "\r 38%|███▊      | 14/37 [00:02<00:04,  4.83it/s]"
          ]
        },
        {
          "name": "stdout",
          "output_type": "stream",
          "text": [
            "torch.Size([128, 1])\n",
            "torch.Size([128, 1])\n"
          ]
        },
        {
          "name": "stderr",
          "output_type": "stream",
          "text": [
            "\r 41%|████      | 15/37 [00:03<00:04,  4.82it/s]"
          ]
        },
        {
          "name": "stdout",
          "output_type": "stream",
          "text": [
            "torch.Size([128, 1])\n",
            "torch.Size([128, 1])\n",
            "torch.Size([128, 1])\n",
            "torch.Size([128, 1])\n"
          ]
        },
        {
          "name": "stderr",
          "output_type": "stream",
          "text": [
            " 46%|████▌     | 17/37 [00:03<00:04,  4.94it/s]"
          ]
        },
        {
          "name": "stdout",
          "output_type": "stream",
          "text": [
            "torch.Size([128, 1])\n",
            "torch.Size([128, 1])\n",
            "torch.Size([128, 1])\n",
            "torch.Size([128, 1])\n"
          ]
        },
        {
          "name": "stderr",
          "output_type": "stream",
          "text": [
            " 51%|█████▏    | 19/37 [00:03<00:03,  5.03it/s]"
          ]
        },
        {
          "name": "stdout",
          "output_type": "stream",
          "text": [
            "torch.Size([128, 1])\n",
            "torch.Size([128, 1])\n"
          ]
        },
        {
          "name": "stderr",
          "output_type": "stream",
          "text": [
            "\r 54%|█████▍    | 20/37 [00:04<00:03,  4.93it/s]"
          ]
        },
        {
          "name": "stdout",
          "output_type": "stream",
          "text": [
            "torch.Size([128, 1])\n",
            "torch.Size([128, 1])\n"
          ]
        },
        {
          "name": "stderr",
          "output_type": "stream",
          "text": [
            "\r 57%|█████▋    | 21/37 [00:04<00:03,  4.95it/s]"
          ]
        },
        {
          "name": "stdout",
          "output_type": "stream",
          "text": [
            "torch.Size([128, 1])\n",
            "torch.Size([128, 1])\n",
            "torch.Size([128, 1])\n",
            "torch.Size([128, 1])\n"
          ]
        },
        {
          "name": "stderr",
          "output_type": "stream",
          "text": [
            " 62%|██████▏   | 23/37 [00:04<00:02,  4.98it/s]"
          ]
        },
        {
          "name": "stdout",
          "output_type": "stream",
          "text": [
            "torch.Size([128, 1])\n",
            "torch.Size([128, 1])\n",
            "torch.Size([128, 1])\n",
            "torch.Size([128, 1])\n"
          ]
        },
        {
          "name": "stderr",
          "output_type": "stream",
          "text": [
            " 68%|██████▊   | 25/37 [00:05<00:02,  4.91it/s]"
          ]
        },
        {
          "name": "stdout",
          "output_type": "stream",
          "text": [
            "torch.Size([128, 1])\n",
            "torch.Size([128, 1])\n"
          ]
        },
        {
          "name": "stderr",
          "output_type": "stream",
          "text": [
            "\r 70%|███████   | 26/37 [00:05<00:02,  4.98it/s]"
          ]
        },
        {
          "name": "stdout",
          "output_type": "stream",
          "text": [
            "torch.Size([128, 1])\n",
            "torch.Size([128, 1])\n",
            "torch.Size([128, 1])\n",
            "torch.Size([128, 1])\n"
          ]
        },
        {
          "name": "stderr",
          "output_type": "stream",
          "text": [
            " 76%|███████▌  | 28/37 [00:05<00:01,  4.99it/s]"
          ]
        },
        {
          "name": "stdout",
          "output_type": "stream",
          "text": [
            "torch.Size([128, 1])\n",
            "torch.Size([128, 1])\n",
            "torch.Size([128, 1])\n",
            "torch.Size([128, 1])\n"
          ]
        },
        {
          "name": "stderr",
          "output_type": "stream",
          "text": [
            " 81%|████████  | 30/37 [00:06<00:01,  4.87it/s]"
          ]
        },
        {
          "name": "stdout",
          "output_type": "stream",
          "text": [
            "torch.Size([128, 1])\n",
            "torch.Size([128, 1])\n",
            "torch.Size([128, 1])\n",
            "torch.Size([128, 1])\n"
          ]
        },
        {
          "name": "stderr",
          "output_type": "stream",
          "text": [
            " 86%|████████▋ | 32/37 [00:06<00:01,  4.97it/s]"
          ]
        },
        {
          "name": "stdout",
          "output_type": "stream",
          "text": [
            "torch.Size([128, 1])\n",
            "torch.Size([128, 1])\n",
            "torch.Size([128, 1])\n",
            "torch.Size([128, 1])\n"
          ]
        },
        {
          "name": "stderr",
          "output_type": "stream",
          "text": [
            " 92%|█████████▏| 34/37 [00:06<00:00,  4.94it/s]"
          ]
        },
        {
          "name": "stdout",
          "output_type": "stream",
          "text": [
            "torch.Size([128, 1])\n",
            "torch.Size([128, 1])\n"
          ]
        },
        {
          "name": "stderr",
          "output_type": "stream",
          "text": [
            "\r 95%|█████████▍| 35/37 [00:07<00:00,  4.67it/s]"
          ]
        },
        {
          "name": "stdout",
          "output_type": "stream",
          "text": [
            "torch.Size([128, 1])\n",
            "torch.Size([128, 1])\n"
          ]
        },
        {
          "name": "stderr",
          "output_type": "stream",
          "text": [
            "\r 97%|█████████▋| 36/37 [00:07<00:00,  4.73it/s]"
          ]
        },
        {
          "name": "stdout",
          "output_type": "stream",
          "text": [
            "torch.Size([128, 1])\n",
            "torch.Size([128, 1])\n",
            "torch.Size([100, 1])\n",
            "torch.Size([100, 1])\n"
          ]
        },
        {
          "name": "stderr",
          "output_type": "stream",
          "text": [
            "100%|██████████| 37/37 [00:07<00:00,  4.93it/s]\n",
            "  3%|▎         | 1/37 [00:00<00:07,  5.03it/s]"
          ]
        },
        {
          "name": "stdout",
          "output_type": "stream",
          "text": [
            "torch.Size([128, 1])\n",
            "torch.Size([128, 1])\n",
            "torch.Size([128, 1])\n",
            "torch.Size([128, 1])\n"
          ]
        },
        {
          "name": "stderr",
          "output_type": "stream",
          "text": [
            "  8%|▊         | 3/37 [00:00<00:07,  4.77it/s]"
          ]
        },
        {
          "name": "stdout",
          "output_type": "stream",
          "text": [
            "torch.Size([128, 1])\n",
            "torch.Size([128, 1])\n"
          ]
        },
        {
          "name": "stderr",
          "output_type": "stream",
          "text": [
            "\r 11%|█         | 4/37 [00:00<00:06,  4.82it/s]"
          ]
        },
        {
          "name": "stdout",
          "output_type": "stream",
          "text": [
            "torch.Size([128, 1])\n",
            "torch.Size([128, 1])\n"
          ]
        },
        {
          "name": "stderr",
          "output_type": "stream",
          "text": [
            "\r 14%|█▎        | 5/37 [00:01<00:06,  4.85it/s]"
          ]
        },
        {
          "name": "stdout",
          "output_type": "stream",
          "text": [
            "torch.Size([128, 1])\n",
            "torch.Size([128, 1])\n",
            "torch.Size([128, 1])\n",
            "torch.Size([128, 1])\n"
          ]
        },
        {
          "name": "stderr",
          "output_type": "stream",
          "text": [
            " 19%|█▉        | 7/37 [00:01<00:06,  4.93it/s]"
          ]
        },
        {
          "name": "stdout",
          "output_type": "stream",
          "text": [
            "torch.Size([128, 1])\n",
            "torch.Size([128, 1])\n"
          ]
        },
        {
          "name": "stderr",
          "output_type": "stream",
          "text": [
            "\r 22%|██▏       | 8/37 [00:01<00:06,  4.33it/s]"
          ]
        },
        {
          "name": "stdout",
          "output_type": "stream",
          "text": [
            "torch.Size([128, 1])\n",
            "torch.Size([128, 1])\n"
          ]
        },
        {
          "name": "stderr",
          "output_type": "stream",
          "text": [
            "\r 24%|██▍       | 9/37 [00:02<00:06,  4.00it/s]"
          ]
        },
        {
          "name": "stdout",
          "output_type": "stream",
          "text": [
            "torch.Size([128, 1])\n",
            "torch.Size([128, 1])\n"
          ]
        },
        {
          "name": "stderr",
          "output_type": "stream",
          "text": [
            "\r 27%|██▋       | 10/37 [00:02<00:07,  3.71it/s]"
          ]
        },
        {
          "name": "stdout",
          "output_type": "stream",
          "text": [
            "torch.Size([128, 1])\n",
            "torch.Size([128, 1])\n"
          ]
        },
        {
          "name": "stderr",
          "output_type": "stream",
          "text": [
            "\r 30%|██▉       | 11/37 [00:02<00:07,  3.53it/s]"
          ]
        },
        {
          "name": "stdout",
          "output_type": "stream",
          "text": [
            "torch.Size([128, 1])\n",
            "torch.Size([128, 1])\n"
          ]
        },
        {
          "name": "stderr",
          "output_type": "stream",
          "text": [
            "\r 32%|███▏      | 12/37 [00:02<00:07,  3.45it/s]"
          ]
        },
        {
          "name": "stdout",
          "output_type": "stream",
          "text": [
            "torch.Size([128, 1])\n",
            "torch.Size([128, 1])\n"
          ]
        },
        {
          "name": "stderr",
          "output_type": "stream",
          "text": [
            "\r 35%|███▌      | 13/37 [00:03<00:07,  3.41it/s]"
          ]
        },
        {
          "name": "stdout",
          "output_type": "stream",
          "text": [
            "torch.Size([128, 1])\n",
            "torch.Size([128, 1])\n"
          ]
        },
        {
          "name": "stderr",
          "output_type": "stream",
          "text": [
            "\r 38%|███▊      | 14/37 [00:03<00:06,  3.31it/s]"
          ]
        },
        {
          "name": "stdout",
          "output_type": "stream",
          "text": [
            "torch.Size([128, 1])\n",
            "torch.Size([128, 1])\n"
          ]
        },
        {
          "name": "stderr",
          "output_type": "stream",
          "text": [
            "\r 41%|████      | 15/37 [00:03<00:06,  3.22it/s]"
          ]
        },
        {
          "name": "stdout",
          "output_type": "stream",
          "text": [
            "torch.Size([128, 1])\n",
            "torch.Size([128, 1])\n"
          ]
        },
        {
          "name": "stderr",
          "output_type": "stream",
          "text": [
            "\r 43%|████▎     | 16/37 [00:04<00:06,  3.41it/s]"
          ]
        },
        {
          "name": "stdout",
          "output_type": "stream",
          "text": [
            "torch.Size([128, 1])\n",
            "torch.Size([128, 1])\n",
            "torch.Size([128, 1])\n",
            "torch.Size([128, 1])\n"
          ]
        },
        {
          "name": "stderr",
          "output_type": "stream",
          "text": [
            " 49%|████▊     | 18/37 [00:04<00:04,  4.04it/s]"
          ]
        },
        {
          "name": "stdout",
          "output_type": "stream",
          "text": [
            "torch.Size([128, 1])\n",
            "torch.Size([128, 1])\n",
            "torch.Size([128, 1])\n",
            "torch.Size([128, 1])\n"
          ]
        },
        {
          "name": "stderr",
          "output_type": "stream",
          "text": [
            " 54%|█████▍    | 20/37 [00:04<00:03,  4.33it/s]"
          ]
        },
        {
          "name": "stdout",
          "output_type": "stream",
          "text": [
            "torch.Size([128, 1])\n",
            "torch.Size([128, 1])\n"
          ]
        },
        {
          "name": "stderr",
          "output_type": "stream",
          "text": [
            "\r 57%|█████▋    | 21/37 [00:05<00:03,  4.48it/s]"
          ]
        },
        {
          "name": "stdout",
          "output_type": "stream",
          "text": [
            "torch.Size([128, 1])\n",
            "torch.Size([128, 1])\n",
            "torch.Size([128, 1])\n",
            "torch.Size([128, 1])\n"
          ]
        },
        {
          "name": "stderr",
          "output_type": "stream",
          "text": [
            " 62%|██████▏   | 23/37 [00:05<00:02,  4.74it/s]"
          ]
        },
        {
          "name": "stdout",
          "output_type": "stream",
          "text": [
            "torch.Size([128, 1])\n",
            "torch.Size([128, 1])\n",
            "torch.Size([128, 1])\n",
            "torch.Size([128, 1])\n"
          ]
        },
        {
          "name": "stderr",
          "output_type": "stream",
          "text": [
            " 68%|██████▊   | 25/37 [00:06<00:02,  4.82it/s]"
          ]
        },
        {
          "name": "stdout",
          "output_type": "stream",
          "text": [
            "torch.Size([128, 1])\n",
            "torch.Size([128, 1])\n"
          ]
        },
        {
          "name": "stderr",
          "output_type": "stream",
          "text": [
            "\r 70%|███████   | 26/37 [00:06<00:02,  4.84it/s]"
          ]
        },
        {
          "name": "stdout",
          "output_type": "stream",
          "text": [
            "torch.Size([128, 1])\n",
            "torch.Size([128, 1])\n",
            "torch.Size([128, 1])\n",
            "torch.Size([128, 1])\n"
          ]
        },
        {
          "name": "stderr",
          "output_type": "stream",
          "text": [
            " 76%|███████▌  | 28/37 [00:06<00:01,  4.95it/s]"
          ]
        },
        {
          "name": "stdout",
          "output_type": "stream",
          "text": [
            "torch.Size([128, 1])\n",
            "torch.Size([128, 1])\n"
          ]
        },
        {
          "name": "stderr",
          "output_type": "stream",
          "text": [
            "\r 78%|███████▊  | 29/37 [00:06<00:01,  4.73it/s]"
          ]
        },
        {
          "name": "stdout",
          "output_type": "stream",
          "text": [
            "torch.Size([128, 1])\n",
            "torch.Size([128, 1])\n"
          ]
        },
        {
          "name": "stderr",
          "output_type": "stream",
          "text": [
            "\r 81%|████████  | 30/37 [00:07<00:01,  4.78it/s]"
          ]
        },
        {
          "name": "stdout",
          "output_type": "stream",
          "text": [
            "torch.Size([128, 1])\n",
            "torch.Size([128, 1])\n",
            "torch.Size([128, 1])\n",
            "torch.Size([128, 1])\n"
          ]
        },
        {
          "name": "stderr",
          "output_type": "stream",
          "text": [
            " 86%|████████▋ | 32/37 [00:07<00:01,  4.97it/s]"
          ]
        },
        {
          "name": "stdout",
          "output_type": "stream",
          "text": [
            "torch.Size([128, 1])\n",
            "torch.Size([128, 1])\n",
            "torch.Size([128, 1])\n",
            "torch.Size([128, 1])\n"
          ]
        },
        {
          "name": "stderr",
          "output_type": "stream",
          "text": [
            " 92%|█████████▏| 34/37 [00:07<00:00,  4.77it/s]"
          ]
        },
        {
          "name": "stdout",
          "output_type": "stream",
          "text": [
            "torch.Size([128, 1])\n",
            "torch.Size([128, 1])\n"
          ]
        },
        {
          "name": "stderr",
          "output_type": "stream",
          "text": [
            "\r 95%|█████████▍| 35/37 [00:08<00:00,  4.67it/s]"
          ]
        },
        {
          "name": "stdout",
          "output_type": "stream",
          "text": [
            "torch.Size([128, 1])\n",
            "torch.Size([128, 1])\n"
          ]
        },
        {
          "name": "stderr",
          "output_type": "stream",
          "text": [
            "\r 97%|█████████▋| 36/37 [00:08<00:00,  4.62it/s]"
          ]
        },
        {
          "name": "stdout",
          "output_type": "stream",
          "text": [
            "torch.Size([128, 1])\n",
            "torch.Size([128, 1])\n",
            "torch.Size([100, 1])\n",
            "torch.Size([100, 1])\n"
          ]
        },
        {
          "name": "stderr",
          "output_type": "stream",
          "text": [
            "100%|██████████| 37/37 [00:08<00:00,  4.37it/s]\n",
            "  3%|▎         | 1/37 [00:00<00:08,  4.36it/s]"
          ]
        },
        {
          "name": "stdout",
          "output_type": "stream",
          "text": [
            "torch.Size([128, 1])\n",
            "torch.Size([128, 1])\n"
          ]
        },
        {
          "name": "stderr",
          "output_type": "stream",
          "text": [
            "\r  5%|▌         | 2/37 [00:00<00:08,  4.19it/s]"
          ]
        },
        {
          "name": "stdout",
          "output_type": "stream",
          "text": [
            "torch.Size([128, 1])\n",
            "torch.Size([128, 1])\n"
          ]
        },
        {
          "name": "stderr",
          "output_type": "stream",
          "text": [
            "\r  8%|▊         | 3/37 [00:00<00:07,  4.37it/s]"
          ]
        },
        {
          "name": "stdout",
          "output_type": "stream",
          "text": [
            "torch.Size([128, 1])\n",
            "torch.Size([128, 1])\n"
          ]
        },
        {
          "name": "stderr",
          "output_type": "stream",
          "text": [
            "\r 11%|█         | 4/37 [00:00<00:07,  4.42it/s]"
          ]
        },
        {
          "name": "stdout",
          "output_type": "stream",
          "text": [
            "torch.Size([128, 1])\n",
            "torch.Size([128, 1])\n"
          ]
        },
        {
          "name": "stderr",
          "output_type": "stream",
          "text": [
            "\r 14%|█▎        | 5/37 [00:01<00:07,  4.56it/s]"
          ]
        },
        {
          "name": "stdout",
          "output_type": "stream",
          "text": [
            "torch.Size([128, 1])\n",
            "torch.Size([128, 1])\n"
          ]
        },
        {
          "name": "stderr",
          "output_type": "stream",
          "text": [
            "\r 16%|█▌        | 6/37 [00:01<00:06,  4.58it/s]"
          ]
        },
        {
          "name": "stdout",
          "output_type": "stream",
          "text": [
            "torch.Size([128, 1])\n",
            "torch.Size([128, 1])\n"
          ]
        },
        {
          "name": "stderr",
          "output_type": "stream",
          "text": [
            "\r 19%|█▉        | 7/37 [00:01<00:06,  4.64it/s]"
          ]
        },
        {
          "name": "stdout",
          "output_type": "stream",
          "text": [
            "torch.Size([128, 1])\n",
            "torch.Size([128, 1])\n",
            "torch.Size([128, 1])\n",
            "torch.Size([128, 1])\n"
          ]
        },
        {
          "name": "stderr",
          "output_type": "stream",
          "text": [
            " 24%|██▍       | 9/37 [00:01<00:05,  4.89it/s]"
          ]
        },
        {
          "name": "stdout",
          "output_type": "stream",
          "text": [
            "torch.Size([128, 1])\n",
            "torch.Size([128, 1])\n"
          ]
        },
        {
          "name": "stderr",
          "output_type": "stream",
          "text": [
            "\r 27%|██▋       | 10/37 [00:02<00:05,  4.72it/s]"
          ]
        },
        {
          "name": "stdout",
          "output_type": "stream",
          "text": [
            "torch.Size([128, 1])\n",
            "torch.Size([128, 1])\n"
          ]
        },
        {
          "name": "stderr",
          "output_type": "stream",
          "text": [
            "\r 30%|██▉       | 11/37 [00:02<00:05,  4.65it/s]"
          ]
        },
        {
          "name": "stdout",
          "output_type": "stream",
          "text": [
            "torch.Size([128, 1])\n",
            "torch.Size([128, 1])\n"
          ]
        },
        {
          "name": "stderr",
          "output_type": "stream",
          "text": [
            "\r 32%|███▏      | 12/37 [00:02<00:05,  4.61it/s]"
          ]
        },
        {
          "name": "stdout",
          "output_type": "stream",
          "text": [
            "torch.Size([128, 1])\n",
            "torch.Size([128, 1])\n"
          ]
        },
        {
          "name": "stderr",
          "output_type": "stream",
          "text": [
            "\r 35%|███▌      | 13/37 [00:02<00:05,  4.66it/s]"
          ]
        },
        {
          "name": "stdout",
          "output_type": "stream",
          "text": [
            "torch.Size([128, 1])\n",
            "torch.Size([128, 1])\n"
          ]
        },
        {
          "name": "stderr",
          "output_type": "stream",
          "text": [
            "\r 38%|███▊      | 14/37 [00:03<00:05,  4.59it/s]"
          ]
        },
        {
          "name": "stdout",
          "output_type": "stream",
          "text": [
            "torch.Size([128, 1])\n",
            "torch.Size([128, 1])\n"
          ]
        },
        {
          "name": "stderr",
          "output_type": "stream",
          "text": [
            "\r 41%|████      | 15/37 [00:03<00:04,  4.54it/s]"
          ]
        },
        {
          "name": "stdout",
          "output_type": "stream",
          "text": [
            "torch.Size([128, 1])\n",
            "torch.Size([128, 1])\n"
          ]
        },
        {
          "name": "stderr",
          "output_type": "stream",
          "text": [
            "\r 43%|████▎     | 16/37 [00:03<00:04,  4.46it/s]"
          ]
        },
        {
          "name": "stdout",
          "output_type": "stream",
          "text": [
            "torch.Size([128, 1])\n",
            "torch.Size([128, 1])\n"
          ]
        },
        {
          "name": "stderr",
          "output_type": "stream",
          "text": [
            "\r 46%|████▌     | 17/37 [00:03<00:04,  4.46it/s]"
          ]
        },
        {
          "name": "stdout",
          "output_type": "stream",
          "text": [
            "torch.Size([128, 1])\n",
            "torch.Size([128, 1])\n"
          ]
        },
        {
          "name": "stderr",
          "output_type": "stream",
          "text": [
            "\r 49%|████▊     | 18/37 [00:03<00:04,  4.48it/s]"
          ]
        },
        {
          "name": "stdout",
          "output_type": "stream",
          "text": [
            "torch.Size([128, 1])\n",
            "torch.Size([128, 1])\n"
          ]
        },
        {
          "name": "stderr",
          "output_type": "stream",
          "text": [
            "\r 51%|█████▏    | 19/37 [00:04<00:04,  4.45it/s]"
          ]
        },
        {
          "name": "stdout",
          "output_type": "stream",
          "text": [
            "torch.Size([128, 1])\n",
            "torch.Size([128, 1])\n"
          ]
        },
        {
          "name": "stderr",
          "output_type": "stream",
          "text": [
            "\r 54%|█████▍    | 20/37 [00:04<00:03,  4.59it/s]"
          ]
        },
        {
          "name": "stdout",
          "output_type": "stream",
          "text": [
            "torch.Size([128, 1])\n",
            "torch.Size([128, 1])\n",
            "torch.Size([128, 1])\n"
          ]
        },
        {
          "name": "stderr",
          "output_type": "stream",
          "text": [
            "\r 57%|█████▋    | 21/37 [00:04<00:03,  4.63it/s]"
          ]
        },
        {
          "name": "stdout",
          "output_type": "stream",
          "text": [
            "torch.Size([128, 1])\n"
          ]
        },
        {
          "name": "stderr",
          "output_type": "stream",
          "text": [
            "\r 59%|█████▉    | 22/37 [00:04<00:03,  4.72it/s]"
          ]
        },
        {
          "name": "stdout",
          "output_type": "stream",
          "text": [
            "torch.Size([128, 1])\n",
            "torch.Size([128, 1])\n"
          ]
        },
        {
          "name": "stderr",
          "output_type": "stream",
          "text": [
            "\r 62%|██████▏   | 23/37 [00:05<00:02,  4.72it/s]"
          ]
        },
        {
          "name": "stdout",
          "output_type": "stream",
          "text": [
            "torch.Size([128, 1])\n",
            "torch.Size([128, 1])\n"
          ]
        },
        {
          "name": "stderr",
          "output_type": "stream",
          "text": [
            "\r 65%|██████▍   | 24/37 [00:05<00:02,  4.63it/s]"
          ]
        },
        {
          "name": "stdout",
          "output_type": "stream",
          "text": [
            "torch.Size([128, 1])\n",
            "torch.Size([128, 1])\n"
          ]
        },
        {
          "name": "stderr",
          "output_type": "stream",
          "text": [
            "\r 68%|██████▊   | 25/37 [00:05<00:02,  4.53it/s]"
          ]
        },
        {
          "name": "stdout",
          "output_type": "stream",
          "text": [
            "torch.Size([128, 1])\n",
            "torch.Size([128, 1])\n"
          ]
        },
        {
          "name": "stderr",
          "output_type": "stream",
          "text": [
            "\r 70%|███████   | 26/37 [00:05<00:02,  4.11it/s]"
          ]
        },
        {
          "name": "stdout",
          "output_type": "stream",
          "text": [
            "torch.Size([128, 1])\n",
            "torch.Size([128, 1])\n"
          ]
        },
        {
          "name": "stderr",
          "output_type": "stream",
          "text": [
            "\r 73%|███████▎  | 27/37 [00:06<00:02,  3.63it/s]"
          ]
        },
        {
          "name": "stdout",
          "output_type": "stream",
          "text": [
            "torch.Size([128, 1])\n",
            "torch.Size([128, 1])\n"
          ]
        },
        {
          "name": "stderr",
          "output_type": "stream",
          "text": [
            "\r 76%|███████▌  | 28/37 [00:06<00:02,  3.47it/s]"
          ]
        },
        {
          "name": "stdout",
          "output_type": "stream",
          "text": [
            "torch.Size([128, 1])\n",
            "torch.Size([128, 1])\n"
          ]
        },
        {
          "name": "stderr",
          "output_type": "stream",
          "text": [
            "\r 78%|███████▊  | 29/37 [00:06<00:02,  3.29it/s]"
          ]
        },
        {
          "name": "stdout",
          "output_type": "stream",
          "text": [
            "torch.Size([128, 1])\n",
            "torch.Size([128, 1])\n"
          ]
        },
        {
          "name": "stderr",
          "output_type": "stream",
          "text": [
            "\r 81%|████████  | 30/37 [00:07<00:02,  3.20it/s]"
          ]
        },
        {
          "name": "stdout",
          "output_type": "stream",
          "text": [
            "torch.Size([128, 1])\n",
            "torch.Size([128, 1])\n"
          ]
        },
        {
          "name": "stderr",
          "output_type": "stream",
          "text": [
            "\r 84%|████████▍ | 31/37 [00:07<00:01,  3.04it/s]"
          ]
        },
        {
          "name": "stdout",
          "output_type": "stream",
          "text": [
            "torch.Size([128, 1])\n",
            "torch.Size([128, 1])\n"
          ]
        },
        {
          "name": "stderr",
          "output_type": "stream",
          "text": [
            "\r 86%|████████▋ | 32/37 [00:07<00:01,  3.06it/s]"
          ]
        },
        {
          "name": "stdout",
          "output_type": "stream",
          "text": [
            "torch.Size([128, 1])\n",
            "torch.Size([128, 1])\n"
          ]
        },
        {
          "name": "stderr",
          "output_type": "stream",
          "text": [
            "\r 89%|████████▉ | 33/37 [00:08<00:01,  3.01it/s]"
          ]
        },
        {
          "name": "stdout",
          "output_type": "stream",
          "text": [
            "torch.Size([128, 1])\n",
            "torch.Size([128, 1])\n"
          ]
        },
        {
          "name": "stderr",
          "output_type": "stream",
          "text": [
            "\r 92%|█████████▏| 34/37 [00:08<00:00,  3.30it/s]"
          ]
        },
        {
          "name": "stdout",
          "output_type": "stream",
          "text": [
            "torch.Size([128, 1])\n",
            "torch.Size([128, 1])\n"
          ]
        },
        {
          "name": "stderr",
          "output_type": "stream",
          "text": [
            "\r 95%|█████████▍| 35/37 [00:08<00:00,  3.58it/s]"
          ]
        },
        {
          "name": "stdout",
          "output_type": "stream",
          "text": [
            "torch.Size([128, 1])\n",
            "torch.Size([128, 1])\n"
          ]
        },
        {
          "name": "stderr",
          "output_type": "stream",
          "text": [
            "\r 97%|█████████▋| 36/37 [00:08<00:00,  3.77it/s]"
          ]
        },
        {
          "name": "stdout",
          "output_type": "stream",
          "text": [
            "torch.Size([128, 1])\n",
            "torch.Size([128, 1])\n",
            "torch.Size([100, 1])\n",
            "torch.Size([100, 1])\n"
          ]
        },
        {
          "name": "stderr",
          "output_type": "stream",
          "text": [
            "100%|██████████| 37/37 [00:08<00:00,  4.12it/s]\n",
            "  3%|▎         | 1/37 [00:00<00:07,  4.96it/s]"
          ]
        },
        {
          "name": "stdout",
          "output_type": "stream",
          "text": [
            "torch.Size([128, 1])\n",
            "torch.Size([128, 1])\n",
            "torch.Size([128, 1])\n",
            "torch.Size([128, 1])\n"
          ]
        },
        {
          "name": "stderr",
          "output_type": "stream",
          "text": [
            "  8%|▊         | 3/37 [00:00<00:06,  5.10it/s]"
          ]
        },
        {
          "name": "stdout",
          "output_type": "stream",
          "text": [
            "torch.Size([128, 1])\n",
            "torch.Size([128, 1])\n"
          ]
        },
        {
          "name": "stderr",
          "output_type": "stream",
          "text": [
            "\r 11%|█         | 4/37 [00:00<00:07,  4.70it/s]"
          ]
        },
        {
          "name": "stdout",
          "output_type": "stream",
          "text": [
            "torch.Size([128, 1])\n",
            "torch.Size([128, 1])\n"
          ]
        },
        {
          "name": "stderr",
          "output_type": "stream",
          "text": [
            "\r 14%|█▎        | 5/37 [00:01<00:06,  4.64it/s]"
          ]
        },
        {
          "name": "stdout",
          "output_type": "stream",
          "text": [
            "torch.Size([128, 1])\n",
            "torch.Size([128, 1])\n"
          ]
        },
        {
          "name": "stderr",
          "output_type": "stream",
          "text": [
            "\r 16%|█▌        | 6/37 [00:01<00:06,  4.53it/s]"
          ]
        },
        {
          "name": "stdout",
          "output_type": "stream",
          "text": [
            "torch.Size([128, 1])\n",
            "torch.Size([128, 1])\n"
          ]
        },
        {
          "name": "stderr",
          "output_type": "stream",
          "text": [
            "\r 19%|█▉        | 7/37 [00:01<00:06,  4.48it/s]"
          ]
        },
        {
          "name": "stdout",
          "output_type": "stream",
          "text": [
            "torch.Size([128, 1])\n",
            "torch.Size([128, 1])\n"
          ]
        },
        {
          "name": "stderr",
          "output_type": "stream",
          "text": [
            "\r 22%|██▏       | 8/37 [00:01<00:06,  4.52it/s]"
          ]
        },
        {
          "name": "stdout",
          "output_type": "stream",
          "text": [
            "torch.Size([128, 1])\n",
            "torch.Size([128, 1])\n"
          ]
        },
        {
          "name": "stderr",
          "output_type": "stream",
          "text": [
            "\r 24%|██▍       | 9/37 [00:01<00:06,  4.44it/s]"
          ]
        },
        {
          "name": "stdout",
          "output_type": "stream",
          "text": [
            "torch.Size([128, 1])\n",
            "torch.Size([128, 1])\n"
          ]
        },
        {
          "name": "stderr",
          "output_type": "stream",
          "text": [
            "\r 27%|██▋       | 10/37 [00:02<00:05,  4.52it/s]"
          ]
        },
        {
          "name": "stdout",
          "output_type": "stream",
          "text": [
            "torch.Size([128, 1])\n",
            "torch.Size([128, 1])\n"
          ]
        },
        {
          "name": "stderr",
          "output_type": "stream",
          "text": [
            "\r 30%|██▉       | 11/37 [00:02<00:05,  4.47it/s]"
          ]
        },
        {
          "name": "stdout",
          "output_type": "stream",
          "text": [
            "torch.Size([128, 1])\n",
            "torch.Size([128, 1])\n"
          ]
        },
        {
          "name": "stderr",
          "output_type": "stream",
          "text": [
            "\r 32%|███▏      | 12/37 [00:02<00:05,  4.36it/s]"
          ]
        },
        {
          "name": "stdout",
          "output_type": "stream",
          "text": [
            "torch.Size([128, 1])\n",
            "torch.Size([128, 1])\n"
          ]
        },
        {
          "name": "stderr",
          "output_type": "stream",
          "text": [
            "\r 35%|███▌      | 13/37 [00:02<00:05,  4.36it/s]"
          ]
        },
        {
          "name": "stdout",
          "output_type": "stream",
          "text": [
            "torch.Size([128, 1])\n",
            "torch.Size([128, 1])\n"
          ]
        },
        {
          "name": "stderr",
          "output_type": "stream",
          "text": [
            "\r 38%|███▊      | 14/37 [00:03<00:05,  4.40it/s]"
          ]
        },
        {
          "name": "stdout",
          "output_type": "stream",
          "text": [
            "torch.Size([128, 1])\n",
            "torch.Size([128, 1])\n"
          ]
        },
        {
          "name": "stderr",
          "output_type": "stream",
          "text": [
            "\r 41%|████      | 15/37 [00:03<00:04,  4.56it/s]"
          ]
        },
        {
          "name": "stdout",
          "output_type": "stream",
          "text": [
            "torch.Size([128, 1])\n",
            "torch.Size([128, 1])\n",
            "torch.Size([128, 1])\n",
            "torch.Size([128, 1])\n"
          ]
        },
        {
          "name": "stderr",
          "output_type": "stream",
          "text": [
            " 46%|████▌     | 17/37 [00:03<00:04,  4.78it/s]"
          ]
        },
        {
          "name": "stdout",
          "output_type": "stream",
          "text": [
            "torch.Size([128, 1])\n",
            "torch.Size([128, 1])\n"
          ]
        },
        {
          "name": "stderr",
          "output_type": "stream",
          "text": [
            "\r 49%|████▊     | 18/37 [00:03<00:04,  4.75it/s]"
          ]
        },
        {
          "name": "stdout",
          "output_type": "stream",
          "text": [
            "torch.Size([128, 1])\n",
            "torch.Size([128, 1])\n",
            "torch.Size([128, 1])\n",
            "torch.Size([128, 1])\n"
          ]
        },
        {
          "name": "stderr",
          "output_type": "stream",
          "text": [
            " 54%|█████▍    | 20/37 [00:04<00:03,  4.87it/s]"
          ]
        },
        {
          "name": "stdout",
          "output_type": "stream",
          "text": [
            "torch.Size([128, 1])\n",
            "torch.Size([128, 1])\n",
            "torch.Size([128, 1])\n",
            "torch.Size([128, 1])\n"
          ]
        },
        {
          "name": "stderr",
          "output_type": "stream",
          "text": [
            " 59%|█████▉    | 22/37 [00:04<00:03,  4.88it/s]"
          ]
        },
        {
          "name": "stdout",
          "output_type": "stream",
          "text": [
            "torch.Size([128, 1])\n",
            "torch.Size([128, 1])\n"
          ]
        },
        {
          "name": "stderr",
          "output_type": "stream",
          "text": [
            "\r 62%|██████▏   | 23/37 [00:04<00:02,  4.88it/s]"
          ]
        },
        {
          "name": "stdout",
          "output_type": "stream",
          "text": [
            "torch.Size([128, 1])\n",
            "torch.Size([128, 1])\n"
          ]
        },
        {
          "name": "stderr",
          "output_type": "stream",
          "text": [
            "\r 65%|██████▍   | 24/37 [00:05<00:02,  4.87it/s]"
          ]
        },
        {
          "name": "stdout",
          "output_type": "stream",
          "text": [
            "torch.Size([128, 1])\n",
            "torch.Size([128, 1])\n"
          ]
        },
        {
          "name": "stderr",
          "output_type": "stream",
          "text": [
            "\r 68%|██████▊   | 25/37 [00:05<00:02,  4.93it/s]"
          ]
        },
        {
          "name": "stdout",
          "output_type": "stream",
          "text": [
            "torch.Size([128, 1])\n",
            "torch.Size([128, 1])\n",
            "torch.Size([128, 1])\n",
            "torch.Size([128, 1])\n"
          ]
        },
        {
          "name": "stderr",
          "output_type": "stream",
          "text": [
            " 73%|███████▎  | 27/37 [00:05<00:02,  5.00it/s]"
          ]
        },
        {
          "name": "stdout",
          "output_type": "stream",
          "text": [
            "torch.Size([128, 1])\n",
            "torch.Size([128, 1])\n",
            "torch.Size([128, 1])\n",
            "torch.Size([128, 1])\n"
          ]
        },
        {
          "name": "stderr",
          "output_type": "stream",
          "text": [
            " 78%|███████▊  | 29/37 [00:06<00:01,  4.94it/s]"
          ]
        },
        {
          "name": "stdout",
          "output_type": "stream",
          "text": [
            "torch.Size([128, 1])\n",
            "torch.Size([128, 1])\n",
            "torch.Size([128, 1])\n",
            "torch.Size([128, 1])\n"
          ]
        },
        {
          "name": "stderr",
          "output_type": "stream",
          "text": [
            " 84%|████████▍ | 31/37 [00:06<00:01,  4.88it/s]"
          ]
        },
        {
          "name": "stdout",
          "output_type": "stream",
          "text": [
            "torch.Size([128, 1])\n",
            "torch.Size([128, 1])\n"
          ]
        },
        {
          "name": "stderr",
          "output_type": "stream",
          "text": [
            "\r 86%|████████▋ | 32/37 [00:06<00:01,  4.82it/s]"
          ]
        },
        {
          "name": "stdout",
          "output_type": "stream",
          "text": [
            "torch.Size([128, 1])\n",
            "torch.Size([128, 1])\n",
            "torch.Size([128, 1])\n",
            "torch.Size([128, 1])\n"
          ]
        },
        {
          "name": "stderr",
          "output_type": "stream",
          "text": [
            " 92%|█████████▏| 34/37 [00:07<00:00,  3.01it/s]"
          ]
        },
        {
          "name": "stdout",
          "output_type": "stream",
          "text": [
            "torch.Size([128, 1])\n",
            "torch.Size([128, 1])\n",
            "torch.Size([128, 1])\n",
            "torch.Size([128, 1])\n"
          ]
        },
        {
          "name": "stderr",
          "output_type": "stream",
          "text": [
            " 97%|█████████▋| 36/37 [00:08<00:00,  3.75it/s]"
          ]
        },
        {
          "name": "stdout",
          "output_type": "stream",
          "text": [
            "torch.Size([128, 1])\n",
            "torch.Size([128, 1])\n",
            "torch.Size([100, 1])\n",
            "torch.Size([100, 1])\n"
          ]
        },
        {
          "name": "stderr",
          "output_type": "stream",
          "text": [
            "100%|██████████| 37/37 [00:08<00:00,  4.46it/s]\n",
            "  3%|▎         | 1/37 [00:00<00:07,  4.93it/s]"
          ]
        },
        {
          "name": "stdout",
          "output_type": "stream",
          "text": [
            "torch.Size([128, 1])\n",
            "torch.Size([128, 1])\n"
          ]
        },
        {
          "name": "stderr",
          "output_type": "stream",
          "text": [
            "\r  5%|▌         | 2/37 [00:00<00:07,  4.82it/s]"
          ]
        },
        {
          "name": "stdout",
          "output_type": "stream",
          "text": [
            "torch.Size([128, 1])\n",
            "torch.Size([128, 1])\n"
          ]
        },
        {
          "name": "stderr",
          "output_type": "stream",
          "text": [
            "\r  8%|▊         | 3/37 [00:00<00:07,  4.85it/s]"
          ]
        },
        {
          "name": "stdout",
          "output_type": "stream",
          "text": [
            "torch.Size([128, 1])\n",
            "torch.Size([128, 1])\n"
          ]
        },
        {
          "name": "stderr",
          "output_type": "stream",
          "text": [
            "\r 11%|█         | 4/37 [00:00<00:06,  4.72it/s]"
          ]
        },
        {
          "name": "stdout",
          "output_type": "stream",
          "text": [
            "torch.Size([128, 1])\n",
            "torch.Size([128, 1])\n"
          ]
        },
        {
          "name": "stderr",
          "output_type": "stream",
          "text": [
            "\r 14%|█▎        | 5/37 [00:01<00:07,  4.11it/s]"
          ]
        },
        {
          "name": "stdout",
          "output_type": "stream",
          "text": [
            "torch.Size([128, 1])\n",
            "torch.Size([128, 1])\n"
          ]
        },
        {
          "name": "stderr",
          "output_type": "stream",
          "text": [
            "\r 16%|█▌        | 6/37 [00:01<00:08,  3.60it/s]"
          ]
        },
        {
          "name": "stdout",
          "output_type": "stream",
          "text": [
            "torch.Size([128, 1])\n",
            "torch.Size([128, 1])\n"
          ]
        },
        {
          "name": "stderr",
          "output_type": "stream",
          "text": [
            "\r 19%|█▉        | 7/37 [00:01<00:08,  3.43it/s]"
          ]
        },
        {
          "name": "stdout",
          "output_type": "stream",
          "text": [
            "torch.Size([128, 1])\n",
            "torch.Size([128, 1])\n"
          ]
        },
        {
          "name": "stderr",
          "output_type": "stream",
          "text": [
            "\r 22%|██▏       | 8/37 [00:02<00:08,  3.27it/s]"
          ]
        },
        {
          "name": "stdout",
          "output_type": "stream",
          "text": [
            "torch.Size([128, 1])\n",
            "torch.Size([128, 1])\n"
          ]
        },
        {
          "name": "stderr",
          "output_type": "stream",
          "text": [
            "\r 24%|██▍       | 9/37 [00:02<00:08,  3.19it/s]"
          ]
        },
        {
          "name": "stdout",
          "output_type": "stream",
          "text": [
            "torch.Size([128, 1])\n",
            "torch.Size([128, 1])\n"
          ]
        },
        {
          "name": "stderr",
          "output_type": "stream",
          "text": [
            "\r 27%|██▋       | 10/37 [00:02<00:08,  3.16it/s]"
          ]
        },
        {
          "name": "stdout",
          "output_type": "stream",
          "text": [
            "torch.Size([128, 1])\n",
            "torch.Size([128, 1])\n"
          ]
        },
        {
          "name": "stderr",
          "output_type": "stream",
          "text": [
            "\r 30%|██▉       | 11/37 [00:03<00:08,  3.20it/s]"
          ]
        },
        {
          "name": "stdout",
          "output_type": "stream",
          "text": [
            "torch.Size([128, 1])\n",
            "torch.Size([128, 1])\n"
          ]
        },
        {
          "name": "stderr",
          "output_type": "stream",
          "text": [
            "\r 32%|███▏      | 12/37 [00:03<00:07,  3.20it/s]"
          ]
        },
        {
          "name": "stdout",
          "output_type": "stream",
          "text": [
            "torch.Size([128, 1])\n",
            "torch.Size([128, 1])\n"
          ]
        },
        {
          "name": "stderr",
          "output_type": "stream",
          "text": [
            "\r 35%|███▌      | 13/37 [00:03<00:06,  3.51it/s]"
          ]
        },
        {
          "name": "stdout",
          "output_type": "stream",
          "text": [
            "torch.Size([128, 1])\n",
            "torch.Size([128, 1])\n",
            "torch.Size([128, 1])\n",
            "torch.Size([128, 1])\n"
          ]
        },
        {
          "name": "stderr",
          "output_type": "stream",
          "text": [
            " 41%|████      | 15/37 [00:04<00:05,  4.12it/s]"
          ]
        },
        {
          "name": "stdout",
          "output_type": "stream",
          "text": [
            "torch.Size([128, 1])\n",
            "torch.Size([128, 1])\n",
            "torch.Size([128, 1])\n",
            "torch.Size([128, 1])\n"
          ]
        },
        {
          "name": "stderr",
          "output_type": "stream",
          "text": [
            " 46%|████▌     | 17/37 [00:04<00:04,  4.59it/s]"
          ]
        },
        {
          "name": "stdout",
          "output_type": "stream",
          "text": [
            "torch.Size([128, 1])\n",
            "torch.Size([128, 1])\n"
          ]
        },
        {
          "name": "stderr",
          "output_type": "stream",
          "text": [
            "\r 49%|████▊     | 18/37 [00:04<00:04,  4.60it/s]"
          ]
        },
        {
          "name": "stdout",
          "output_type": "stream",
          "text": [
            "torch.Size([128, 1])\n",
            "torch.Size([128, 1])\n"
          ]
        },
        {
          "name": "stderr",
          "output_type": "stream",
          "text": [
            "\r 51%|█████▏    | 19/37 [00:04<00:03,  4.61it/s]"
          ]
        },
        {
          "name": "stdout",
          "output_type": "stream",
          "text": [
            "torch.Size([128, 1])\n",
            "torch.Size([128, 1])\n"
          ]
        },
        {
          "name": "stderr",
          "output_type": "stream",
          "text": [
            "\r 54%|█████▍    | 20/37 [00:05<00:03,  4.63it/s]"
          ]
        },
        {
          "name": "stdout",
          "output_type": "stream",
          "text": [
            "torch.Size([128, 1])\n",
            "torch.Size([128, 1])\n"
          ]
        },
        {
          "name": "stderr",
          "output_type": "stream",
          "text": [
            "\r 57%|█████▋    | 21/37 [00:05<00:03,  4.61it/s]"
          ]
        },
        {
          "name": "stdout",
          "output_type": "stream",
          "text": [
            "torch.Size([128, 1])\n",
            "torch.Size([128, 1])\n"
          ]
        },
        {
          "name": "stderr",
          "output_type": "stream",
          "text": [
            "\r 59%|█████▉    | 22/37 [00:05<00:03,  4.66it/s]"
          ]
        },
        {
          "name": "stdout",
          "output_type": "stream",
          "text": [
            "torch.Size([128, 1])\n",
            "torch.Size([128, 1])\n"
          ]
        },
        {
          "name": "stderr",
          "output_type": "stream",
          "text": [
            "\r 62%|██████▏   | 23/37 [00:05<00:02,  4.70it/s]"
          ]
        },
        {
          "name": "stdout",
          "output_type": "stream",
          "text": [
            "torch.Size([128, 1])\n",
            "torch.Size([128, 1])\n"
          ]
        },
        {
          "name": "stderr",
          "output_type": "stream",
          "text": [
            "\r 65%|██████▍   | 24/37 [00:05<00:02,  4.62it/s]"
          ]
        },
        {
          "name": "stdout",
          "output_type": "stream",
          "text": [
            "torch.Size([128, 1])\n",
            "torch.Size([128, 1])\n"
          ]
        },
        {
          "name": "stderr",
          "output_type": "stream",
          "text": [
            "\r 68%|██████▊   | 25/37 [00:06<00:02,  4.70it/s]"
          ]
        },
        {
          "name": "stdout",
          "output_type": "stream",
          "text": [
            "torch.Size([128, 1])\n",
            "torch.Size([128, 1])\n"
          ]
        },
        {
          "name": "stderr",
          "output_type": "stream",
          "text": [
            "\r 70%|███████   | 26/37 [00:06<00:02,  4.71it/s]"
          ]
        },
        {
          "name": "stdout",
          "output_type": "stream",
          "text": [
            "torch.Size([128, 1])\n",
            "torch.Size([128, 1])\n",
            "torch.Size([128, 1])\n",
            "torch.Size([128, 1])\n"
          ]
        },
        {
          "name": "stderr",
          "output_type": "stream",
          "text": [
            " 76%|███████▌  | 28/37 [00:06<00:01,  4.76it/s]"
          ]
        },
        {
          "name": "stdout",
          "output_type": "stream",
          "text": [
            "torch.Size([128, 1])\n",
            "torch.Size([128, 1])\n"
          ]
        },
        {
          "name": "stderr",
          "output_type": "stream",
          "text": [
            "\r 78%|███████▊  | 29/37 [00:06<00:01,  4.76it/s]"
          ]
        },
        {
          "name": "stdout",
          "output_type": "stream",
          "text": [
            "torch.Size([128, 1])\n",
            "torch.Size([128, 1])\n"
          ]
        },
        {
          "name": "stderr",
          "output_type": "stream",
          "text": [
            "\r 81%|████████  | 30/37 [00:07<00:01,  4.86it/s]"
          ]
        },
        {
          "name": "stdout",
          "output_type": "stream",
          "text": [
            "torch.Size([128, 1])\n",
            "torch.Size([128, 1])\n",
            "torch.Size([128, 1])\n",
            "torch.Size([128, 1])\n"
          ]
        },
        {
          "name": "stderr",
          "output_type": "stream",
          "text": [
            " 86%|████████▋ | 32/37 [00:07<00:01,  4.99it/s]"
          ]
        },
        {
          "name": "stdout",
          "output_type": "stream",
          "text": [
            "torch.Size([128, 1])\n",
            "torch.Size([128, 1])\n",
            "torch.Size([128, 1])\n",
            "torch.Size([128, 1])\n"
          ]
        },
        {
          "name": "stderr",
          "output_type": "stream",
          "text": [
            " 92%|█████████▏| 34/37 [00:07<00:00,  4.98it/s]"
          ]
        },
        {
          "name": "stdout",
          "output_type": "stream",
          "text": [
            "torch.Size([128, 1])\n",
            "torch.Size([128, 1])\n"
          ]
        },
        {
          "name": "stderr",
          "output_type": "stream",
          "text": [
            "\r 95%|█████████▍| 35/37 [00:08<00:00,  4.99it/s]"
          ]
        },
        {
          "name": "stdout",
          "output_type": "stream",
          "text": [
            "torch.Size([128, 1])\n",
            "torch.Size([128, 1])\n"
          ]
        },
        {
          "name": "stderr",
          "output_type": "stream",
          "text": [
            "\r 97%|█████████▋| 36/37 [00:08<00:00,  4.94it/s]"
          ]
        },
        {
          "name": "stdout",
          "output_type": "stream",
          "text": [
            "torch.Size([128, 1])\n",
            "torch.Size([128, 1])\n",
            "torch.Size([100, 1])\n",
            "torch.Size([100, 1])\n"
          ]
        },
        {
          "name": "stderr",
          "output_type": "stream",
          "text": [
            "100%|██████████| 37/37 [00:08<00:00,  4.34it/s]\n"
          ]
        }
      ],
      "source": [
        "from tqdm import tqdm\n",
        "\n",
        "for epoch in range(NUM_EPOCHS):\n",
        "    train_correct = 0\n",
        "    train_total = 0\n",
        "    test_correct = 0\n",
        "    test_total = 0\n",
        "\n",
        "    model_base.train()\n",
        "    for inputs, targets in tqdm(train_loader):\n",
        "        # forward + backward + optimize\n",
        "        optimizer.zero_grad()\n",
        "        outputs = model_base(inputs)\n",
        "\n",
        "        targets = targets.float()\n",
        "        outputs = outputs.float()\n",
        "\n",
        "        print(targets.shape)\n",
        "        print(outputs.shape)\n",
        "        loss = criterion(outputs, targets)\n",
        "\n",
        "        loss.backward()\n",
        "        optimizer.step()"
      ]
    },
    {
      "cell_type": "markdown",
      "metadata": {
        "id": "dPud6gvMXu-W"
      },
      "source": [
        "Validation and test of the baseline model. This will let us know how good our model when trained on real data."
      ]
    },
    {
      "cell_type": "code",
      "execution_count": 20,
      "metadata": {
        "colab": {
          "base_uri": "https://localhost:8080/"
        },
        "id": "7qj-FKnoXu-W",
        "outputId": "090b38db-1eda-490d-d4e2-6e2e94e36348"
      },
      "outputs": [
        {
          "name": "stdout",
          "output_type": "stream",
          "text": [
            "==> Evaluating baseline model ...\n",
            "train  auc: 0.999  acc:0.984\n",
            "val  auc: 0.997  acc:0.975\n",
            "test  auc: 0.960  acc:0.822\n"
          ]
        }
      ],
      "source": [
        "from sklearn.metrics import roc_auc_score, roc_curve\n",
        "from sklearn.metrics import accuracy_score\n",
        "from sklearn.metrics import confusion_matrix, ConfusionMatrixDisplay\n",
        "import torch\n",
        "\n",
        "# evaluation\n",
        "def test(split, model):\n",
        "    model.eval()\n",
        "    y_true = torch.tensor([])\n",
        "    y_score = torch.tensor([])\n",
        "\n",
        "    if split == 'train':\n",
        "        data_loader = train_loader_at_eval\n",
        "    elif split == 'val':\n",
        "        data_loader = val_loader\n",
        "    else:\n",
        "        data_loader = test_loader\n",
        "\n",
        "    with torch.no_grad():\n",
        "        for inputs, targets in data_loader:\n",
        "            outputs = model(inputs)\n",
        "\n",
        "            targets = targets.to(torch.float32)\n",
        "            #outputs = outputs.softmax(dim=-1)\n",
        "            outputs = outputs.sigmoid()\n",
        "\n",
        "            y_true = torch.cat((y_true, targets), 0)\n",
        "            y_score = torch.cat((y_score, outputs), 0)\n",
        "\n",
        "        y_true = y_true.numpy()\n",
        "        y_score = y_score.detach().numpy()\n",
        "\n",
        "        evaluator = Evaluator(data_flag, split)\n",
        "        metrics = evaluator.evaluate(y_score)\n",
        "\n",
        "        acc = getACC(y_true, y_score, task)\n",
        "        auc = getAUC(y_true, y_score, task)\n",
        "\n",
        "        print('%s  auc: %.3f  acc:%.3f' % (split, auc, acc))\n",
        "        cm = confusion_matrix(y_true, y_score>0.5)\n",
        "\n",
        "\n",
        "        # Values for plotting ROC-AUC curve\n",
        "        fpr, tpr, thresholds = roc_curve(y_true, y_score)\n",
        "\n",
        "        return acc, auc, y_true, cm, fpr, tpr\n",
        "\n",
        "\n",
        "print('==> Evaluating baseline model ...')\n",
        "acc_train_baseline, auc_train_baseline, y_true, cm_train_baseline, fpr_train_baseline, tpr_train_baseline = test('train', model_base)\n",
        "acc_val_baseline, auc_val_baseline, y_true, cm_val_baseline, fpr_val_baseline, tpr_val_baseline = test('val', model_base)\n",
        "acc_test_baseline, auc_test_baseline, y_true, cm_test_baseline, fpr_test_baseline, tpr_test_baseline = test('test', model_base)"
      ]
    },
    {
      "cell_type": "markdown",
      "metadata": {
        "id": "-uIW76PBXu-W"
      },
      "source": [
        "# 5. Definition and Implementation of our GAN Method"
      ]
    },
    {
      "cell_type": "markdown",
      "metadata": {
        "id": "In7yr9MEXu-W"
      },
      "source": [
        "#### GAN Architecture Choice\n",
        "\n",
        "You may use any GAN architecture and loss function you deem suitable.\n",
        "\n",
        "To give some guidance, you could try a Deep Convolutional GAN ([DCGAN](https://arxiv.org/abs/1511.06434)). A helpful DCGAN implementation tutorial can be found [here](https://pytorch.org/tutorials/beginner/dcgan_faces_tutorial.html).\n",
        "\n",
        "*Note that you will need to adjust the layers of the network to match the dimensions of the input data.*\n",
        "\n",
        "DCGAN is an unconditional GAN architecture, which means that the data generation process is not controlled by the label information (pneumonia/normal). Hence, you would need to [extend the DCGAN architecture to a (DC)CGAN](https://machinelearningmastery.com/how-to-develop-a-conditional-generative-adversarial-network-from-scratch/) to be able to feed the labels as input into the generator and discriminator.\n",
        "\n",
        "An alternative to the class-conditional GAN is to train an unconditional GAN twice - once on data with positive label and once on data with negative label.\n",
        "\n",
        "*Note, instead of CGAN, you could also extend your DCGAN to the [Auxiliary Classifier GAN (ACGAN)] (https://arxiv.org/abs/1610.09585) architecture*.\n",
        "\n",
        "Also, feel free to optionally use another deep generative model for this task instead of a GAN. For example, here you find a [tutorial](https://github.com/Project-MONAI/GenerativeModels/blob/main/tutorials/generative/classifier_free_guidance/2d_ddpm_classifier_free_guidance_tutorial.ipynb) for training a class-conditional diffusion model."
      ]
    },
    {
      "cell_type": "code",
      "execution_count": 21,
      "metadata": {
        "colab": {
          "base_uri": "https://localhost:8080/"
        },
        "id": "5x1XCw5kocdf",
        "outputId": "d82802a4-bb5c-4b56-caa0-3c88c7afdb34"
      },
      "outputs": [
        {
          "name": "stdout",
          "output_type": "stream",
          "text": [
            "Using downloaded and verified file: /root/.medmnist/pneumoniamnist.npz\n",
            "Epoch [1/550], Batch 1, D Loss: 1.4466534852981567, G Loss: 0.8403635621070862\n",
            "Epoch [2/550], Batch 1, D Loss: 1.156229317188263, G Loss: 2.271972179412842\n",
            "Epoch [3/550], Batch 1, D Loss: 0.9786592721939087, G Loss: 1.0292637348175049\n",
            "Epoch [4/550], Batch 1, D Loss: 1.080348163843155, G Loss: 0.9054219722747803\n",
            "Epoch [5/550], Batch 1, D Loss: 1.3641374707221985, G Loss: 2.1093344688415527\n",
            "Epoch [6/550], Batch 1, D Loss: 1.2090573012828827, G Loss: 0.8596924543380737\n",
            "Epoch [7/550], Batch 1, D Loss: 1.2492401003837585, G Loss: 1.9913002252578735\n",
            "Epoch [8/550], Batch 1, D Loss: 1.215489536523819, G Loss: 0.8553440570831299\n",
            "Epoch [9/550], Batch 1, D Loss: 1.3743886649608612, G Loss: 0.7288632392883301\n",
            "Epoch [10/550], Batch 1, D Loss: 1.3356434106826782, G Loss: 1.7877320051193237\n",
            "Epoch [11/550], Batch 1, D Loss: 1.566478282213211, G Loss: 2.393826961517334\n",
            "Epoch [12/550], Batch 1, D Loss: 1.107098251581192, G Loss: 0.9007250666618347\n",
            "Epoch [13/550], Batch 1, D Loss: 1.04048290848732, G Loss: 1.0542129278182983\n",
            "Epoch [14/550], Batch 1, D Loss: 1.1299232840538025, G Loss: 1.4308803081512451\n",
            "Epoch [15/550], Batch 1, D Loss: 1.1312477588653564, G Loss: 1.001133918762207\n",
            "Epoch [16/550], Batch 1, D Loss: 1.1323187351226807, G Loss: 1.2589359283447266\n",
            "Epoch [17/550], Batch 1, D Loss: 1.1403948962688446, G Loss: 1.0496845245361328\n",
            "Epoch [18/550], Batch 1, D Loss: 1.0431289672851562, G Loss: 1.0393187999725342\n",
            "Epoch [19/550], Batch 1, D Loss: 1.1836283504962921, G Loss: 0.9374474287033081\n",
            "Epoch [20/550], Batch 1, D Loss: 1.1324065327644348, G Loss: 0.8773070573806763\n",
            "Epoch [21/550], Batch 1, D Loss: 1.2951225638389587, G Loss: 0.7437278032302856\n",
            "Epoch [22/550], Batch 1, D Loss: 1.1262231469154358, G Loss: 0.9926490783691406\n",
            "Epoch [23/550], Batch 1, D Loss: 1.1918327808380127, G Loss: 1.605529546737671\n",
            "Epoch [24/550], Batch 1, D Loss: 1.2118566036224365, G Loss: 0.7232764959335327\n",
            "Epoch [25/550], Batch 1, D Loss: 1.2512503862380981, G Loss: 1.9288976192474365\n",
            "Epoch [26/550], Batch 1, D Loss: 1.3644976019859314, G Loss: 1.8794392347335815\n",
            "Epoch [27/550], Batch 1, D Loss: 1.1716932356357574, G Loss: 0.9020447134971619\n",
            "Epoch [28/550], Batch 1, D Loss: 1.2843352854251862, G Loss: 1.7959753274917603\n",
            "Epoch [29/550], Batch 1, D Loss: 1.1920617818832397, G Loss: 1.4171494245529175\n",
            "Epoch [30/550], Batch 1, D Loss: 1.2332637310028076, G Loss: 1.511978030204773\n",
            "Epoch [31/550], Batch 1, D Loss: 1.1647897362709045, G Loss: 1.219280481338501\n",
            "Epoch [32/550], Batch 1, D Loss: 1.2106978297233582, G Loss: 0.986450731754303\n",
            "Epoch [33/550], Batch 1, D Loss: 1.523686707019806, G Loss: 2.0861949920654297\n",
            "Epoch [34/550], Batch 1, D Loss: 1.322443425655365, G Loss: 1.6985989809036255\n",
            "Epoch [35/550], Batch 1, D Loss: 0.9794320464134216, G Loss: 2.0189666748046875\n",
            "Epoch [36/550], Batch 1, D Loss: 1.0979725793004036, G Loss: 1.1386950016021729\n",
            "Epoch [37/550], Batch 1, D Loss: 0.8983528017997742, G Loss: 1.1011416912078857\n",
            "Epoch [38/550], Batch 1, D Loss: 1.3108079433441162, G Loss: 1.3309102058410645\n",
            "Epoch [39/550], Batch 1, D Loss: 1.2925937175750732, G Loss: 1.03883695602417\n",
            "Epoch [40/550], Batch 1, D Loss: 1.1112750172615051, G Loss: 0.9398142695426941\n",
            "Epoch [41/550], Batch 1, D Loss: 1.3084090948104858, G Loss: 1.6504148244857788\n",
            "Epoch [42/550], Batch 1, D Loss: 1.0200770497322083, G Loss: 1.048735499382019\n",
            "Epoch [43/550], Batch 1, D Loss: 1.535014782100916, G Loss: 1.2142198085784912\n",
            "Epoch [44/550], Batch 1, D Loss: 1.2284924983978271, G Loss: 1.1321088075637817\n",
            "Epoch [45/550], Batch 1, D Loss: 1.3228272199630737, G Loss: 1.1576772928237915\n",
            "Epoch [46/550], Batch 1, D Loss: 1.3529698848724365, G Loss: 0.6658356189727783\n",
            "Epoch [47/550], Batch 1, D Loss: 1.3073144853115082, G Loss: 0.8994778394699097\n",
            "Epoch [48/550], Batch 1, D Loss: 1.274949073791504, G Loss: 0.9569003582000732\n",
            "Epoch [49/550], Batch 1, D Loss: 1.3740528523921967, G Loss: 0.7228206992149353\n",
            "Epoch [50/550], Batch 1, D Loss: 1.302248775959015, G Loss: 1.334527850151062\n",
            "Epoch [51/550], Batch 1, D Loss: 1.2559042274951935, G Loss: 0.8686293363571167\n",
            "Epoch [52/550], Batch 1, D Loss: 1.3803175687789917, G Loss: 1.445391297340393\n",
            "Epoch [53/550], Batch 1, D Loss: 1.2576302886009216, G Loss: 0.8353180885314941\n",
            "Epoch [54/550], Batch 1, D Loss: 1.3342702984809875, G Loss: 1.274275779724121\n",
            "Epoch [55/550], Batch 1, D Loss: 1.2884525060653687, G Loss: 1.0927386283874512\n",
            "Epoch [56/550], Batch 1, D Loss: 1.3512015640735626, G Loss: 0.6597102880477905\n",
            "Epoch [57/550], Batch 1, D Loss: 1.3845608234405518, G Loss: 0.6893035769462585\n",
            "Epoch [58/550], Batch 1, D Loss: 1.2796200513839722, G Loss: 0.7300909757614136\n",
            "Epoch [59/550], Batch 1, D Loss: 1.3246438205242157, G Loss: 0.7441016435623169\n",
            "Epoch [60/550], Batch 1, D Loss: 1.3766125738620758, G Loss: 0.5914415717124939\n",
            "Epoch [61/550], Batch 1, D Loss: 1.3051151037216187, G Loss: 1.3737664222717285\n",
            "Epoch [62/550], Batch 1, D Loss: 1.5740600228309631, G Loss: 0.6142463088035583\n",
            "Epoch [63/550], Batch 1, D Loss: 1.275614619255066, G Loss: 0.8001450300216675\n",
            "Epoch [64/550], Batch 1, D Loss: 1.248488187789917, G Loss: 1.236313819885254\n",
            "Epoch [65/550], Batch 1, D Loss: 1.2931798100471497, G Loss: 0.8433187007904053\n",
            "Epoch [66/550], Batch 1, D Loss: 1.366126537322998, G Loss: 1.3948283195495605\n",
            "Epoch [67/550], Batch 1, D Loss: 1.3313161432743073, G Loss: 0.7386511564254761\n",
            "Epoch [68/550], Batch 1, D Loss: 1.2960811257362366, G Loss: 1.1334961652755737\n",
            "Epoch [69/550], Batch 1, D Loss: 1.3437530398368835, G Loss: 1.2099063396453857\n",
            "Epoch [70/550], Batch 1, D Loss: 1.5925167948007584, G Loss: 0.5140894651412964\n",
            "Epoch [71/550], Batch 1, D Loss: 1.3218342065811157, G Loss: 1.542398452758789\n",
            "Epoch [72/550], Batch 1, D Loss: 1.3250685334205627, G Loss: 1.4653226137161255\n",
            "Epoch [73/550], Batch 1, D Loss: 1.3237028121948242, G Loss: 0.8364394903182983\n",
            "Epoch [74/550], Batch 1, D Loss: 1.2027329802513123, G Loss: 1.3229122161865234\n",
            "Epoch [75/550], Batch 1, D Loss: 1.3483970761299133, G Loss: 1.4506852626800537\n",
            "Epoch [76/550], Batch 1, D Loss: 1.298928439617157, G Loss: 1.7061948776245117\n",
            "Epoch [77/550], Batch 1, D Loss: 1.3374751806259155, G Loss: 1.413935899734497\n",
            "Epoch [78/550], Batch 1, D Loss: 1.184747040271759, G Loss: 0.9138116836547852\n",
            "Epoch [79/550], Batch 1, D Loss: 1.2696877121925354, G Loss: 0.7305622100830078\n",
            "Epoch [80/550], Batch 1, D Loss: 1.244881808757782, G Loss: 0.8496465682983398\n",
            "Epoch [81/550], Batch 1, D Loss: 1.5047134757041931, G Loss: 2.235112190246582\n",
            "Epoch [82/550], Batch 1, D Loss: 1.1474982798099518, G Loss: 0.8754667043685913\n",
            "Epoch [83/550], Batch 1, D Loss: 1.5135572254657745, G Loss: 0.9474339485168457\n",
            "Epoch [84/550], Batch 1, D Loss: 1.0516909956932068, G Loss: 1.3620519638061523\n",
            "Epoch [85/550], Batch 1, D Loss: 1.5756640136241913, G Loss: 1.9875470399856567\n",
            "Epoch [86/550], Batch 1, D Loss: 0.5597947388887405, G Loss: 1.525863766670227\n",
            "Epoch [87/550], Batch 1, D Loss: 0.8689596131443977, G Loss: 1.2123298645019531\n",
            "Epoch [88/550], Batch 1, D Loss: 1.4757429957389832, G Loss: 2.621093273162842\n",
            "Epoch [89/550], Batch 1, D Loss: 0.6567061543464661, G Loss: 1.332194209098816\n",
            "Epoch [90/550], Batch 1, D Loss: 0.5416651517152786, G Loss: 1.688425064086914\n",
            "Epoch [91/550], Batch 1, D Loss: 0.8176030814647675, G Loss: 1.4139580726623535\n",
            "Epoch [92/550], Batch 1, D Loss: 1.1442933678627014, G Loss: 1.5090816020965576\n",
            "Epoch [93/550], Batch 1, D Loss: 0.8870441913604736, G Loss: 1.4750787019729614\n",
            "Epoch [94/550], Batch 1, D Loss: 1.2889752089977264, G Loss: 1.585856556892395\n",
            "Epoch [95/550], Batch 1, D Loss: 1.2435063123703003, G Loss: 1.7735925912857056\n",
            "Epoch [96/550], Batch 1, D Loss: 1.2898231148719788, G Loss: 0.9466264843940735\n",
            "Epoch [97/550], Batch 1, D Loss: 1.217158854007721, G Loss: 1.0983870029449463\n",
            "Epoch [98/550], Batch 1, D Loss: 1.280562937259674, G Loss: 0.8566247224807739\n",
            "Epoch [99/550], Batch 1, D Loss: 1.4032687842845917, G Loss: 0.8349951505661011\n",
            "Epoch [100/550], Batch 1, D Loss: 1.24396812915802, G Loss: 1.3382682800292969\n",
            "Epoch [101/550], Batch 1, D Loss: 1.3070863783359528, G Loss: 0.7964103817939758\n",
            "Epoch [102/550], Batch 1, D Loss: 1.1666275262832642, G Loss: 1.0716910362243652\n",
            "Epoch [103/550], Batch 1, D Loss: 1.2520867586135864, G Loss: 1.2660205364227295\n",
            "Epoch [104/550], Batch 1, D Loss: 1.2365408539772034, G Loss: 1.3467708826065063\n",
            "Epoch [105/550], Batch 1, D Loss: 1.3026829957962036, G Loss: 0.7287311553955078\n",
            "Epoch [106/550], Batch 1, D Loss: 1.2844131886959076, G Loss: 0.7302044034004211\n",
            "Epoch [107/550], Batch 1, D Loss: 1.3560029119253159, G Loss: 0.871335506439209\n",
            "Epoch [108/550], Batch 1, D Loss: 1.0766980648040771, G Loss: 1.135455846786499\n",
            "Epoch [109/550], Batch 1, D Loss: 1.2185185551643372, G Loss: 1.1571152210235596\n",
            "Epoch [110/550], Batch 1, D Loss: 1.1463053226470947, G Loss: 1.2861707210540771\n",
            "Epoch [111/550], Batch 1, D Loss: 1.204307198524475, G Loss: 1.3464889526367188\n",
            "Epoch [112/550], Batch 1, D Loss: 1.1956119239330292, G Loss: 1.7240723371505737\n",
            "Epoch [113/550], Batch 1, D Loss: 1.2101795673370361, G Loss: 1.9833970069885254\n",
            "Epoch [114/550], Batch 1, D Loss: 1.2273334860801697, G Loss: 0.8276342749595642\n",
            "Epoch [115/550], Batch 1, D Loss: 1.1393441259860992, G Loss: 0.8587040305137634\n",
            "Epoch [116/550], Batch 1, D Loss: 1.2759226560592651, G Loss: 1.9027289152145386\n",
            "Epoch [117/550], Batch 1, D Loss: 1.2235296368598938, G Loss: 1.6899919509887695\n",
            "Epoch [118/550], Batch 1, D Loss: 1.1124393939971924, G Loss: 1.8998351097106934\n",
            "Epoch [119/550], Batch 1, D Loss: 1.1050936579704285, G Loss: 0.9945822954177856\n",
            "Epoch [120/550], Batch 1, D Loss: 1.4994202554225922, G Loss: 0.7063366174697876\n",
            "Epoch [121/550], Batch 1, D Loss: 1.0835631489753723, G Loss: 1.392944097518921\n",
            "Epoch [122/550], Batch 1, D Loss: 1.1047972738742828, G Loss: 1.9461742639541626\n",
            "Epoch [123/550], Batch 1, D Loss: 1.0186339020729065, G Loss: 1.0185675621032715\n",
            "Epoch [124/550], Batch 1, D Loss: 1.0605590790510178, G Loss: 1.0115509033203125\n",
            "Epoch [125/550], Batch 1, D Loss: 1.1667077094316483, G Loss: 1.2274221181869507\n",
            "Epoch [126/550], Batch 1, D Loss: 1.2795160710811615, G Loss: 2.358168601989746\n",
            "Epoch [127/550], Batch 1, D Loss: 0.8849754631519318, G Loss: 1.265845537185669\n",
            "Epoch [128/550], Batch 1, D Loss: 1.102928102016449, G Loss: 1.0768468379974365\n",
            "Epoch [129/550], Batch 1, D Loss: 1.0317623019218445, G Loss: 2.3397128582000732\n",
            "Epoch [130/550], Batch 1, D Loss: 1.1316863000392914, G Loss: 1.0926629304885864\n",
            "Epoch [131/550], Batch 1, D Loss: 1.0824323296546936, G Loss: 2.3901963233947754\n",
            "Epoch [132/550], Batch 1, D Loss: 0.9232605397701263, G Loss: 1.5275988578796387\n",
            "Epoch [133/550], Batch 1, D Loss: 1.3163202852010727, G Loss: 1.3062126636505127\n",
            "Epoch [134/550], Batch 1, D Loss: 1.4317041337490082, G Loss: 0.8502374887466431\n",
            "Epoch [135/550], Batch 1, D Loss: 0.9869847893714905, G Loss: 1.8518950939178467\n",
            "Epoch [136/550], Batch 1, D Loss: 1.0011370182037354, G Loss: 1.8444266319274902\n",
            "Epoch [137/550], Batch 1, D Loss: 1.0234341025352478, G Loss: 1.3922675848007202\n",
            "Epoch [138/550], Batch 1, D Loss: 0.9407992660999298, G Loss: 1.1778897047042847\n",
            "Epoch [139/550], Batch 1, D Loss: 0.9320863485336304, G Loss: 2.477290391921997\n",
            "Epoch [140/550], Batch 1, D Loss: 1.0120155215263367, G Loss: 1.2419939041137695\n",
            "Epoch [141/550], Batch 1, D Loss: 0.8924738168716431, G Loss: 1.1918206214904785\n",
            "Epoch [142/550], Batch 1, D Loss: 1.8341180235147476, G Loss: 0.6720055341720581\n",
            "Epoch [143/550], Batch 1, D Loss: 1.1760437488555908, G Loss: 1.0453455448150635\n",
            "Epoch [144/550], Batch 1, D Loss: 1.144545704126358, G Loss: 2.2410409450531006\n",
            "Epoch [145/550], Batch 1, D Loss: 1.0646981000900269, G Loss: 1.863952398300171\n",
            "Epoch [146/550], Batch 1, D Loss: 1.0593233704566956, G Loss: 1.0514752864837646\n",
            "Epoch [147/550], Batch 1, D Loss: 1.1258321404457092, G Loss: 0.9809088706970215\n",
            "Epoch [148/550], Batch 1, D Loss: 0.9064122140407562, G Loss: 1.401322603225708\n",
            "Epoch [149/550], Batch 1, D Loss: 1.0245645940303802, G Loss: 2.1227927207946777\n",
            "Epoch [150/550], Batch 1, D Loss: 1.1763198971748352, G Loss: 0.9365371465682983\n",
            "Epoch [151/550], Batch 1, D Loss: 0.9546100497245789, G Loss: 1.659040927886963\n",
            "Epoch [152/550], Batch 1, D Loss: 1.1373958885669708, G Loss: 0.9986509680747986\n",
            "Epoch [153/550], Batch 1, D Loss: 1.2384065389633179, G Loss: 2.485832691192627\n",
            "Epoch [154/550], Batch 1, D Loss: 1.0756986737251282, G Loss: 2.19354510307312\n",
            "Epoch [155/550], Batch 1, D Loss: 1.033765196800232, G Loss: 1.6683402061462402\n",
            "Epoch [156/550], Batch 1, D Loss: 0.9831750094890594, G Loss: 1.5992056131362915\n",
            "Epoch [157/550], Batch 1, D Loss: 1.2040690183639526, G Loss: 0.935625433921814\n",
            "Epoch [158/550], Batch 1, D Loss: 1.248560905456543, G Loss: 1.0261914730072021\n",
            "Epoch [159/550], Batch 1, D Loss: 1.1182238161563873, G Loss: 2.0441884994506836\n",
            "Epoch [160/550], Batch 1, D Loss: 0.8238180503249168, G Loss: 1.1534571647644043\n",
            "Epoch [161/550], Batch 1, D Loss: 0.9387999922037125, G Loss: 1.2250235080718994\n",
            "Epoch [162/550], Batch 1, D Loss: 1.2863994538784027, G Loss: 2.3107428550720215\n",
            "Epoch [163/550], Batch 1, D Loss: 0.9338379204273224, G Loss: 1.1444315910339355\n",
            "Epoch [164/550], Batch 1, D Loss: 0.8541871905326843, G Loss: 1.6841037273406982\n",
            "Epoch [165/550], Batch 1, D Loss: 0.9984189569950104, G Loss: 1.200182557106018\n",
            "Epoch [166/550], Batch 1, D Loss: 0.9130197763442993, G Loss: 1.4545809030532837\n",
            "Epoch [167/550], Batch 1, D Loss: 1.1610080301761627, G Loss: 1.125791311264038\n",
            "Epoch [168/550], Batch 1, D Loss: 1.3150984644889832, G Loss: 2.7285571098327637\n",
            "Epoch [169/550], Batch 1, D Loss: 0.914012998342514, G Loss: 1.3455510139465332\n",
            "Epoch [170/550], Batch 1, D Loss: 1.18497633934021, G Loss: 2.880934715270996\n",
            "Epoch [171/550], Batch 1, D Loss: 0.9855455756187439, G Loss: 1.3484771251678467\n",
            "Epoch [172/550], Batch 1, D Loss: 0.8416667878627777, G Loss: 1.7998440265655518\n",
            "Epoch [173/550], Batch 1, D Loss: 1.0593790411949158, G Loss: 0.9412784576416016\n",
            "Epoch [174/550], Batch 1, D Loss: 1.5960633754730225, G Loss: 3.285398483276367\n",
            "Epoch [175/550], Batch 1, D Loss: 1.307311862707138, G Loss: 0.8883234262466431\n",
            "Epoch [176/550], Batch 1, D Loss: 0.7097765505313873, G Loss: 1.6462016105651855\n",
            "Epoch [177/550], Batch 1, D Loss: 1.0090405941009521, G Loss: 2.4697866439819336\n",
            "Epoch [178/550], Batch 1, D Loss: 1.4528277665376663, G Loss: 0.67149817943573\n",
            "Epoch [179/550], Batch 1, D Loss: 1.0580667853355408, G Loss: 2.836737632751465\n",
            "Epoch [180/550], Batch 1, D Loss: 0.9567651301622391, G Loss: 1.2600067853927612\n",
            "Epoch [181/550], Batch 1, D Loss: 0.8121329843997955, G Loss: 1.910936951637268\n",
            "Epoch [182/550], Batch 1, D Loss: 0.8531873226165771, G Loss: 1.498558521270752\n",
            "Epoch [183/550], Batch 1, D Loss: 1.034561648964882, G Loss: 1.2280845642089844\n",
            "Epoch [184/550], Batch 1, D Loss: 0.8782761469483376, G Loss: 1.4284429550170898\n",
            "Epoch [185/550], Batch 1, D Loss: 0.896194577217102, G Loss: 2.0889387130737305\n",
            "Epoch [186/550], Batch 1, D Loss: 1.3694264814257622, G Loss: 0.9261943101882935\n",
            "Epoch [187/550], Batch 1, D Loss: 0.9950001835823059, G Loss: 2.259104013442993\n",
            "Epoch [188/550], Batch 1, D Loss: 0.9822956919670105, G Loss: 2.2133536338806152\n",
            "Epoch [189/550], Batch 1, D Loss: 0.8370677381753922, G Loss: 1.7020291090011597\n",
            "Epoch [190/550], Batch 1, D Loss: 1.0040104389190674, G Loss: 2.0295352935791016\n",
            "Epoch [191/550], Batch 1, D Loss: 1.2776259630918503, G Loss: 0.814563512802124\n",
            "Epoch [192/550], Batch 1, D Loss: 0.8570543825626373, G Loss: 1.7239468097686768\n",
            "Epoch [193/550], Batch 1, D Loss: 0.8799302279949188, G Loss: 1.4596898555755615\n",
            "Epoch [194/550], Batch 1, D Loss: 1.1147956550121307, G Loss: 2.6536929607391357\n",
            "Epoch [195/550], Batch 1, D Loss: 0.805014044046402, G Loss: 1.775177001953125\n",
            "Epoch [196/550], Batch 1, D Loss: 1.0167105197906494, G Loss: 1.351276159286499\n",
            "Epoch [197/550], Batch 1, D Loss: 0.9604624211788177, G Loss: 1.4901416301727295\n",
            "Epoch [198/550], Batch 1, D Loss: 1.3731933310627937, G Loss: 0.7497279047966003\n",
            "Epoch [199/550], Batch 1, D Loss: 1.050605058670044, G Loss: 2.5141067504882812\n",
            "Epoch [200/550], Batch 1, D Loss: 1.0588277578353882, G Loss: 2.1991028785705566\n",
            "Epoch [201/550], Batch 1, D Loss: 0.9210017323493958, G Loss: 1.9650330543518066\n",
            "Epoch [202/550], Batch 1, D Loss: 1.068080484867096, G Loss: 1.136734962463379\n",
            "Epoch [203/550], Batch 1, D Loss: 0.7749121487140656, G Loss: 1.909744143486023\n",
            "Epoch [204/550], Batch 1, D Loss: 0.9844200015068054, G Loss: 1.550308346748352\n",
            "Epoch [205/550], Batch 1, D Loss: 0.933713436126709, G Loss: 1.5340957641601562\n",
            "Epoch [206/550], Batch 1, D Loss: 1.0434380769729614, G Loss: 2.7977688312530518\n",
            "Epoch [207/550], Batch 1, D Loss: 1.0658839344978333, G Loss: 1.2831121683120728\n",
            "Epoch [208/550], Batch 1, D Loss: 0.9300530850887299, G Loss: 1.9423010349273682\n",
            "Epoch [209/550], Batch 1, D Loss: 0.8491269946098328, G Loss: 1.9589356184005737\n",
            "Epoch [210/550], Batch 1, D Loss: 1.3539694547653198, G Loss: 2.560492992401123\n",
            "Epoch [211/550], Batch 1, D Loss: 1.0122931599617004, G Loss: 2.1328413486480713\n",
            "Epoch [212/550], Batch 1, D Loss: 0.8589196503162384, G Loss: 1.742455244064331\n",
            "Epoch [213/550], Batch 1, D Loss: 1.0495464205741882, G Loss: 0.9620932340621948\n",
            "Epoch [214/550], Batch 1, D Loss: 0.8560537099838257, G Loss: 1.7419480085372925\n",
            "Epoch [215/550], Batch 1, D Loss: 1.2123196721076965, G Loss: 1.132210373878479\n",
            "Epoch [216/550], Batch 1, D Loss: 1.644730567932129, G Loss: 2.8395121097564697\n",
            "Epoch [217/550], Batch 1, D Loss: 0.9934920370578766, G Loss: 1.4606759548187256\n",
            "Epoch [218/550], Batch 1, D Loss: 0.8963527679443359, G Loss: 1.912941813468933\n",
            "Epoch [219/550], Batch 1, D Loss: 1.1607815623283386, G Loss: 2.8371405601501465\n",
            "Epoch [220/550], Batch 1, D Loss: 0.7755717784166336, G Loss: 1.7212510108947754\n",
            "Epoch [221/550], Batch 1, D Loss: 1.0253801941871643, G Loss: 1.5179095268249512\n",
            "Epoch [222/550], Batch 1, D Loss: 1.005774825811386, G Loss: 2.175457000732422\n",
            "Epoch [223/550], Batch 1, D Loss: 1.0224323868751526, G Loss: 2.245307445526123\n",
            "Epoch [224/550], Batch 1, D Loss: 1.1850352883338928, G Loss: 3.3021838665008545\n",
            "Epoch [225/550], Batch 1, D Loss: 1.2125405222177505, G Loss: 1.0546902418136597\n",
            "Epoch [226/550], Batch 1, D Loss: 1.0307867527008057, G Loss: 1.9056766033172607\n",
            "Epoch [227/550], Batch 1, D Loss: 0.9324931800365448, G Loss: 1.376724123954773\n",
            "Epoch [228/550], Batch 1, D Loss: 0.974731832742691, G Loss: 1.9905095100402832\n",
            "Epoch [229/550], Batch 1, D Loss: 0.929859071969986, G Loss: 1.3712115287780762\n",
            "Epoch [230/550], Batch 1, D Loss: 1.0297225415706635, G Loss: 2.711271286010742\n",
            "Epoch [231/550], Batch 1, D Loss: 1.2792635560035706, G Loss: 2.566871404647827\n",
            "Epoch [232/550], Batch 1, D Loss: 1.0067152678966522, G Loss: 1.29371976852417\n",
            "Epoch [233/550], Batch 1, D Loss: 0.8569261431694031, G Loss: 1.3599774837493896\n",
            "Epoch [234/550], Batch 1, D Loss: 1.0476667284965515, G Loss: 2.156444549560547\n",
            "Epoch [235/550], Batch 1, D Loss: 0.7540019750595093, G Loss: 1.9373645782470703\n",
            "Epoch [236/550], Batch 1, D Loss: 1.1938247084617615, G Loss: 2.7297308444976807\n",
            "Epoch [237/550], Batch 1, D Loss: 1.262151062488556, G Loss: 2.866246461868286\n",
            "Epoch [238/550], Batch 1, D Loss: 0.8657467365264893, G Loss: 1.3777740001678467\n",
            "Epoch [239/550], Batch 1, D Loss: 1.1805003881454468, G Loss: 3.3312764167785645\n",
            "Epoch [240/550], Batch 1, D Loss: 0.9985420554876328, G Loss: 1.0781835317611694\n",
            "Epoch [241/550], Batch 1, D Loss: 1.1156326234340668, G Loss: 2.6230804920196533\n",
            "Epoch [242/550], Batch 1, D Loss: 1.0437034964561462, G Loss: 1.4244866371154785\n",
            "Epoch [243/550], Batch 1, D Loss: 1.155014455318451, G Loss: 2.449385643005371\n",
            "Epoch [244/550], Batch 1, D Loss: 0.9056611061096191, G Loss: 1.552748203277588\n",
            "Epoch [245/550], Batch 1, D Loss: 1.059814691543579, G Loss: 2.1695737838745117\n",
            "Epoch [246/550], Batch 1, D Loss: 1.094668671488762, G Loss: 1.1469215154647827\n",
            "Epoch [247/550], Batch 1, D Loss: 1.1073142886161804, G Loss: 2.4792935848236084\n",
            "Epoch [248/550], Batch 1, D Loss: 0.9732321202754974, G Loss: 1.3587706089019775\n",
            "Epoch [249/550], Batch 1, D Loss: 0.8402125462889671, G Loss: 1.4124412536621094\n",
            "Epoch [250/550], Batch 1, D Loss: 1.0402856469154358, G Loss: 2.0934526920318604\n",
            "Epoch [251/550], Batch 1, D Loss: 0.901628240942955, G Loss: 1.25285005569458\n",
            "Epoch [252/550], Batch 1, D Loss: 1.1051888465881348, G Loss: 2.117313861846924\n",
            "Epoch [253/550], Batch 1, D Loss: 0.945650041103363, G Loss: 1.7004379034042358\n",
            "Epoch [254/550], Batch 1, D Loss: 1.0467500537633896, G Loss: 1.2674927711486816\n",
            "Epoch [255/550], Batch 1, D Loss: 1.2615184485912323, G Loss: 2.758509874343872\n",
            "Epoch [256/550], Batch 1, D Loss: 1.0048044919967651, G Loss: 2.440702438354492\n",
            "Epoch [257/550], Batch 1, D Loss: 1.1115466058254242, G Loss: 2.3153417110443115\n",
            "Epoch [258/550], Batch 1, D Loss: 1.025571495294571, G Loss: 1.034595251083374\n",
            "Epoch [259/550], Batch 1, D Loss: 1.2893577218055725, G Loss: 3.0937509536743164\n",
            "Epoch [260/550], Batch 1, D Loss: 1.108324646949768, G Loss: 2.5756266117095947\n",
            "Epoch [261/550], Batch 1, D Loss: 0.9819762706756592, G Loss: 1.4644865989685059\n",
            "Epoch [262/550], Batch 1, D Loss: 0.9504419267177582, G Loss: 1.4547991752624512\n",
            "Epoch [263/550], Batch 1, D Loss: 1.1277556121349335, G Loss: 2.9429311752319336\n",
            "Epoch [264/550], Batch 1, D Loss: 1.1536403000354767, G Loss: 1.2944862842559814\n",
            "Epoch [265/550], Batch 1, D Loss: 1.1935124397277832, G Loss: 1.5047693252563477\n",
            "Epoch [266/550], Batch 1, D Loss: 0.8953966498374939, G Loss: 1.8665438890457153\n",
            "Epoch [267/550], Batch 1, D Loss: 1.0667921006679535, G Loss: 2.282259225845337\n",
            "Epoch [268/550], Batch 1, D Loss: 0.8540649712085724, G Loss: 1.6080822944641113\n",
            "Epoch [269/550], Batch 1, D Loss: 0.9535578787326813, G Loss: 1.7095227241516113\n",
            "Epoch [270/550], Batch 1, D Loss: 0.9423218071460724, G Loss: 2.0505385398864746\n",
            "Epoch [271/550], Batch 1, D Loss: 0.8721609711647034, G Loss: 1.581969976425171\n",
            "Epoch [272/550], Batch 1, D Loss: 1.0259013175964355, G Loss: 1.1171633005142212\n",
            "Epoch [273/550], Batch 1, D Loss: 1.075383871793747, G Loss: 1.2325292825698853\n",
            "Epoch [274/550], Batch 1, D Loss: 1.5078308582305908, G Loss: 2.718094825744629\n",
            "Epoch [275/550], Batch 1, D Loss: 1.0080633759498596, G Loss: 2.1915946006774902\n",
            "Epoch [276/550], Batch 1, D Loss: 1.0435371696949005, G Loss: 1.1784746646881104\n",
            "Epoch [277/550], Batch 1, D Loss: 0.9452328979969025, G Loss: 1.6645863056182861\n",
            "Epoch [278/550], Batch 1, D Loss: 1.3720850944519043, G Loss: 1.1613566875457764\n",
            "Epoch [279/550], Batch 1, D Loss: 0.9516250193119049, G Loss: 2.2626757621765137\n",
            "Epoch [280/550], Batch 1, D Loss: 0.9404580891132355, G Loss: 1.4885069131851196\n",
            "Epoch [281/550], Batch 1, D Loss: 0.8061000406742096, G Loss: 1.534766674041748\n",
            "Epoch [282/550], Batch 1, D Loss: 1.0183616280555725, G Loss: 2.2354846000671387\n",
            "Epoch [283/550], Batch 1, D Loss: 0.7781455665826797, G Loss: 1.6625642776489258\n",
            "Epoch [284/550], Batch 1, D Loss: 1.1868121027946472, G Loss: 2.369163990020752\n",
            "Epoch [285/550], Batch 1, D Loss: 1.0893169790506363, G Loss: 1.0831375122070312\n",
            "Epoch [286/550], Batch 1, D Loss: 0.9299529790878296, G Loss: 2.0504074096679688\n",
            "Epoch [287/550], Batch 1, D Loss: 0.8628335744142532, G Loss: 1.4107438325881958\n",
            "Epoch [288/550], Batch 1, D Loss: 0.9100911617279053, G Loss: 1.462655782699585\n",
            "Epoch [289/550], Batch 1, D Loss: 1.627732202410698, G Loss: 0.9179770946502686\n",
            "Epoch [290/550], Batch 1, D Loss: 0.9092841148376465, G Loss: 1.8914952278137207\n",
            "Epoch [291/550], Batch 1, D Loss: 1.0126967430114746, G Loss: 1.8475396633148193\n",
            "Epoch [292/550], Batch 1, D Loss: 1.1317399144172668, G Loss: 0.9775065183639526\n",
            "Epoch [293/550], Batch 1, D Loss: 0.936227947473526, G Loss: 1.867828130722046\n",
            "Epoch [294/550], Batch 1, D Loss: 0.8745354413986206, G Loss: 1.8621543645858765\n",
            "Epoch [295/550], Batch 1, D Loss: 0.9428175389766693, G Loss: 1.3053405284881592\n",
            "Epoch [296/550], Batch 1, D Loss: 1.2697128653526306, G Loss: 2.510953426361084\n",
            "Epoch [297/550], Batch 1, D Loss: 0.897131085395813, G Loss: 1.8779358863830566\n",
            "Epoch [298/550], Batch 1, D Loss: 0.935421347618103, G Loss: 1.6219604015350342\n",
            "Epoch [299/550], Batch 1, D Loss: 1.2243788838386536, G Loss: 2.7091736793518066\n",
            "Epoch [300/550], Batch 1, D Loss: 0.8042600154876709, G Loss: 1.8170111179351807\n",
            "Epoch [301/550], Batch 1, D Loss: 1.098920464515686, G Loss: 2.2196125984191895\n",
            "Epoch [302/550], Batch 1, D Loss: 0.9295237064361572, G Loss: 1.3515537977218628\n",
            "Epoch [303/550], Batch 1, D Loss: 0.9913522750139236, G Loss: 1.367535948753357\n",
            "Epoch [304/550], Batch 1, D Loss: 1.0497223287820816, G Loss: 1.2717158794403076\n",
            "Epoch [305/550], Batch 1, D Loss: 1.0205809473991394, G Loss: 1.3266332149505615\n",
            "Epoch [306/550], Batch 1, D Loss: 0.8291196227073669, G Loss: 1.7136871814727783\n",
            "Epoch [307/550], Batch 1, D Loss: 0.7711344361305237, G Loss: 1.6164613962173462\n",
            "Epoch [308/550], Batch 1, D Loss: 1.0101780891418457, G Loss: 1.8665783405303955\n",
            "Epoch [309/550], Batch 1, D Loss: 0.9015746861696243, G Loss: 1.2974220514297485\n",
            "Epoch [310/550], Batch 1, D Loss: 0.8685894906520844, G Loss: 1.831656813621521\n",
            "Epoch [311/550], Batch 1, D Loss: 0.9084135293960571, G Loss: 1.7500321865081787\n",
            "Epoch [312/550], Batch 1, D Loss: 0.9293974936008453, G Loss: 1.8714420795440674\n",
            "Epoch [313/550], Batch 1, D Loss: 0.9558142423629761, G Loss: 1.5959573984146118\n",
            "Epoch [314/550], Batch 1, D Loss: 0.9871832430362701, G Loss: 2.1676735877990723\n",
            "Epoch [315/550], Batch 1, D Loss: 0.9819632470607758, G Loss: 1.1478105783462524\n",
            "Epoch [316/550], Batch 1, D Loss: 1.1422538459300995, G Loss: 2.424731969833374\n",
            "Epoch [317/550], Batch 1, D Loss: 0.9701865315437317, G Loss: 1.1959530115127563\n",
            "Epoch [318/550], Batch 1, D Loss: 1.041295051574707, G Loss: 2.4877655506134033\n",
            "Epoch [319/550], Batch 1, D Loss: 1.0340492725372314, G Loss: 2.3278961181640625\n",
            "Epoch [320/550], Batch 1, D Loss: 1.1877979636192322, G Loss: 2.5890555381774902\n",
            "Epoch [321/550], Batch 1, D Loss: 1.043712556362152, G Loss: 1.3113462924957275\n",
            "Epoch [322/550], Batch 1, D Loss: 0.8838073909282684, G Loss: 1.927026629447937\n",
            "Epoch [323/550], Batch 1, D Loss: 1.0628322511911392, G Loss: 1.5487276315689087\n",
            "Epoch [324/550], Batch 1, D Loss: 0.9789116978645325, G Loss: 1.3307541608810425\n",
            "Epoch [325/550], Batch 1, D Loss: 0.873849630355835, G Loss: 1.4213807582855225\n",
            "Epoch [326/550], Batch 1, D Loss: 0.9383127093315125, G Loss: 1.5284980535507202\n",
            "Epoch [327/550], Batch 1, D Loss: 1.0392654538154602, G Loss: 2.1662864685058594\n",
            "Epoch [328/550], Batch 1, D Loss: 0.8833259493112564, G Loss: 1.625805139541626\n",
            "Epoch [329/550], Batch 1, D Loss: 0.8481613844633102, G Loss: 1.4620827436447144\n",
            "Epoch [330/550], Batch 1, D Loss: 0.9582752585411072, G Loss: 1.436712622642517\n",
            "Epoch [331/550], Batch 1, D Loss: 0.9320775270462036, G Loss: 1.986397624015808\n",
            "Epoch [332/550], Batch 1, D Loss: 1.0355324149131775, G Loss: 2.1801788806915283\n",
            "Epoch [333/550], Batch 1, D Loss: 1.2799401879310608, G Loss: 2.744607448577881\n",
            "Epoch [334/550], Batch 1, D Loss: 0.9501299262046814, G Loss: 1.7697858810424805\n",
            "Epoch [335/550], Batch 1, D Loss: 1.2896977663040161, G Loss: 1.1311562061309814\n",
            "Epoch [336/550], Batch 1, D Loss: 0.9975681900978088, G Loss: 2.3584465980529785\n",
            "Epoch [337/550], Batch 1, D Loss: 1.129741370677948, G Loss: 2.462477684020996\n",
            "Epoch [338/550], Batch 1, D Loss: 0.7878985702991486, G Loss: 1.6997112035751343\n",
            "Epoch [339/550], Batch 1, D Loss: 1.0893445014953613, G Loss: 2.3461716175079346\n",
            "Epoch [340/550], Batch 1, D Loss: 0.8280263245105743, G Loss: 1.6650313138961792\n",
            "Epoch [341/550], Batch 1, D Loss: 1.1564350128173828, G Loss: 1.1957662105560303\n",
            "Epoch [342/550], Batch 1, D Loss: 0.9021510630846024, G Loss: 1.320899486541748\n",
            "Epoch [343/550], Batch 1, D Loss: 1.1117979884147644, G Loss: 2.765178680419922\n",
            "Epoch [344/550], Batch 1, D Loss: 0.954420268535614, G Loss: 1.5486009120941162\n",
            "Epoch [345/550], Batch 1, D Loss: 0.8691511154174805, G Loss: 1.5995166301727295\n",
            "Epoch [346/550], Batch 1, D Loss: 0.7995804697275162, G Loss: 1.5845332145690918\n",
            "Epoch [347/550], Batch 1, D Loss: 0.9864937216043472, G Loss: 1.4306437969207764\n",
            "Epoch [348/550], Batch 1, D Loss: 0.9354856610298157, G Loss: 1.7770675420761108\n",
            "Epoch [349/550], Batch 1, D Loss: 0.8461118936538696, G Loss: 1.4402426481246948\n",
            "Epoch [350/550], Batch 1, D Loss: 0.9274215027689934, G Loss: 1.3150545358657837\n",
            "Epoch [351/550], Batch 1, D Loss: 0.9404252916574478, G Loss: 1.3153058290481567\n",
            "Epoch [352/550], Batch 1, D Loss: 0.8029057681560516, G Loss: 1.3710134029388428\n",
            "Epoch [353/550], Batch 1, D Loss: 0.8456789255142212, G Loss: 1.6310439109802246\n",
            "Epoch [354/550], Batch 1, D Loss: 0.9160400629043579, G Loss: 2.3120102882385254\n",
            "Epoch [355/550], Batch 1, D Loss: 0.9245982766151428, G Loss: 1.8030734062194824\n",
            "Epoch [356/550], Batch 1, D Loss: 1.0842349082231522, G Loss: 1.1257104873657227\n",
            "Epoch [357/550], Batch 1, D Loss: 1.1389448642730713, G Loss: 2.492495059967041\n",
            "Epoch [358/550], Batch 1, D Loss: 1.0306885242462158, G Loss: 2.5636208057403564\n",
            "Epoch [359/550], Batch 1, D Loss: 0.836131751537323, G Loss: 2.100494146347046\n",
            "Epoch [360/550], Batch 1, D Loss: 1.0780383050441742, G Loss: 1.2708358764648438\n",
            "Epoch [361/550], Batch 1, D Loss: 0.9856504797935486, G Loss: 1.8427122831344604\n",
            "Epoch [362/550], Batch 1, D Loss: 0.9000645577907562, G Loss: 2.123060464859009\n",
            "Epoch [363/550], Batch 1, D Loss: 0.9829459488391876, G Loss: 1.4845070838928223\n",
            "Epoch [364/550], Batch 1, D Loss: 0.862308919429779, G Loss: 2.1616077423095703\n",
            "Epoch [365/550], Batch 1, D Loss: 0.7735062539577484, G Loss: 1.9522205591201782\n",
            "Epoch [366/550], Batch 1, D Loss: 1.0560528635978699, G Loss: 1.7615736722946167\n",
            "Epoch [367/550], Batch 1, D Loss: 1.1753513813018799, G Loss: 2.4082159996032715\n",
            "Epoch [368/550], Batch 1, D Loss: 0.9871146753430367, G Loss: 1.0966904163360596\n",
            "Epoch [369/550], Batch 1, D Loss: 0.8922103047370911, G Loss: 2.012836456298828\n",
            "Epoch [370/550], Batch 1, D Loss: 0.9268027544021606, G Loss: 2.0257863998413086\n",
            "Epoch [371/550], Batch 1, D Loss: 0.9006995260715485, G Loss: 1.677327275276184\n",
            "Epoch [372/550], Batch 1, D Loss: 0.9431034326553345, G Loss: 1.723386526107788\n",
            "Epoch [373/550], Batch 1, D Loss: 1.4746735394001007, G Loss: 3.0676429271698\n",
            "Epoch [374/550], Batch 1, D Loss: 0.9474561288952827, G Loss: 1.2237660884857178\n",
            "Epoch [375/550], Batch 1, D Loss: 0.8870264291763306, G Loss: 2.1286702156066895\n",
            "Epoch [376/550], Batch 1, D Loss: 0.8385193645954132, G Loss: 1.7659695148468018\n",
            "Epoch [377/550], Batch 1, D Loss: 0.8449274301528931, G Loss: 1.4519661664962769\n",
            "Epoch [378/550], Batch 1, D Loss: 0.8170208930969238, G Loss: 2.0224289894104004\n",
            "Epoch [379/550], Batch 1, D Loss: 0.77823206782341, G Loss: 1.5906962156295776\n",
            "Epoch [380/550], Batch 1, D Loss: 1.036863923072815, G Loss: 2.6601052284240723\n",
            "Epoch [381/550], Batch 1, D Loss: 0.9919016063213348, G Loss: 1.936413049697876\n",
            "Epoch [382/550], Batch 1, D Loss: 1.1051072776317596, G Loss: 2.8210601806640625\n",
            "Epoch [383/550], Batch 1, D Loss: 0.899959921836853, G Loss: 1.6521077156066895\n",
            "Epoch [384/550], Batch 1, D Loss: 1.0491079539060593, G Loss: 1.130198359489441\n",
            "Epoch [385/550], Batch 1, D Loss: 0.9179999232292175, G Loss: 1.9363832473754883\n",
            "Epoch [386/550], Batch 1, D Loss: 0.9458746314048767, G Loss: 1.7611606121063232\n",
            "Epoch [387/550], Batch 1, D Loss: 0.8055828511714935, G Loss: 1.6556389331817627\n",
            "Epoch [388/550], Batch 1, D Loss: 0.890316978096962, G Loss: 1.7247858047485352\n",
            "Epoch [389/550], Batch 1, D Loss: 0.8844547867774963, G Loss: 1.4134106636047363\n",
            "Epoch [390/550], Batch 1, D Loss: 0.9277720153331757, G Loss: 1.6189043521881104\n",
            "Epoch [391/550], Batch 1, D Loss: 0.8489693105220795, G Loss: 2.4052727222442627\n",
            "Epoch [392/550], Batch 1, D Loss: 0.8107105493545532, G Loss: 1.9002232551574707\n",
            "Epoch [393/550], Batch 1, D Loss: 0.7884353622794151, G Loss: 1.6999320983886719\n",
            "Epoch [394/550], Batch 1, D Loss: 0.9375006556510925, G Loss: 1.9869403839111328\n",
            "Epoch [395/550], Batch 1, D Loss: 1.0560361742973328, G Loss: 3.03098201751709\n",
            "Epoch [396/550], Batch 1, D Loss: 1.042267084121704, G Loss: 2.0925559997558594\n",
            "Epoch [397/550], Batch 1, D Loss: 0.9635558128356934, G Loss: 2.327796459197998\n",
            "Epoch [398/550], Batch 1, D Loss: 0.9163151979446411, G Loss: 1.9841872453689575\n",
            "Epoch [399/550], Batch 1, D Loss: 0.9009336829185486, G Loss: 1.925433874130249\n",
            "Epoch [400/550], Batch 1, D Loss: 0.9847424030303955, G Loss: 1.8707592487335205\n",
            "Epoch [401/550], Batch 1, D Loss: 0.7920597791671753, G Loss: 2.2395806312561035\n",
            "Epoch [402/550], Batch 1, D Loss: 0.878501832485199, G Loss: 1.7611618041992188\n",
            "Epoch [403/550], Batch 1, D Loss: 0.9143874198198318, G Loss: 1.4587044715881348\n",
            "Epoch [404/550], Batch 1, D Loss: 0.9594655632972717, G Loss: 2.309244155883789\n",
            "Epoch [405/550], Batch 1, D Loss: 0.8555428087711334, G Loss: 2.0499119758605957\n",
            "Epoch [406/550], Batch 1, D Loss: 1.0015462934970856, G Loss: 2.720546007156372\n",
            "Epoch [407/550], Batch 1, D Loss: 1.0894231051206589, G Loss: 1.3024014234542847\n",
            "Epoch [408/550], Batch 1, D Loss: 0.90906822681427, G Loss: 1.4660662412643433\n",
            "Epoch [409/550], Batch 1, D Loss: 0.9688461720943451, G Loss: 1.4831154346466064\n",
            "Epoch [410/550], Batch 1, D Loss: 1.0076232552528381, G Loss: 2.878371477127075\n",
            "Epoch [411/550], Batch 1, D Loss: 0.8941292762756348, G Loss: 1.9981756210327148\n",
            "Epoch [412/550], Batch 1, D Loss: 0.9686350226402283, G Loss: 1.4179110527038574\n",
            "Epoch [413/550], Batch 1, D Loss: 1.071862131357193, G Loss: 0.8812389373779297\n",
            "Epoch [414/550], Batch 1, D Loss: 0.8748632073402405, G Loss: 1.8509933948516846\n",
            "Epoch [415/550], Batch 1, D Loss: 0.8647418916225433, G Loss: 2.6437923908233643\n",
            "Epoch [416/550], Batch 1, D Loss: 0.7906949520111084, G Loss: 1.8451478481292725\n",
            "Epoch [417/550], Batch 1, D Loss: 0.9061170816421509, G Loss: 1.5268880128860474\n",
            "Epoch [418/550], Batch 1, D Loss: 0.8488980531692505, G Loss: 1.8454786539077759\n",
            "Epoch [419/550], Batch 1, D Loss: 0.929132342338562, G Loss: 2.180757522583008\n",
            "Epoch [420/550], Batch 1, D Loss: 1.224513441324234, G Loss: 1.152355432510376\n",
            "Epoch [421/550], Batch 1, D Loss: 0.8991190791130066, G Loss: 1.7338249683380127\n",
            "Epoch [422/550], Batch 1, D Loss: 0.8844055980443954, G Loss: 1.385137915611267\n",
            "Epoch [423/550], Batch 1, D Loss: 0.7700369656085968, G Loss: 2.3656129837036133\n",
            "Epoch [424/550], Batch 1, D Loss: 0.8725543022155762, G Loss: 1.9697134494781494\n",
            "Epoch [425/550], Batch 1, D Loss: 0.963413804769516, G Loss: 2.2559685707092285\n",
            "Epoch [426/550], Batch 1, D Loss: 0.9389409422874451, G Loss: 1.4902013540267944\n",
            "Epoch [427/550], Batch 1, D Loss: 0.8755548000335693, G Loss: 1.3683717250823975\n",
            "Epoch [428/550], Batch 1, D Loss: 0.6773879528045654, G Loss: 1.6932191848754883\n",
            "Epoch [429/550], Batch 1, D Loss: 1.2143932059407234, G Loss: 1.068971872329712\n",
            "Epoch [430/550], Batch 1, D Loss: 0.8289559185504913, G Loss: 1.9811387062072754\n",
            "Epoch [431/550], Batch 1, D Loss: 1.1256981492042542, G Loss: 3.30720853805542\n",
            "Epoch [432/550], Batch 1, D Loss: 0.8325136005878448, G Loss: 2.0893073081970215\n",
            "Epoch [433/550], Batch 1, D Loss: 0.9156704843044281, G Loss: 1.9443399906158447\n",
            "Epoch [434/550], Batch 1, D Loss: 0.8125185370445251, G Loss: 2.144955635070801\n",
            "Epoch [435/550], Batch 1, D Loss: 0.8654923141002655, G Loss: 2.4227566719055176\n",
            "Epoch [436/550], Batch 1, D Loss: 0.9807206988334656, G Loss: 1.4239833354949951\n",
            "Epoch [437/550], Batch 1, D Loss: 0.837600827217102, G Loss: 2.1247119903564453\n",
            "Epoch [438/550], Batch 1, D Loss: 0.9377809166908264, G Loss: 1.3938040733337402\n",
            "Epoch [439/550], Batch 1, D Loss: 0.7435083091259003, G Loss: 2.337625503540039\n",
            "Epoch [440/550], Batch 1, D Loss: 0.8766150176525116, G Loss: 1.906840205192566\n",
            "Epoch [441/550], Batch 1, D Loss: 0.7900027334690094, G Loss: 1.9230666160583496\n",
            "Epoch [442/550], Batch 1, D Loss: 0.8863412141799927, G Loss: 2.018296957015991\n",
            "Epoch [443/550], Batch 1, D Loss: 1.2449145540595055, G Loss: 1.3006240129470825\n",
            "Epoch [444/550], Batch 1, D Loss: 0.8280615508556366, G Loss: 2.599429130554199\n",
            "Epoch [445/550], Batch 1, D Loss: 0.8110454976558685, G Loss: 1.94242525100708\n",
            "Epoch [446/550], Batch 1, D Loss: 0.8805167526006699, G Loss: 1.7581017017364502\n",
            "Epoch [447/550], Batch 1, D Loss: 0.8514063358306885, G Loss: 1.7050511837005615\n",
            "Epoch [448/550], Batch 1, D Loss: 1.1079083755612373, G Loss: 1.405988097190857\n",
            "Epoch [449/550], Batch 1, D Loss: 0.814605638384819, G Loss: 1.8242512941360474\n",
            "Epoch [450/550], Batch 1, D Loss: 0.862922191619873, G Loss: 1.7712265253067017\n",
            "Epoch [451/550], Batch 1, D Loss: 0.8922184705734253, G Loss: 2.3534743785858154\n",
            "Epoch [452/550], Batch 1, D Loss: 1.0245250165462494, G Loss: 2.496408462524414\n",
            "Epoch [453/550], Batch 1, D Loss: 0.9326602816581726, G Loss: 2.135910987854004\n",
            "Epoch [454/550], Batch 1, D Loss: 0.7781208008527756, G Loss: 2.06355357170105\n",
            "Epoch [455/550], Batch 1, D Loss: 0.9320424497127533, G Loss: 1.6621094942092896\n",
            "Epoch [456/550], Batch 1, D Loss: 1.0632871985435486, G Loss: 1.237102746963501\n",
            "Epoch [457/550], Batch 1, D Loss: 0.7684831619262695, G Loss: 2.3159542083740234\n",
            "Epoch [458/550], Batch 1, D Loss: 0.8532861173152924, G Loss: 1.868671178817749\n",
            "Epoch [459/550], Batch 1, D Loss: 1.0200834274291992, G Loss: 1.0782685279846191\n",
            "Epoch [460/550], Batch 1, D Loss: 1.051453322172165, G Loss: 1.31559157371521\n",
            "Epoch [461/550], Batch 1, D Loss: 0.7877096086740494, G Loss: 1.9077816009521484\n",
            "Epoch [462/550], Batch 1, D Loss: 0.7669353783130646, G Loss: 1.9978857040405273\n",
            "Epoch [463/550], Batch 1, D Loss: 0.9171450138092041, G Loss: 1.4527500867843628\n",
            "Epoch [464/550], Batch 1, D Loss: 0.838946521282196, G Loss: 1.8873505592346191\n",
            "Epoch [465/550], Batch 1, D Loss: 0.9872258305549622, G Loss: 2.6223835945129395\n",
            "Epoch [466/550], Batch 1, D Loss: 0.7676795870065689, G Loss: 2.1683146953582764\n",
            "Epoch [467/550], Batch 1, D Loss: 1.2236533537507057, G Loss: 1.1073718070983887\n",
            "Epoch [468/550], Batch 1, D Loss: 0.9762005507946014, G Loss: 1.6359601020812988\n",
            "Epoch [469/550], Batch 1, D Loss: 0.9509866833686829, G Loss: 2.2100162506103516\n",
            "Epoch [470/550], Batch 1, D Loss: 0.9073760062456131, G Loss: 1.4779300689697266\n",
            "Epoch [471/550], Batch 1, D Loss: 0.9428281188011169, G Loss: 2.4687862396240234\n",
            "Epoch [472/550], Batch 1, D Loss: 0.8472025692462921, G Loss: 2.141876697540283\n",
            "Epoch [473/550], Batch 1, D Loss: 0.8399400413036346, G Loss: 2.568556308746338\n",
            "Epoch [474/550], Batch 1, D Loss: 0.823572188615799, G Loss: 1.8339372873306274\n",
            "Epoch [475/550], Batch 1, D Loss: 0.8447278589010239, G Loss: 1.643412470817566\n",
            "Epoch [476/550], Batch 1, D Loss: 0.8214931190013885, G Loss: 2.2299060821533203\n",
            "Epoch [477/550], Batch 1, D Loss: 0.9229358732700348, G Loss: 1.6722548007965088\n",
            "Epoch [478/550], Batch 1, D Loss: 0.9328218176960945, G Loss: 1.7794451713562012\n",
            "Epoch [479/550], Batch 1, D Loss: 0.8149219900369644, G Loss: 2.0730433464050293\n",
            "Epoch [480/550], Batch 1, D Loss: 0.8167676031589508, G Loss: 1.864509105682373\n",
            "Epoch [481/550], Batch 1, D Loss: 0.8615393042564392, G Loss: 2.516357898712158\n",
            "Epoch [482/550], Batch 1, D Loss: 0.8730219006538391, G Loss: 1.5488080978393555\n",
            "Epoch [483/550], Batch 1, D Loss: 1.3119730576872826, G Loss: 1.249994158744812\n",
            "Epoch [484/550], Batch 1, D Loss: 0.8077953457832336, G Loss: 2.443718910217285\n",
            "Epoch [485/550], Batch 1, D Loss: 0.8142790794372559, G Loss: 1.8702363967895508\n",
            "Epoch [486/550], Batch 1, D Loss: 1.2052377462387085, G Loss: 3.6454343795776367\n",
            "Epoch [487/550], Batch 1, D Loss: 0.8716445118188858, G Loss: 1.6018400192260742\n",
            "Epoch [488/550], Batch 1, D Loss: 0.8230950385332108, G Loss: 1.462080478668213\n",
            "Epoch [489/550], Batch 1, D Loss: 0.8046370893716812, G Loss: 1.9251987934112549\n",
            "Epoch [490/550], Batch 1, D Loss: 1.011744350194931, G Loss: 1.3489484786987305\n",
            "Epoch [491/550], Batch 1, D Loss: 1.0342906564474106, G Loss: 1.1561065912246704\n",
            "Epoch [492/550], Batch 1, D Loss: 0.8235409259796143, G Loss: 2.4502241611480713\n",
            "Epoch [493/550], Batch 1, D Loss: 0.9068498760461807, G Loss: 1.612634301185608\n",
            "Epoch [494/550], Batch 1, D Loss: 0.8116173297166824, G Loss: 1.8135368824005127\n",
            "Epoch [495/550], Batch 1, D Loss: 0.7598376870155334, G Loss: 1.9463212490081787\n",
            "Epoch [496/550], Batch 1, D Loss: 0.8550167679786682, G Loss: 2.0896520614624023\n",
            "Epoch [497/550], Batch 1, D Loss: 1.0104555934667587, G Loss: 1.367376685142517\n",
            "Epoch [498/550], Batch 1, D Loss: 0.8476870357990265, G Loss: 1.591456413269043\n",
            "Epoch [499/550], Batch 1, D Loss: 0.8202265501022339, G Loss: 1.876479148864746\n",
            "Epoch [500/550], Batch 1, D Loss: 0.7513013929128647, G Loss: 1.819490909576416\n",
            "Epoch [501/550], Batch 1, D Loss: 0.8341558277606964, G Loss: 1.9329149723052979\n",
            "Epoch [502/550], Batch 1, D Loss: 0.9303515404462814, G Loss: 1.590400218963623\n",
            "Epoch [503/550], Batch 1, D Loss: 0.9732965677976608, G Loss: 1.1763863563537598\n",
            "Epoch [504/550], Batch 1, D Loss: 0.8803557753562927, G Loss: 1.364743709564209\n",
            "Epoch [505/550], Batch 1, D Loss: 0.8991832733154297, G Loss: 1.6110742092132568\n",
            "Epoch [506/550], Batch 1, D Loss: 0.9099040627479553, G Loss: 1.3628181219100952\n",
            "Epoch [507/550], Batch 1, D Loss: 0.9209732413291931, G Loss: 2.7337465286254883\n",
            "Epoch [508/550], Batch 1, D Loss: 1.0259214378893375, G Loss: 1.3056621551513672\n",
            "Epoch [509/550], Batch 1, D Loss: 0.7829105257987976, G Loss: 1.6104376316070557\n",
            "Epoch [510/550], Batch 1, D Loss: 0.8736459761857986, G Loss: 1.7149226665496826\n",
            "Epoch [511/550], Batch 1, D Loss: 0.7691793441772461, G Loss: 2.400578022003174\n",
            "Epoch [512/550], Batch 1, D Loss: 0.7903119027614594, G Loss: 2.029714822769165\n",
            "Epoch [513/550], Batch 1, D Loss: 0.8832815885543823, G Loss: 1.737302541732788\n",
            "Epoch [514/550], Batch 1, D Loss: 0.8558381050825119, G Loss: 1.7413907051086426\n",
            "Epoch [515/550], Batch 1, D Loss: 0.854038417339325, G Loss: 2.2223029136657715\n",
            "Epoch [516/550], Batch 1, D Loss: 0.9465241730213165, G Loss: 1.5625815391540527\n",
            "Epoch [517/550], Batch 1, D Loss: 0.8351869136095047, G Loss: 2.1426024436950684\n",
            "Epoch [518/550], Batch 1, D Loss: 0.8498606383800507, G Loss: 1.5130399465560913\n",
            "Epoch [519/550], Batch 1, D Loss: 0.7636397480964661, G Loss: 2.391221523284912\n",
            "Epoch [520/550], Batch 1, D Loss: 0.8716133832931519, G Loss: 2.5294322967529297\n",
            "Epoch [521/550], Batch 1, D Loss: 0.9585691094398499, G Loss: 2.7116403579711914\n",
            "Epoch [522/550], Batch 1, D Loss: 0.765263095498085, G Loss: 1.8525958061218262\n",
            "Epoch [523/550], Batch 1, D Loss: 0.8207043409347534, G Loss: 2.2837343215942383\n",
            "Epoch [524/550], Batch 1, D Loss: 1.1947733908891678, G Loss: 1.2595465183258057\n",
            "Epoch [525/550], Batch 1, D Loss: 0.6544084846973419, G Loss: 2.2670376300811768\n",
            "Epoch [526/550], Batch 1, D Loss: 0.7804614007472992, G Loss: 1.8507418632507324\n",
            "Epoch [527/550], Batch 1, D Loss: 0.6825411021709442, G Loss: 2.2832584381103516\n",
            "Epoch [528/550], Batch 1, D Loss: 0.8036776185035706, G Loss: 2.3764944076538086\n",
            "Epoch [529/550], Batch 1, D Loss: 0.8425081670284271, G Loss: 1.7530148029327393\n",
            "Epoch [530/550], Batch 1, D Loss: 0.7902013957500458, G Loss: 2.1249756813049316\n",
            "Epoch [531/550], Batch 1, D Loss: 0.8154036104679108, G Loss: 2.1587157249450684\n",
            "Epoch [532/550], Batch 1, D Loss: 0.819152444601059, G Loss: 1.83078134059906\n",
            "Epoch [533/550], Batch 1, D Loss: 0.965892881155014, G Loss: 2.5409295558929443\n",
            "Epoch [534/550], Batch 1, D Loss: 0.7409532517194748, G Loss: 1.739708662033081\n",
            "Epoch [535/550], Batch 1, D Loss: 0.8493576496839523, G Loss: 1.4865317344665527\n",
            "Epoch [536/550], Batch 1, D Loss: 0.8272437751293182, G Loss: 2.603977918624878\n",
            "Epoch [537/550], Batch 1, D Loss: 0.8612700700759888, G Loss: 1.7112085819244385\n",
            "Epoch [538/550], Batch 1, D Loss: 0.8458261489868164, G Loss: 1.8312740325927734\n",
            "Epoch [539/550], Batch 1, D Loss: 0.8692581355571747, G Loss: 1.9003355503082275\n",
            "Epoch [540/550], Batch 1, D Loss: 0.8053392469882965, G Loss: 2.2651853561401367\n",
            "Epoch [541/550], Batch 1, D Loss: 0.828395813703537, G Loss: 1.5988686084747314\n",
            "Epoch [542/550], Batch 1, D Loss: 1.660930596292019, G Loss: 0.8587751388549805\n",
            "Epoch [543/550], Batch 1, D Loss: 0.7925384044647217, G Loss: 2.11991548538208\n",
            "Epoch [544/550], Batch 1, D Loss: 0.8724833726882935, G Loss: 2.6290106773376465\n",
            "Epoch [545/550], Batch 1, D Loss: 0.7593905329704285, G Loss: 2.345916748046875\n",
            "Epoch [546/550], Batch 1, D Loss: 0.7827528417110443, G Loss: 1.5915520191192627\n",
            "Epoch [547/550], Batch 1, D Loss: 0.7677026242017746, G Loss: 2.237652540206909\n",
            "Epoch [548/550], Batch 1, D Loss: 0.7657213807106018, G Loss: 1.8367435932159424\n",
            "Epoch [549/550], Batch 1, D Loss: 0.8299557268619537, G Loss: 3.0234501361846924\n",
            "Epoch [550/550], Batch 1, D Loss: 0.778737872838974, G Loss: 1.949317216873169\n"
          ]
        }
      ],
      "source": [
        "import torch\n",
        "import torch.nn as nn\n",
        "import torch.optim as optim\n",
        "from torch.utils.data import DataLoader, TensorDataset\n",
        "from torchvision.transforms import transforms\n",
        "import numpy as np\n",
        "from torch.optim.lr_scheduler import StepLR\n",
        "\n",
        "\n",
        "device = \"cuda\" if torch.cuda.is_available() else \"cpu\"\n",
        "\n",
        "data_transform = transforms.Compose([\n",
        "    transforms.Resize((28, 28)),\n",
        "    transforms.ToTensor(),\n",
        "    transforms.Normalize(mean=[.5], std=[.5])\n",
        "])\n",
        "\n",
        "\n",
        "class Discriminator(nn.Module):\n",
        "    def __init__(self, num_classes=10):\n",
        "        super(Discriminator, self).__init__()\n",
        "        self.label_emb = nn.Embedding(num_classes, 28 * 28)\n",
        "        self.model = nn.Sequential(\n",
        "            nn.Conv2d(2, 128, kernel_size=3, stride=2, padding=1),\n",
        "            nn.LeakyReLU(0.2),\n",
        "            nn.BatchNorm2d(128),\n",
        "            nn.Conv2d(128, 256, kernel_size=3, stride=2, padding=1),\n",
        "            nn.LeakyReLU(0.2),\n",
        "            nn.BatchNorm2d(256),\n",
        "            nn.Flatten(),\n",
        "            nn.Dropout(0.4),\n",
        "            nn.Linear(256 * 7 * 7, 1),\n",
        "            nn.Sigmoid()\n",
        "        )\n",
        "\n",
        "    def forward(self, image, labels):\n",
        "        labels = self.label_emb(labels).view(image.size(0), 1, 28, 28)\n",
        "        x = torch.cat([image, labels], 1)  # concatenate along channel dimension\n",
        "        return self.model(x)\n",
        "\n",
        "class Generator(nn.Module):\n",
        "    def __init__(self, latent_dim=100, num_classes=2):\n",
        "        super(Generator, self).__init__()\n",
        "        self.label_emb = nn.Embedding(num_classes, 50)\n",
        "        self.dense_label = nn.Linear(50, 7*7)\n",
        "\n",
        "        self.dense_input = nn.Linear(latent_dim, 128*7*7)\n",
        "        self.leaky_relu = nn.LeakyReLU(0.2)\n",
        "        self.batch_norm = nn.BatchNorm2d(128)\n",
        "\n",
        "        self.conv_trans1 = nn.ConvTranspose2d(129, 128, kernel_size=4, stride=2, padding=1)\n",
        "        self.conv_trans2 = nn.ConvTranspose2d(128, 1, kernel_size=4, stride=2, padding=1)\n",
        "        self.tanh = nn.Tanh()\n",
        "\n",
        "    def forward(self, noise, labels):\n",
        "        label_input = self.label_emb(labels)\n",
        "        label_input = self.dense_label(label_input)\n",
        "        label_input = label_input.view(-1, 1, 7, 7)\n",
        "\n",
        "        gen_input = self.dense_input(noise)\n",
        "        gen_input = self.leaky_relu(gen_input)\n",
        "        gen_input = gen_input.view(-1, 128, 7, 7)\n",
        "\n",
        "        merged = torch.cat((gen_input, label_input), dim=1)\n",
        "\n",
        "        x = self.leaky_relu(self.conv_trans1(merged))\n",
        "        x = self.tanh(self.conv_trans2(x))\n",
        "        return x\n",
        "\n",
        "\n",
        "\n",
        "\n",
        "\n",
        "def train(discriminator, generator, gan_loader, device, lr_d=0.0002, lr_g=0.0002, epochs=100):\n",
        "    d_optimizer = optim.Adam(discriminator.parameters(), lr=lr_d, betas=(0.5, 0.999))\n",
        "    g_optimizer = optim.Adam(generator.parameters(), lr=lr_g, betas=(0.5, 0.999))\n",
        "    loss_function = nn.BCELoss()\n",
        "\n",
        "    real_label = 0.9  \n",
        "    fake_label = 0.0 \n",
        "\n",
        "    for epoch in range(epochs):\n",
        "        for i, (imgs, labels) in enumerate(gan_loader):\n",
        "            imgs, labels = imgs.to(device), labels.to(device)\n",
        "            real_targets = torch.full((imgs.size(0), 1), real_label, device=device)\n",
        "            fake_targets = torch.full((imgs.size(0), 1), fake_label, device=device)\n",
        "\n",
        "            d_optimizer.zero_grad()\n",
        "            real_outputs = discriminator(imgs, labels)\n",
        "            d_loss_real = loss_function(real_outputs, real_targets)\n",
        "            d_loss_real.backward()\n",
        "\n",
        "            noise = torch.randn(imgs.size(0), 100, device=device)\n",
        "            fake_imgs = generator(noise, labels)\n",
        "            fake_outputs = discriminator(fake_imgs.detach(), labels)\n",
        "            d_loss_fake = loss_function(fake_outputs, fake_targets)\n",
        "            d_loss_fake.backward()\n",
        "            d_optimizer.step()\n",
        "            \n",
        "            g_optimizer.zero_grad()\n",
        "            fake_outputs = discriminator(fake_imgs, labels)\n",
        "            g_loss = loss_function(fake_outputs, real_targets)\n",
        "            g_loss.backward()\n",
        "            g_optimizer.step()\n",
        "\n",
        "            if i % 50 == 0:\n",
        "                print(f'Epoch [{epoch + 1}/{epochs}], Batch {i + 1}, D Loss: {d_loss_real.item() + d_loss_fake.item()}, G Loss: {g_loss.item()}')\n",
        "\n",
        "\n",
        "    torch.save(generator.state_dict(), 'generator.pth')\n",
        "    torch.save(discriminator.state_dict(), 'discriminator.pth')\n",
        "\n",
        "# Create the models, data loaders, and start training\n",
        "generator = Generator().to(device)\n",
        "discriminator = Discriminator().to(device)\n",
        "train_dataset = DataClass(split='train', transform=data_transform, download=True)\n",
        "gan_train_loader = DataLoader(train_dataset, batch_size=128)\n",
        "train(discriminator, generator, gan_train_loader, device, epochs=550)\n",
        "\n"
      ]
    },
    {
      "cell_type": "markdown",
      "metadata": {},
      "source": [
        "<b style=\"color:green\"><b>Note:</b></b> \n",
        "\n",
        "Sadly it was not feasibly possible to use FID as a stopping criterion since this more than fivefold increased the training time, which would not have been able to achieve the same results we wanted to get, inside a doable training time.\n",
        "\n",
        "But netherless the evaluation was still used the finetune the model and check which epoch range seems optimal."
      ]
    },
    {
      "cell_type": "markdown",
      "metadata": {
        "id": "8HgOzhTYXu-W"
      },
      "source": [
        "#### Synthetic Data Evaluation Metric\n",
        "\n",
        "Given our hypothesis, we need to evaluate the GAN based on the downstream task i.e. the classification performance (AUC, ACC). However, we should also report a fidelity and diversity estimate of our synthetic data. This is not only useful as additional metric, but also as stopping criterion of GAN training (e.g., n epochs without improvement). We propose you use the [Fréchet Inception Distance](https://github.com/mseitzer/pytorch-fid), but feel free to suggest other or additional metrics. Feel free to use existing packages such as the [pytorch-fid](https://pypi.org/project/pytorch-fid/) package."
      ]
    },
    {
      "cell_type": "code",
      "execution_count": 37,
      "metadata": {
        "colab": {
          "base_uri": "https://localhost:8080/"
        },
        "id": "BeOd6UqXXu-X",
        "outputId": "4f534244-f09f-4696-a057-5155a21024df"
      },
      "outputs": [
        {
          "name": "stdout",
          "output_type": "stream",
          "text": [
            "FID Score: 82.87823854929758\n"
          ]
        }
      ],
      "source": [
        "import torch\n",
        "import torch.nn as nn\n",
        "from torchvision.models import inception_v3\n",
        "from torchvision.transforms import functional as F\n",
        "import numpy as np\n",
        "from scipy.linalg import sqrtm\n",
        "\n",
        "def preprocess_images_for_inception(images):\n",
        "    images = F.resize(images, 299)  \n",
        "    images = images.repeat(1, 3, 1, 1)  \n",
        "    return images\n",
        "\n",
        "\n",
        "def calculate_fid(real_features, fake_features):\n",
        "    \n",
        "    mu1, sigma1 = real_features.mean(axis=0), np.cov(real_features, rowvar=False)\n",
        "    mu2, sigma2 = fake_features.mean(axis=0), np.cov(fake_features, rowvar=False)\n",
        "    epsilon = 1e-6  # Small constant to stabilize inverse covariance matrix calculation\n",
        "    sigma1 += np.eye(sigma1.shape[0]) * epsilon\n",
        "    sigma2 += np.eye(sigma2.shape[0]) * epsilon\n",
        "\n",
        "    \n",
        "    ssdiff = np.sum((mu1 - mu2) ** 2.0)\n",
        "    covmean = sqrtm(sigma1.dot(sigma2))\n",
        "    \n",
        "    if np.iscomplexobj(covmean):\n",
        "        covmean = covmean.real\n",
        "    # Calculate FID\n",
        "    fid = ssdiff + np.trace(sigma1 + sigma2 - 2.0 * covmean)\n",
        "    return fid\n",
        "\n",
        "\n",
        "device = torch.device(\"cuda\" if torch.cuda.is_available() else \"cpu\")\n",
        "inception_model = inception_v3(pretrained=True, transform_input=False)\n",
        "inception_model.to(device)\n",
        "inception_model.eval()\n",
        "\n",
        "def get_inception_features(images, model, batch_size=32):\n",
        "    model.eval()\n",
        "    features = []\n",
        "    with torch.no_grad():\n",
        "        for i in range(0, len(images), batch_size):\n",
        "            batch = images[i:i+batch_size]\n",
        "            batch = preprocess_images_for_inception(batch).to(device)\n",
        "            pred = model(batch)\n",
        "            features.append(pred.cpu().detach().numpy())\n",
        "    features = np.concatenate(features, axis=0)\n",
        "    return features\n",
        "\n",
        "def evaluate_gan(generator, real_data_loader, num_samples=1024, latent_dim=100):\n",
        "    generator.eval()\n",
        "    noise = torch.randn(num_samples, latent_dim, device=device)\n",
        "    labels = torch.randint(0, 2, (num_samples,), device=device)  \n",
        "    with torch.no_grad():\n",
        "        fake_images = generator(noise, labels)\n",
        "    \n",
        "    real_images = []\n",
        "    for img, _ in real_data_loader:\n",
        "        real_images.append(img)\n",
        "        if len(real_images) >= num_samples:\n",
        "            break\n",
        "    real_images = torch.cat(real_images)[:num_samples]\n",
        "    \n",
        "    real_features = get_inception_features(real_images, inception_model)\n",
        "    fake_features = get_inception_features(fake_images, inception_model)\n",
        "    # Calculate FID\n",
        "    fid = calculate_fid(real_features, fake_features)\n",
        "    return fid\n",
        "\n",
        "fid_score = evaluate_gan(generator, gan_train_loader)\n",
        "print(\"FID Score:\", fid_score)"
      ]
    },
    {
      "cell_type": "markdown",
      "metadata": {
        "id": "QDLPIkhmXu-X"
      },
      "source": [
        "# 6. Test of our GAN Method and Storage of Results"
      ]
    },
    {
      "cell_type": "markdown",
      "metadata": {
        "id": "oTbD-Y3VXu-X"
      },
      "source": [
        "Now that you have trained your GAN, it is time for the big moment of testing our hypothesis. To do so, a balanced classifier training dataset (50% pneumonia, 50% normal) consisting only of synthetic data is suggested. You may sample this dataset from your trained conditional generator, store on disc and load it again here."
      ]
    },
    {
      "cell_type": "code",
      "execution_count": 23,
      "metadata": {
        "id": "zTsjjClDXu-X"
      },
      "outputs": [],
      "source": [
        "generator.load_state_dict(torch.load('generator.pth'))  \n",
        "generator.eval()\n",
        "\n",
        "def generate_images(generator, num_images, label, latent_dim=100):\n",
        "    \n",
        "    noise = torch.randn(num_images, latent_dim, device=device)\n",
        "    labels = torch.full((num_images,), label, dtype=torch.long, device=device)  \n",
        "    with torch.no_grad():\n",
        "        generated_images = generator(noise, labels)\n",
        "    return generated_images.cpu().numpy()\n",
        "\n",
        "num_images_per_label = 2354\n",
        "\n",
        "\n",
        "generated_imgs_w_label_0 = generate_images(generator, num_images_per_label, 0)\n",
        "generated_imgs_w_label_1 = generate_images(generator, num_images_per_label, 1)"
      ]
    },
    {
      "cell_type": "markdown",
      "metadata": {
        "id": "DufP63ZpXu-X"
      },
      "source": [
        "Below some helper code to help define a torch CustomImageDataset Class based on the generated images that are loaded from disc."
      ]
    },
    {
      "cell_type": "code",
      "execution_count": 24,
      "metadata": {
        "id": "wBg7bxz7Xu-a"
      },
      "outputs": [],
      "source": [
        "from torch.utils.data import Dataset\n",
        "import pandas as pd\n",
        "\n",
        "\n",
        "\n",
        "class CustomImageDataset(Dataset):\n",
        "    def __init__(self, imgs_label_0, imgs_label_1, transform=None, target_transform=None):\n",
        "        self.img_labels = pd.DataFrame(\n",
        "            np.concatenate((np.zeros(len(imgs_label_0), dtype=int),\n",
        "                            np.ones(len(imgs_label_1), dtype=int)))\n",
        "        )\n",
        "        self.images = np.concatenate((imgs_label_0, imgs_label_1))\n",
        "        self.transform = transform\n",
        "        self.target_transform = target_transform\n",
        "\n",
        "    def __len__(self):\n",
        "        return len(self.img_labels)\n",
        "\n",
        "    def __getitem__(self, idx):\n",
        "        image = torch.from_numpy(self.images[idx])\n",
        "        label = np.array([self.img_labels.iloc[idx, 0]])\n",
        "        if self.transform:\n",
        "            image = self.transform(image)\n",
        "        if self.target_transform:\n",
        "            label = self.target_transform(label)\n",
        "        return image, label"
      ]
    },
    {
      "cell_type": "code",
      "execution_count": 25,
      "metadata": {
        "id": "QmsUoNEwXu-a"
      },
      "outputs": [],
      "source": [
        "train_gen_dataset = CustomImageDataset(generated_imgs_w_label_0, generated_imgs_w_label_1)\n",
        "\n",
        "train_gen_loader = DataLoader(dataset=train_gen_dataset, batch_size=BATCH_SIZE, shuffle=True)\n",
        "train_loader_at_eval = DataLoader(dataset=train_gen_dataset, batch_size=2*BATCH_SIZE, shuffle=False)"
      ]
    },
    {
      "cell_type": "markdown",
      "metadata": {
        "id": "9xpRRcmWXu-a"
      },
      "source": [
        "Training of the classifier, as was done above with real data, but now with the generated dataset."
      ]
    },
    {
      "cell_type": "code",
      "execution_count": 26,
      "metadata": {
        "colab": {
          "base_uri": "https://localhost:8080/"
        },
        "id": "L_gUOrt2Xu-a",
        "outputId": "632befa5-e6d7-4c56-d04f-9fffde406f51"
      },
      "outputs": [
        {
          "name": "stderr",
          "output_type": "stream",
          "text": [
            "\r  0%|          | 0/37 [00:00<?, ?it/s]"
          ]
        },
        {
          "name": "stdout",
          "output_type": "stream",
          "text": [
            "torch.Size([128, 1])\n",
            "torch.Size([128, 1])\n"
          ]
        },
        {
          "name": "stderr",
          "output_type": "stream",
          "text": [
            "\r  3%|▎         | 1/37 [00:00<00:06,  5.77it/s]"
          ]
        },
        {
          "name": "stdout",
          "output_type": "stream",
          "text": [
            "torch.Size([128, 1])\n",
            "torch.Size([128, 1])\n"
          ]
        },
        {
          "name": "stderr",
          "output_type": "stream",
          "text": [
            "  8%|▊         | 3/37 [00:00<00:07,  4.34it/s]"
          ]
        },
        {
          "name": "stdout",
          "output_type": "stream",
          "text": [
            "torch.Size([128, 1])\n",
            "torch.Size([128, 1])\n"
          ]
        },
        {
          "name": "stderr",
          "output_type": "stream",
          "text": [
            "\r 11%|█         | 4/37 [00:00<00:08,  4.06it/s]"
          ]
        },
        {
          "name": "stdout",
          "output_type": "stream",
          "text": [
            "torch.Size([128, 1])\n",
            "torch.Size([128, 1])\n"
          ]
        },
        {
          "name": "stderr",
          "output_type": "stream",
          "text": [
            "\r 14%|█▎        | 5/37 [00:01<00:08,  3.59it/s]"
          ]
        },
        {
          "name": "stdout",
          "output_type": "stream",
          "text": [
            "torch.Size([128, 1])\n",
            "torch.Size([128, 1])\n"
          ]
        },
        {
          "name": "stderr",
          "output_type": "stream",
          "text": [
            "\r 16%|█▌        | 6/37 [00:01<00:08,  3.64it/s]"
          ]
        },
        {
          "name": "stdout",
          "output_type": "stream",
          "text": [
            "torch.Size([128, 1])\n",
            "torch.Size([128, 1])\n"
          ]
        },
        {
          "name": "stderr",
          "output_type": "stream",
          "text": [
            "\r 19%|█▉        | 7/37 [00:01<00:08,  3.68it/s]"
          ]
        },
        {
          "name": "stdout",
          "output_type": "stream",
          "text": [
            "torch.Size([128, 1])\n",
            "torch.Size([128, 1])\n"
          ]
        },
        {
          "name": "stderr",
          "output_type": "stream",
          "text": [
            "\r 22%|██▏       | 8/37 [00:02<00:07,  3.76it/s]"
          ]
        },
        {
          "name": "stdout",
          "output_type": "stream",
          "text": [
            "torch.Size([128, 1])\n",
            "torch.Size([128, 1])\n"
          ]
        },
        {
          "name": "stderr",
          "output_type": "stream",
          "text": [
            "\r 24%|██▍       | 9/37 [00:02<00:07,  3.74it/s]"
          ]
        },
        {
          "name": "stdout",
          "output_type": "stream",
          "text": [
            "torch.Size([128, 1])\n",
            "torch.Size([128, 1])\n"
          ]
        },
        {
          "name": "stderr",
          "output_type": "stream",
          "text": [
            "\r 27%|██▋       | 10/37 [00:02<00:07,  3.74it/s]"
          ]
        },
        {
          "name": "stdout",
          "output_type": "stream",
          "text": [
            "torch.Size([128, 1])\n",
            "torch.Size([128, 1])\n"
          ]
        },
        {
          "name": "stderr",
          "output_type": "stream",
          "text": [
            "\r 30%|██▉       | 11/37 [00:02<00:07,  3.65it/s]"
          ]
        },
        {
          "name": "stdout",
          "output_type": "stream",
          "text": [
            "torch.Size([128, 1])\n",
            "torch.Size([128, 1])\n"
          ]
        },
        {
          "name": "stderr",
          "output_type": "stream",
          "text": [
            "\r 32%|███▏      | 12/37 [00:03<00:06,  4.00it/s]"
          ]
        },
        {
          "name": "stdout",
          "output_type": "stream",
          "text": [
            "torch.Size([128, 1])\n",
            "torch.Size([128, 1])\n",
            "torch.Size([128, 1])\n",
            "torch.Size([128, 1])\n"
          ]
        },
        {
          "name": "stderr",
          "output_type": "stream",
          "text": [
            " 38%|███▊      | 14/37 [00:03<00:04,  4.76it/s]"
          ]
        },
        {
          "name": "stdout",
          "output_type": "stream",
          "text": [
            "torch.Size([128, 1])\n",
            "torch.Size([128, 1])\n",
            "torch.Size([128, 1])\n",
            "torch.Size([128, 1])\n"
          ]
        },
        {
          "name": "stderr",
          "output_type": "stream",
          "text": [
            " 43%|████▎     | 16/37 [00:03<00:04,  5.00it/s]"
          ]
        },
        {
          "name": "stdout",
          "output_type": "stream",
          "text": [
            "torch.Size([128, 1])\n",
            "torch.Size([128, 1])\n",
            "torch.Size([128, 1])\n",
            "torch.Size([128, 1])\n"
          ]
        },
        {
          "name": "stderr",
          "output_type": "stream",
          "text": [
            " 49%|████▊     | 18/37 [00:04<00:03,  5.25it/s]"
          ]
        },
        {
          "name": "stdout",
          "output_type": "stream",
          "text": [
            "torch.Size([128, 1])\n",
            "torch.Size([128, 1])\n",
            "torch.Size([128, 1])\n",
            "torch.Size([128, 1])\n"
          ]
        },
        {
          "name": "stderr",
          "output_type": "stream",
          "text": [
            " 54%|█████▍    | 20/37 [00:04<00:03,  5.57it/s]"
          ]
        },
        {
          "name": "stdout",
          "output_type": "stream",
          "text": [
            "torch.Size([128, 1])\n",
            "torch.Size([128, 1])\n",
            "torch.Size([128, 1])\n",
            "torch.Size([128, 1])\n"
          ]
        },
        {
          "name": "stderr",
          "output_type": "stream",
          "text": [
            " 59%|█████▉    | 22/37 [00:04<00:02,  5.43it/s]"
          ]
        },
        {
          "name": "stdout",
          "output_type": "stream",
          "text": [
            "torch.Size([128, 1])\n",
            "torch.Size([128, 1])\n",
            "torch.Size([128, 1])\n",
            "torch.Size([128, 1])\n"
          ]
        },
        {
          "name": "stderr",
          "output_type": "stream",
          "text": [
            " 65%|██████▍   | 24/37 [00:05<00:02,  5.50it/s]"
          ]
        },
        {
          "name": "stdout",
          "output_type": "stream",
          "text": [
            "torch.Size([128, 1])\n",
            "torch.Size([128, 1])\n",
            "torch.Size([128, 1])\n",
            "torch.Size([128, 1])\n"
          ]
        },
        {
          "name": "stderr",
          "output_type": "stream",
          "text": [
            " 70%|███████   | 26/37 [00:05<00:01,  5.54it/s]"
          ]
        },
        {
          "name": "stdout",
          "output_type": "stream",
          "text": [
            "torch.Size([128, 1])\n",
            "torch.Size([128, 1])\n",
            "torch.Size([128, 1])\n",
            "torch.Size([128, 1])\n"
          ]
        },
        {
          "name": "stderr",
          "output_type": "stream",
          "text": [
            " 76%|███████▌  | 28/37 [00:05<00:01,  5.54it/s]"
          ]
        },
        {
          "name": "stdout",
          "output_type": "stream",
          "text": [
            "torch.Size([128, 1])\n",
            "torch.Size([128, 1])\n",
            "torch.Size([128, 1])\n",
            "torch.Size([128, 1])\n"
          ]
        },
        {
          "name": "stderr",
          "output_type": "stream",
          "text": [
            " 81%|████████  | 30/37 [00:06<00:01,  5.64it/s]"
          ]
        },
        {
          "name": "stdout",
          "output_type": "stream",
          "text": [
            "torch.Size([128, 1])\n",
            "torch.Size([128, 1])\n",
            "torch.Size([128, 1])\n",
            "torch.Size([128, 1])\n"
          ]
        },
        {
          "name": "stderr",
          "output_type": "stream",
          "text": [
            " 86%|████████▋ | 32/37 [00:06<00:00,  5.58it/s]"
          ]
        },
        {
          "name": "stdout",
          "output_type": "stream",
          "text": [
            "torch.Size([128, 1])\n",
            "torch.Size([128, 1])\n",
            "torch.Size([128, 1])\n",
            "torch.Size([128, 1])\n"
          ]
        },
        {
          "name": "stderr",
          "output_type": "stream",
          "text": [
            " 92%|█████████▏| 34/37 [00:07<00:00,  5.65it/s]"
          ]
        },
        {
          "name": "stdout",
          "output_type": "stream",
          "text": [
            "torch.Size([128, 1])\n",
            "torch.Size([128, 1])\n",
            "torch.Size([128, 1])\n",
            "torch.Size([128, 1])\n"
          ]
        },
        {
          "name": "stderr",
          "output_type": "stream",
          "text": [
            " 97%|█████████▋| 36/37 [00:07<00:00,  5.76it/s]"
          ]
        },
        {
          "name": "stdout",
          "output_type": "stream",
          "text": [
            "torch.Size([128, 1])\n",
            "torch.Size([128, 1])\n",
            "torch.Size([100, 1])\n",
            "torch.Size([100, 1])\n"
          ]
        },
        {
          "name": "stderr",
          "output_type": "stream",
          "text": [
            "100%|██████████| 37/37 [00:07<00:00,  4.92it/s]\n",
            "  3%|▎         | 1/37 [00:00<00:06,  5.88it/s]"
          ]
        },
        {
          "name": "stdout",
          "output_type": "stream",
          "text": [
            "torch.Size([128, 1])\n",
            "torch.Size([128, 1])\n",
            "torch.Size([128, 1])\n",
            "torch.Size([128, 1])\n"
          ]
        },
        {
          "name": "stderr",
          "output_type": "stream",
          "text": [
            "  8%|▊         | 3/37 [00:00<00:06,  5.64it/s]"
          ]
        },
        {
          "name": "stdout",
          "output_type": "stream",
          "text": [
            "torch.Size([128, 1])\n",
            "torch.Size([128, 1])\n",
            "torch.Size([128, 1])\n",
            "torch.Size([128, 1])\n"
          ]
        },
        {
          "name": "stderr",
          "output_type": "stream",
          "text": [
            " 14%|█▎        | 5/37 [00:00<00:05,  5.71it/s]"
          ]
        },
        {
          "name": "stdout",
          "output_type": "stream",
          "text": [
            "torch.Size([128, 1])\n",
            "torch.Size([128, 1])\n",
            "torch.Size([128, 1])\n",
            "torch.Size([128, 1])\n"
          ]
        },
        {
          "name": "stderr",
          "output_type": "stream",
          "text": [
            " 19%|█▉        | 7/37 [00:01<00:05,  5.78it/s]"
          ]
        },
        {
          "name": "stdout",
          "output_type": "stream",
          "text": [
            "torch.Size([128, 1])\n",
            "torch.Size([128, 1])\n",
            "torch.Size([128, 1])\n",
            "torch.Size([128, 1])\n"
          ]
        },
        {
          "name": "stderr",
          "output_type": "stream",
          "text": [
            " 24%|██▍       | 9/37 [00:01<00:04,  5.63it/s]"
          ]
        },
        {
          "name": "stdout",
          "output_type": "stream",
          "text": [
            "torch.Size([128, 1])\n",
            "torch.Size([128, 1])\n",
            "torch.Size([128, 1])\n",
            "torch.Size([128, 1])\n"
          ]
        },
        {
          "name": "stderr",
          "output_type": "stream",
          "text": [
            " 30%|██▉       | 11/37 [00:01<00:04,  5.73it/s]"
          ]
        },
        {
          "name": "stdout",
          "output_type": "stream",
          "text": [
            "torch.Size([128, 1])\n",
            "torch.Size([128, 1])\n",
            "torch.Size([128, 1])\n",
            "torch.Size([128, 1])\n"
          ]
        },
        {
          "name": "stderr",
          "output_type": "stream",
          "text": [
            " 35%|███▌      | 13/37 [00:02<00:04,  5.78it/s]"
          ]
        },
        {
          "name": "stdout",
          "output_type": "stream",
          "text": [
            "torch.Size([128, 1])\n",
            "torch.Size([128, 1])\n",
            "torch.Size([128, 1])\n",
            "torch.Size([128, 1])\n"
          ]
        },
        {
          "name": "stderr",
          "output_type": "stream",
          "text": [
            " 41%|████      | 15/37 [00:02<00:03,  5.79it/s]"
          ]
        },
        {
          "name": "stdout",
          "output_type": "stream",
          "text": [
            "torch.Size([128, 1])\n",
            "torch.Size([128, 1])\n",
            "torch.Size([128, 1])\n",
            "torch.Size([128, 1])\n"
          ]
        },
        {
          "name": "stderr",
          "output_type": "stream",
          "text": [
            " 46%|████▌     | 17/37 [00:02<00:03,  5.80it/s]"
          ]
        },
        {
          "name": "stdout",
          "output_type": "stream",
          "text": [
            "torch.Size([128, 1])\n",
            "torch.Size([128, 1])\n",
            "torch.Size([128, 1])\n",
            "torch.Size([128, 1])\n"
          ]
        },
        {
          "name": "stderr",
          "output_type": "stream",
          "text": [
            " 51%|█████▏    | 19/37 [00:03<00:03,  5.80it/s]"
          ]
        },
        {
          "name": "stdout",
          "output_type": "stream",
          "text": [
            "torch.Size([128, 1])\n",
            "torch.Size([128, 1])\n",
            "torch.Size([128, 1])\n",
            "torch.Size([128, 1])\n"
          ]
        },
        {
          "name": "stderr",
          "output_type": "stream",
          "text": [
            " 57%|█████▋    | 21/37 [00:03<00:02,  5.72it/s]"
          ]
        },
        {
          "name": "stdout",
          "output_type": "stream",
          "text": [
            "torch.Size([128, 1])\n",
            "torch.Size([128, 1])\n",
            "torch.Size([128, 1])\n",
            "torch.Size([128, 1])\n"
          ]
        },
        {
          "name": "stderr",
          "output_type": "stream",
          "text": [
            " 62%|██████▏   | 23/37 [00:04<00:02,  5.70it/s]"
          ]
        },
        {
          "name": "stdout",
          "output_type": "stream",
          "text": [
            "torch.Size([128, 1])\n",
            "torch.Size([128, 1])\n",
            "torch.Size([128, 1])\n",
            "torch.Size([128, 1])\n"
          ]
        },
        {
          "name": "stderr",
          "output_type": "stream",
          "text": [
            " 68%|██████▊   | 25/37 [00:04<00:02,  5.84it/s]"
          ]
        },
        {
          "name": "stdout",
          "output_type": "stream",
          "text": [
            "torch.Size([128, 1])\n",
            "torch.Size([128, 1])\n",
            "torch.Size([128, 1])\n",
            "torch.Size([128, 1])\n"
          ]
        },
        {
          "name": "stderr",
          "output_type": "stream",
          "text": [
            " 73%|███████▎  | 27/37 [00:04<00:01,  5.79it/s]"
          ]
        },
        {
          "name": "stdout",
          "output_type": "stream",
          "text": [
            "torch.Size([128, 1])\n",
            "torch.Size([128, 1])\n",
            "torch.Size([128, 1])\n",
            "torch.Size([128, 1])\n"
          ]
        },
        {
          "name": "stderr",
          "output_type": "stream",
          "text": [
            " 78%|███████▊  | 29/37 [00:05<00:01,  5.76it/s]"
          ]
        },
        {
          "name": "stdout",
          "output_type": "stream",
          "text": [
            "torch.Size([128, 1])\n",
            "torch.Size([128, 1])\n",
            "torch.Size([128, 1])\n",
            "torch.Size([128, 1])\n"
          ]
        },
        {
          "name": "stderr",
          "output_type": "stream",
          "text": [
            " 84%|████████▍ | 31/37 [00:05<00:01,  5.80it/s]"
          ]
        },
        {
          "name": "stdout",
          "output_type": "stream",
          "text": [
            "torch.Size([128, 1])\n",
            "torch.Size([128, 1])\n"
          ]
        },
        {
          "name": "stderr",
          "output_type": "stream",
          "text": [
            "\r 86%|████████▋ | 32/37 [00:05<00:00,  5.00it/s]"
          ]
        },
        {
          "name": "stdout",
          "output_type": "stream",
          "text": [
            "torch.Size([128, 1])\n",
            "torch.Size([128, 1])\n"
          ]
        },
        {
          "name": "stderr",
          "output_type": "stream",
          "text": [
            "\r 89%|████████▉ | 33/37 [00:05<00:00,  4.59it/s]"
          ]
        },
        {
          "name": "stdout",
          "output_type": "stream",
          "text": [
            "torch.Size([128, 1])\n",
            "torch.Size([128, 1])\n"
          ]
        },
        {
          "name": "stderr",
          "output_type": "stream",
          "text": [
            "\r 92%|█████████▏| 34/37 [00:06<00:00,  4.32it/s]"
          ]
        },
        {
          "name": "stdout",
          "output_type": "stream",
          "text": [
            "torch.Size([128, 1])\n",
            "torch.Size([128, 1])\n"
          ]
        },
        {
          "name": "stderr",
          "output_type": "stream",
          "text": [
            "\r 95%|█████████▍| 35/37 [00:06<00:00,  4.13it/s]"
          ]
        },
        {
          "name": "stdout",
          "output_type": "stream",
          "text": [
            "torch.Size([128, 1])\n",
            "torch.Size([128, 1])\n"
          ]
        },
        {
          "name": "stderr",
          "output_type": "stream",
          "text": [
            "\r 97%|█████████▋| 36/37 [00:06<00:00,  3.99it/s]"
          ]
        },
        {
          "name": "stdout",
          "output_type": "stream",
          "text": [
            "torch.Size([128, 1])\n",
            "torch.Size([128, 1])\n"
          ]
        },
        {
          "name": "stderr",
          "output_type": "stream",
          "text": [
            "100%|██████████| 37/37 [00:06<00:00,  5.33it/s]\n"
          ]
        },
        {
          "name": "stdout",
          "output_type": "stream",
          "text": [
            "torch.Size([100, 1])\n",
            "torch.Size([100, 1])\n"
          ]
        },
        {
          "name": "stderr",
          "output_type": "stream",
          "text": [
            "  3%|▎         | 1/37 [00:00<00:09,  3.84it/s]"
          ]
        },
        {
          "name": "stdout",
          "output_type": "stream",
          "text": [
            "torch.Size([128, 1])\n",
            "torch.Size([128, 1])\n"
          ]
        },
        {
          "name": "stderr",
          "output_type": "stream",
          "text": [
            "\r  5%|▌         | 2/37 [00:00<00:09,  3.66it/s]"
          ]
        },
        {
          "name": "stdout",
          "output_type": "stream",
          "text": [
            "torch.Size([128, 1])\n",
            "torch.Size([128, 1])\n"
          ]
        },
        {
          "name": "stderr",
          "output_type": "stream",
          "text": [
            "\r  8%|▊         | 3/37 [00:00<00:09,  3.69it/s]"
          ]
        },
        {
          "name": "stdout",
          "output_type": "stream",
          "text": [
            "torch.Size([128, 1])\n",
            "torch.Size([128, 1])\n"
          ]
        },
        {
          "name": "stderr",
          "output_type": "stream",
          "text": [
            "\r 11%|█         | 4/37 [00:01<00:08,  3.68it/s]"
          ]
        },
        {
          "name": "stdout",
          "output_type": "stream",
          "text": [
            "torch.Size([128, 1])\n",
            "torch.Size([128, 1])\n"
          ]
        },
        {
          "name": "stderr",
          "output_type": "stream",
          "text": [
            "\r 14%|█▎        | 5/37 [00:01<00:07,  4.11it/s]"
          ]
        },
        {
          "name": "stdout",
          "output_type": "stream",
          "text": [
            "torch.Size([128, 1])\n",
            "torch.Size([128, 1])\n",
            "torch.Size([128, 1])\n",
            "torch.Size([128, 1])\n"
          ]
        },
        {
          "name": "stderr",
          "output_type": "stream",
          "text": [
            " 19%|█▉        | 7/37 [00:01<00:06,  4.95it/s]"
          ]
        },
        {
          "name": "stdout",
          "output_type": "stream",
          "text": [
            "torch.Size([128, 1])\n",
            "torch.Size([128, 1])\n",
            "torch.Size([128, 1])\n",
            "torch.Size([128, 1])\n"
          ]
        },
        {
          "name": "stderr",
          "output_type": "stream",
          "text": [
            " 24%|██▍       | 9/37 [00:01<00:05,  5.37it/s]"
          ]
        },
        {
          "name": "stdout",
          "output_type": "stream",
          "text": [
            "torch.Size([128, 1])\n",
            "torch.Size([128, 1])\n",
            "torch.Size([128, 1])\n",
            "torch.Size([128, 1])\n"
          ]
        },
        {
          "name": "stderr",
          "output_type": "stream",
          "text": [
            " 30%|██▉       | 11/37 [00:02<00:04,  5.62it/s]"
          ]
        },
        {
          "name": "stdout",
          "output_type": "stream",
          "text": [
            "torch.Size([128, 1])\n",
            "torch.Size([128, 1])\n",
            "torch.Size([128, 1])\n",
            "torch.Size([128, 1])\n"
          ]
        },
        {
          "name": "stderr",
          "output_type": "stream",
          "text": [
            " 35%|███▌      | 13/37 [00:02<00:04,  5.75it/s]"
          ]
        },
        {
          "name": "stdout",
          "output_type": "stream",
          "text": [
            "torch.Size([128, 1])\n",
            "torch.Size([128, 1])\n",
            "torch.Size([128, 1])\n",
            "torch.Size([128, 1])\n"
          ]
        },
        {
          "name": "stderr",
          "output_type": "stream",
          "text": [
            " 41%|████      | 15/37 [00:02<00:03,  5.75it/s]"
          ]
        },
        {
          "name": "stdout",
          "output_type": "stream",
          "text": [
            "torch.Size([128, 1])\n",
            "torch.Size([128, 1])\n",
            "torch.Size([128, 1])\n",
            "torch.Size([128, 1])\n"
          ]
        },
        {
          "name": "stderr",
          "output_type": "stream",
          "text": [
            " 46%|████▌     | 17/37 [00:03<00:03,  5.77it/s]"
          ]
        },
        {
          "name": "stdout",
          "output_type": "stream",
          "text": [
            "torch.Size([128, 1])\n",
            "torch.Size([128, 1])\n",
            "torch.Size([128, 1])\n",
            "torch.Size([128, 1])\n"
          ]
        },
        {
          "name": "stderr",
          "output_type": "stream",
          "text": [
            " 51%|█████▏    | 19/37 [00:03<00:03,  5.85it/s]"
          ]
        },
        {
          "name": "stdout",
          "output_type": "stream",
          "text": [
            "torch.Size([128, 1])\n",
            "torch.Size([128, 1])\n",
            "torch.Size([128, 1])\n",
            "torch.Size([128, 1])\n"
          ]
        },
        {
          "name": "stderr",
          "output_type": "stream",
          "text": [
            " 57%|█████▋    | 21/37 [00:04<00:02,  5.77it/s]"
          ]
        },
        {
          "name": "stdout",
          "output_type": "stream",
          "text": [
            "torch.Size([128, 1])\n",
            "torch.Size([128, 1])\n",
            "torch.Size([128, 1])\n",
            "torch.Size([128, 1])\n"
          ]
        },
        {
          "name": "stderr",
          "output_type": "stream",
          "text": [
            " 62%|██████▏   | 23/37 [00:04<00:02,  5.80it/s]"
          ]
        },
        {
          "name": "stdout",
          "output_type": "stream",
          "text": [
            "torch.Size([128, 1])\n",
            "torch.Size([128, 1])\n",
            "torch.Size([128, 1])\n",
            "torch.Size([128, 1])\n"
          ]
        },
        {
          "name": "stderr",
          "output_type": "stream",
          "text": [
            " 68%|██████▊   | 25/37 [00:04<00:02,  5.84it/s]"
          ]
        },
        {
          "name": "stdout",
          "output_type": "stream",
          "text": [
            "torch.Size([128, 1])\n",
            "torch.Size([128, 1])\n",
            "torch.Size([128, 1])\n",
            "torch.Size([128, 1])\n"
          ]
        },
        {
          "name": "stderr",
          "output_type": "stream",
          "text": [
            " 73%|███████▎  | 27/37 [00:05<00:01,  5.69it/s]"
          ]
        },
        {
          "name": "stdout",
          "output_type": "stream",
          "text": [
            "torch.Size([128, 1])\n",
            "torch.Size([128, 1])\n",
            "torch.Size([128, 1])\n",
            "torch.Size([128, 1])\n"
          ]
        },
        {
          "name": "stderr",
          "output_type": "stream",
          "text": [
            " 78%|███████▊  | 29/37 [00:05<00:01,  5.74it/s]"
          ]
        },
        {
          "name": "stdout",
          "output_type": "stream",
          "text": [
            "torch.Size([128, 1])\n",
            "torch.Size([128, 1])\n",
            "torch.Size([128, 1])\n",
            "torch.Size([128, 1])\n"
          ]
        },
        {
          "name": "stderr",
          "output_type": "stream",
          "text": [
            " 84%|████████▍ | 31/37 [00:05<00:01,  5.73it/s]"
          ]
        },
        {
          "name": "stdout",
          "output_type": "stream",
          "text": [
            "torch.Size([128, 1])\n",
            "torch.Size([128, 1])\n",
            "torch.Size([128, 1])\n",
            "torch.Size([128, 1])\n"
          ]
        },
        {
          "name": "stderr",
          "output_type": "stream",
          "text": [
            " 89%|████████▉ | 33/37 [00:06<00:00,  5.70it/s]"
          ]
        },
        {
          "name": "stdout",
          "output_type": "stream",
          "text": [
            "torch.Size([128, 1])\n",
            "torch.Size([128, 1])\n",
            "torch.Size([128, 1])\n",
            "torch.Size([128, 1])\n"
          ]
        },
        {
          "name": "stderr",
          "output_type": "stream",
          "text": [
            " 95%|█████████▍| 35/37 [00:06<00:00,  5.69it/s]"
          ]
        },
        {
          "name": "stdout",
          "output_type": "stream",
          "text": [
            "torch.Size([128, 1])\n",
            "torch.Size([128, 1])\n",
            "torch.Size([128, 1])\n",
            "torch.Size([128, 1])\n"
          ]
        },
        {
          "name": "stderr",
          "output_type": "stream",
          "text": [
            "100%|██████████| 37/37 [00:06<00:00,  5.44it/s]\n"
          ]
        },
        {
          "name": "stdout",
          "output_type": "stream",
          "text": [
            "torch.Size([100, 1])\n",
            "torch.Size([100, 1])\n"
          ]
        },
        {
          "name": "stderr",
          "output_type": "stream",
          "text": [
            "\r  0%|          | 0/37 [00:00<?, ?it/s]"
          ]
        },
        {
          "name": "stdout",
          "output_type": "stream",
          "text": [
            "torch.Size([128, 1])\n",
            "torch.Size([128, 1])\n"
          ]
        },
        {
          "name": "stderr",
          "output_type": "stream",
          "text": [
            "\r  3%|▎         | 1/37 [00:00<00:06,  5.74it/s]"
          ]
        },
        {
          "name": "stdout",
          "output_type": "stream",
          "text": [
            "torch.Size([128, 1])\n",
            "torch.Size([128, 1])\n"
          ]
        },
        {
          "name": "stderr",
          "output_type": "stream",
          "text": [
            "\r  5%|▌         | 2/37 [00:00<00:06,  5.82it/s]"
          ]
        },
        {
          "name": "stdout",
          "output_type": "stream",
          "text": [
            "torch.Size([128, 1])\n",
            "torch.Size([128, 1])\n"
          ]
        },
        {
          "name": "stderr",
          "output_type": "stream",
          "text": [
            "\r  8%|▊         | 3/37 [00:00<00:05,  5.78it/s]"
          ]
        },
        {
          "name": "stdout",
          "output_type": "stream",
          "text": [
            "torch.Size([128, 1])\n",
            "torch.Size([128, 1])\n"
          ]
        },
        {
          "name": "stderr",
          "output_type": "stream",
          "text": [
            "\r 11%|█         | 4/37 [00:00<00:05,  5.77it/s]"
          ]
        },
        {
          "name": "stdout",
          "output_type": "stream",
          "text": [
            "torch.Size([128, 1])\n",
            "torch.Size([128, 1])\n"
          ]
        },
        {
          "name": "stderr",
          "output_type": "stream",
          "text": [
            "\r 14%|█▎        | 5/37 [00:00<00:05,  5.83it/s]"
          ]
        },
        {
          "name": "stdout",
          "output_type": "stream",
          "text": [
            "torch.Size([128, 1])\n",
            "torch.Size([128, 1])\n"
          ]
        },
        {
          "name": "stderr",
          "output_type": "stream",
          "text": [
            "\r 16%|█▌        | 6/37 [00:01<00:05,  5.65it/s]"
          ]
        },
        {
          "name": "stdout",
          "output_type": "stream",
          "text": [
            "torch.Size([128, 1])\n",
            "torch.Size([128, 1])\n"
          ]
        },
        {
          "name": "stderr",
          "output_type": "stream",
          "text": [
            "\r 19%|█▉        | 7/37 [00:01<00:05,  5.69it/s]"
          ]
        },
        {
          "name": "stdout",
          "output_type": "stream",
          "text": [
            "torch.Size([128, 1])\n",
            "torch.Size([128, 1])\n"
          ]
        },
        {
          "name": "stderr",
          "output_type": "stream",
          "text": [
            "\r 22%|██▏       | 8/37 [00:01<00:05,  5.77it/s]"
          ]
        },
        {
          "name": "stdout",
          "output_type": "stream",
          "text": [
            "torch.Size([128, 1])\n",
            "torch.Size([128, 1])\n"
          ]
        },
        {
          "name": "stderr",
          "output_type": "stream",
          "text": [
            "\r 24%|██▍       | 9/37 [00:01<00:04,  5.71it/s]"
          ]
        },
        {
          "name": "stdout",
          "output_type": "stream",
          "text": [
            "torch.Size([128, 1])\n",
            "torch.Size([128, 1])\n"
          ]
        },
        {
          "name": "stderr",
          "output_type": "stream",
          "text": [
            "\r 27%|██▋       | 10/37 [00:01<00:04,  5.76it/s]"
          ]
        },
        {
          "name": "stdout",
          "output_type": "stream",
          "text": [
            "torch.Size([128, 1])\n",
            "torch.Size([128, 1])\n"
          ]
        },
        {
          "name": "stderr",
          "output_type": "stream",
          "text": [
            "\r 30%|██▉       | 11/37 [00:01<00:04,  5.74it/s]"
          ]
        },
        {
          "name": "stdout",
          "output_type": "stream",
          "text": [
            "torch.Size([128, 1])\n",
            "torch.Size([128, 1])\n"
          ]
        },
        {
          "name": "stderr",
          "output_type": "stream",
          "text": [
            " 35%|███▌      | 13/37 [00:02<00:04,  5.54it/s]"
          ]
        },
        {
          "name": "stdout",
          "output_type": "stream",
          "text": [
            "torch.Size([128, 1])\n",
            "torch.Size([128, 1])\n",
            "torch.Size([128, 1])\n",
            "torch.Size([128, 1])\n"
          ]
        },
        {
          "name": "stderr",
          "output_type": "stream",
          "text": [
            " 41%|████      | 15/37 [00:02<00:03,  5.61it/s]"
          ]
        },
        {
          "name": "stdout",
          "output_type": "stream",
          "text": [
            "torch.Size([128, 1])\n",
            "torch.Size([128, 1])\n",
            "torch.Size([128, 1])\n",
            "torch.Size([128, 1])\n"
          ]
        },
        {
          "name": "stderr",
          "output_type": "stream",
          "text": [
            " 46%|████▌     | 17/37 [00:02<00:03,  5.76it/s]"
          ]
        },
        {
          "name": "stdout",
          "output_type": "stream",
          "text": [
            "torch.Size([128, 1])\n",
            "torch.Size([128, 1])\n",
            "torch.Size([128, 1])\n",
            "torch.Size([128, 1])\n"
          ]
        },
        {
          "name": "stderr",
          "output_type": "stream",
          "text": [
            " 51%|█████▏    | 19/37 [00:03<00:03,  5.66it/s]"
          ]
        },
        {
          "name": "stdout",
          "output_type": "stream",
          "text": [
            "torch.Size([128, 1])\n",
            "torch.Size([128, 1])\n",
            "torch.Size([128, 1])\n",
            "torch.Size([128, 1])\n"
          ]
        },
        {
          "name": "stderr",
          "output_type": "stream",
          "text": [
            " 57%|█████▋    | 21/37 [00:03<00:02,  5.58it/s]"
          ]
        },
        {
          "name": "stdout",
          "output_type": "stream",
          "text": [
            "torch.Size([128, 1])\n",
            "torch.Size([128, 1])\n",
            "torch.Size([128, 1])\n",
            "torch.Size([128, 1])\n"
          ]
        },
        {
          "name": "stderr",
          "output_type": "stream",
          "text": [
            " 62%|██████▏   | 23/37 [00:04<00:02,  5.61it/s]"
          ]
        },
        {
          "name": "stdout",
          "output_type": "stream",
          "text": [
            "torch.Size([128, 1])\n",
            "torch.Size([128, 1])\n",
            "torch.Size([128, 1])\n",
            "torch.Size([128, 1])\n"
          ]
        },
        {
          "name": "stderr",
          "output_type": "stream",
          "text": [
            " 68%|██████▊   | 25/37 [00:04<00:02,  4.96it/s]"
          ]
        },
        {
          "name": "stdout",
          "output_type": "stream",
          "text": [
            "torch.Size([128, 1])\n",
            "torch.Size([128, 1])\n"
          ]
        },
        {
          "name": "stderr",
          "output_type": "stream",
          "text": [
            "\r 70%|███████   | 26/37 [00:04<00:02,  4.39it/s]"
          ]
        },
        {
          "name": "stdout",
          "output_type": "stream",
          "text": [
            "torch.Size([128, 1])\n",
            "torch.Size([128, 1])\n"
          ]
        },
        {
          "name": "stderr",
          "output_type": "stream",
          "text": [
            "\r 73%|███████▎  | 27/37 [00:05<00:02,  4.16it/s]"
          ]
        },
        {
          "name": "stdout",
          "output_type": "stream",
          "text": [
            "torch.Size([128, 1])\n",
            "torch.Size([128, 1])\n"
          ]
        },
        {
          "name": "stderr",
          "output_type": "stream",
          "text": [
            "\r 76%|███████▌  | 28/37 [00:05<00:02,  4.02it/s]"
          ]
        },
        {
          "name": "stdout",
          "output_type": "stream",
          "text": [
            "torch.Size([128, 1])\n",
            "torch.Size([128, 1])\n"
          ]
        },
        {
          "name": "stderr",
          "output_type": "stream",
          "text": [
            "\r 78%|███████▊  | 29/37 [00:05<00:02,  3.97it/s]"
          ]
        },
        {
          "name": "stdout",
          "output_type": "stream",
          "text": [
            "torch.Size([128, 1])\n",
            "torch.Size([128, 1])\n"
          ]
        },
        {
          "name": "stderr",
          "output_type": "stream",
          "text": [
            "\r 81%|████████  | 30/37 [00:05<00:01,  3.94it/s]"
          ]
        },
        {
          "name": "stdout",
          "output_type": "stream",
          "text": [
            "torch.Size([128, 1])\n",
            "torch.Size([128, 1])\n"
          ]
        },
        {
          "name": "stderr",
          "output_type": "stream",
          "text": [
            "\r 84%|████████▍ | 31/37 [00:06<00:01,  3.92it/s]"
          ]
        },
        {
          "name": "stdout",
          "output_type": "stream",
          "text": [
            "torch.Size([128, 1])\n",
            "torch.Size([128, 1])\n"
          ]
        },
        {
          "name": "stderr",
          "output_type": "stream",
          "text": [
            "\r 86%|████████▋ | 32/37 [00:06<00:01,  3.83it/s]"
          ]
        },
        {
          "name": "stdout",
          "output_type": "stream",
          "text": [
            "torch.Size([128, 1])\n",
            "torch.Size([128, 1])\n"
          ]
        },
        {
          "name": "stderr",
          "output_type": "stream",
          "text": [
            "\r 89%|████████▉ | 33/37 [00:06<00:01,  3.82it/s]"
          ]
        },
        {
          "name": "stdout",
          "output_type": "stream",
          "text": [
            "torch.Size([128, 1])\n",
            "torch.Size([128, 1])\n"
          ]
        },
        {
          "name": "stderr",
          "output_type": "stream",
          "text": [
            "\r 92%|█████████▏| 34/37 [00:06<00:00,  3.81it/s]"
          ]
        },
        {
          "name": "stdout",
          "output_type": "stream",
          "text": [
            "torch.Size([128, 1])\n",
            "torch.Size([128, 1])\n"
          ]
        },
        {
          "name": "stderr",
          "output_type": "stream",
          "text": [
            "\r 95%|█████████▍| 35/37 [00:07<00:00,  4.15it/s]"
          ]
        },
        {
          "name": "stdout",
          "output_type": "stream",
          "text": [
            "torch.Size([128, 1])\n",
            "torch.Size([128, 1])\n",
            "torch.Size([128, 1])\n",
            "torch.Size([128, 1])\n"
          ]
        },
        {
          "name": "stderr",
          "output_type": "stream",
          "text": [
            "100%|██████████| 37/37 [00:07<00:00,  4.99it/s]\n"
          ]
        },
        {
          "name": "stdout",
          "output_type": "stream",
          "text": [
            "torch.Size([100, 1])\n",
            "torch.Size([100, 1])\n"
          ]
        },
        {
          "name": "stderr",
          "output_type": "stream",
          "text": [
            "\r  0%|          | 0/37 [00:00<?, ?it/s]"
          ]
        },
        {
          "name": "stdout",
          "output_type": "stream",
          "text": [
            "torch.Size([128, 1])\n",
            "torch.Size([128, 1])\n"
          ]
        },
        {
          "name": "stderr",
          "output_type": "stream",
          "text": [
            "\r  3%|▎         | 1/37 [00:00<00:06,  5.59it/s]"
          ]
        },
        {
          "name": "stdout",
          "output_type": "stream",
          "text": [
            "torch.Size([128, 1])\n",
            "torch.Size([128, 1])\n"
          ]
        },
        {
          "name": "stderr",
          "output_type": "stream",
          "text": [
            "\r  5%|▌         | 2/37 [00:00<00:06,  5.82it/s]"
          ]
        },
        {
          "name": "stdout",
          "output_type": "stream",
          "text": [
            "torch.Size([128, 1])\n",
            "torch.Size([128, 1])\n"
          ]
        },
        {
          "name": "stderr",
          "output_type": "stream",
          "text": [
            "\r  8%|▊         | 3/37 [00:00<00:05,  5.87it/s]"
          ]
        },
        {
          "name": "stdout",
          "output_type": "stream",
          "text": [
            "torch.Size([128, 1])\n",
            "torch.Size([128, 1])\n"
          ]
        },
        {
          "name": "stderr",
          "output_type": "stream",
          "text": [
            "\r 11%|█         | 4/37 [00:00<00:05,  5.77it/s]"
          ]
        },
        {
          "name": "stdout",
          "output_type": "stream",
          "text": [
            "torch.Size([128, 1])\n",
            "torch.Size([128, 1])\n"
          ]
        },
        {
          "name": "stderr",
          "output_type": "stream",
          "text": [
            "\r 14%|█▎        | 5/37 [00:00<00:05,  5.60it/s]"
          ]
        },
        {
          "name": "stdout",
          "output_type": "stream",
          "text": [
            "torch.Size([128, 1])\n",
            "torch.Size([128, 1])\n"
          ]
        },
        {
          "name": "stderr",
          "output_type": "stream",
          "text": [
            "\r 16%|█▌        | 6/37 [00:01<00:05,  5.67it/s]"
          ]
        },
        {
          "name": "stdout",
          "output_type": "stream",
          "text": [
            "torch.Size([128, 1])\n",
            "torch.Size([128, 1])\n"
          ]
        },
        {
          "name": "stderr",
          "output_type": "stream",
          "text": [
            "\r 19%|█▉        | 7/37 [00:01<00:05,  5.65it/s]"
          ]
        },
        {
          "name": "stdout",
          "output_type": "stream",
          "text": [
            "torch.Size([128, 1])\n",
            "torch.Size([128, 1])\n"
          ]
        },
        {
          "name": "stderr",
          "output_type": "stream",
          "text": [
            "\r 22%|██▏       | 8/37 [00:01<00:05,  5.72it/s]"
          ]
        },
        {
          "name": "stdout",
          "output_type": "stream",
          "text": [
            "torch.Size([128, 1])\n",
            "torch.Size([128, 1])\n"
          ]
        },
        {
          "name": "stderr",
          "output_type": "stream",
          "text": [
            "\r 24%|██▍       | 9/37 [00:01<00:04,  5.83it/s]"
          ]
        },
        {
          "name": "stdout",
          "output_type": "stream",
          "text": [
            "torch.Size([128, 1])\n",
            "torch.Size([128, 1])\n"
          ]
        },
        {
          "name": "stderr",
          "output_type": "stream",
          "text": [
            "\r 27%|██▋       | 10/37 [00:01<00:04,  5.79it/s]"
          ]
        },
        {
          "name": "stdout",
          "output_type": "stream",
          "text": [
            "torch.Size([128, 1])\n",
            "torch.Size([128, 1])\n"
          ]
        },
        {
          "name": "stderr",
          "output_type": "stream",
          "text": [
            "\r 30%|██▉       | 11/37 [00:01<00:04,  5.68it/s]"
          ]
        },
        {
          "name": "stdout",
          "output_type": "stream",
          "text": [
            "torch.Size([128, 1])\n",
            "torch.Size([128, 1])\n"
          ]
        },
        {
          "name": "stderr",
          "output_type": "stream",
          "text": [
            "\r 32%|███▏      | 12/37 [00:02<00:04,  5.69it/s]"
          ]
        },
        {
          "name": "stdout",
          "output_type": "stream",
          "text": [
            "torch.Size([128, 1])\n",
            "torch.Size([128, 1])\n"
          ]
        },
        {
          "name": "stderr",
          "output_type": "stream",
          "text": [
            "\r 35%|███▌      | 13/37 [00:02<00:04,  5.67it/s]"
          ]
        },
        {
          "name": "stdout",
          "output_type": "stream",
          "text": [
            "torch.Size([128, 1])\n",
            "torch.Size([128, 1])\n"
          ]
        },
        {
          "name": "stderr",
          "output_type": "stream",
          "text": [
            "\r 38%|███▊      | 14/37 [00:02<00:04,  5.65it/s]"
          ]
        },
        {
          "name": "stdout",
          "output_type": "stream",
          "text": [
            "torch.Size([128, 1])\n",
            "torch.Size([128, 1])\n"
          ]
        },
        {
          "name": "stderr",
          "output_type": "stream",
          "text": [
            "\r 41%|████      | 15/37 [00:02<00:03,  5.67it/s]"
          ]
        },
        {
          "name": "stdout",
          "output_type": "stream",
          "text": [
            "torch.Size([128, 1])\n",
            "torch.Size([128, 1])\n"
          ]
        },
        {
          "name": "stderr",
          "output_type": "stream",
          "text": [
            "\r 43%|████▎     | 16/37 [00:02<00:03,  5.59it/s]"
          ]
        },
        {
          "name": "stdout",
          "output_type": "stream",
          "text": [
            "torch.Size([128, 1])\n",
            "torch.Size([128, 1])\n"
          ]
        },
        {
          "name": "stderr",
          "output_type": "stream",
          "text": [
            "\r 46%|████▌     | 17/37 [00:02<00:03,  5.56it/s]"
          ]
        },
        {
          "name": "stdout",
          "output_type": "stream",
          "text": [
            "torch.Size([128, 1])\n",
            "torch.Size([128, 1])\n"
          ]
        },
        {
          "name": "stderr",
          "output_type": "stream",
          "text": [
            "\r 49%|████▊     | 18/37 [00:03<00:03,  5.52it/s]"
          ]
        },
        {
          "name": "stdout",
          "output_type": "stream",
          "text": [
            "torch.Size([128, 1])\n",
            "torch.Size([128, 1])\n"
          ]
        },
        {
          "name": "stderr",
          "output_type": "stream",
          "text": [
            "\r 51%|█████▏    | 19/37 [00:03<00:03,  5.55it/s]"
          ]
        },
        {
          "name": "stdout",
          "output_type": "stream",
          "text": [
            "torch.Size([128, 1])\n",
            "torch.Size([128, 1])\n"
          ]
        },
        {
          "name": "stderr",
          "output_type": "stream",
          "text": [
            "\r 54%|█████▍    | 20/37 [00:03<00:03,  5.62it/s]"
          ]
        },
        {
          "name": "stdout",
          "output_type": "stream",
          "text": [
            "torch.Size([128, 1])\n",
            "torch.Size([128, 1])\n"
          ]
        },
        {
          "name": "stderr",
          "output_type": "stream",
          "text": [
            "\r 57%|█████▋    | 21/37 [00:03<00:02,  5.65it/s]"
          ]
        },
        {
          "name": "stdout",
          "output_type": "stream",
          "text": [
            "torch.Size([128, 1])\n",
            "torch.Size([128, 1])\n"
          ]
        },
        {
          "name": "stderr",
          "output_type": "stream",
          "text": [
            "\r 59%|█████▉    | 22/37 [00:03<00:02,  5.64it/s]"
          ]
        },
        {
          "name": "stdout",
          "output_type": "stream",
          "text": [
            "torch.Size([128, 1])\n",
            "torch.Size([128, 1])\n"
          ]
        },
        {
          "name": "stderr",
          "output_type": "stream",
          "text": [
            "\r 62%|██████▏   | 23/37 [00:04<00:02,  5.57it/s]"
          ]
        },
        {
          "name": "stdout",
          "output_type": "stream",
          "text": [
            "torch.Size([128, 1])\n",
            "torch.Size([128, 1])\n"
          ]
        },
        {
          "name": "stderr",
          "output_type": "stream",
          "text": [
            "\r 65%|██████▍   | 24/37 [00:04<00:02,  5.64it/s]"
          ]
        },
        {
          "name": "stdout",
          "output_type": "stream",
          "text": [
            "torch.Size([128, 1])\n",
            "torch.Size([128, 1])\n"
          ]
        },
        {
          "name": "stderr",
          "output_type": "stream",
          "text": [
            "\r 68%|██████▊   | 25/37 [00:04<00:02,  5.70it/s]"
          ]
        },
        {
          "name": "stdout",
          "output_type": "stream",
          "text": [
            "torch.Size([128, 1])\n",
            "torch.Size([128, 1])\n"
          ]
        },
        {
          "name": "stderr",
          "output_type": "stream",
          "text": [
            "\r 70%|███████   | 26/37 [00:04<00:01,  5.73it/s]"
          ]
        },
        {
          "name": "stdout",
          "output_type": "stream",
          "text": [
            "torch.Size([128, 1])\n",
            "torch.Size([128, 1])\n"
          ]
        },
        {
          "name": "stderr",
          "output_type": "stream",
          "text": [
            "\r 73%|███████▎  | 27/37 [00:04<00:01,  5.73it/s]"
          ]
        },
        {
          "name": "stdout",
          "output_type": "stream",
          "text": [
            "torch.Size([128, 1])\n",
            "torch.Size([128, 1])\n"
          ]
        },
        {
          "name": "stderr",
          "output_type": "stream",
          "text": [
            "\r 76%|███████▌  | 28/37 [00:04<00:01,  5.62it/s]"
          ]
        },
        {
          "name": "stdout",
          "output_type": "stream",
          "text": [
            "torch.Size([128, 1])\n",
            "torch.Size([128, 1])\n"
          ]
        },
        {
          "name": "stderr",
          "output_type": "stream",
          "text": [
            "\r 78%|███████▊  | 29/37 [00:05<00:01,  5.61it/s]"
          ]
        },
        {
          "name": "stdout",
          "output_type": "stream",
          "text": [
            "torch.Size([128, 1])\n",
            "torch.Size([128, 1])\n"
          ]
        },
        {
          "name": "stderr",
          "output_type": "stream",
          "text": [
            "\r 81%|████████  | 30/37 [00:05<00:01,  5.69it/s]"
          ]
        },
        {
          "name": "stdout",
          "output_type": "stream",
          "text": [
            "torch.Size([128, 1])\n",
            "torch.Size([128, 1])\n"
          ]
        },
        {
          "name": "stderr",
          "output_type": "stream",
          "text": [
            "\r 84%|████████▍ | 31/37 [00:05<00:01,  5.69it/s]"
          ]
        },
        {
          "name": "stdout",
          "output_type": "stream",
          "text": [
            "torch.Size([128, 1])\n",
            "torch.Size([128, 1])\n"
          ]
        },
        {
          "name": "stderr",
          "output_type": "stream",
          "text": [
            "\r 86%|████████▋ | 32/37 [00:05<00:00,  5.74it/s]"
          ]
        },
        {
          "name": "stdout",
          "output_type": "stream",
          "text": [
            "torch.Size([128, 1])\n",
            "torch.Size([128, 1])\n"
          ]
        },
        {
          "name": "stderr",
          "output_type": "stream",
          "text": [
            "\r 89%|████████▉ | 33/37 [00:05<00:00,  5.77it/s]"
          ]
        },
        {
          "name": "stdout",
          "output_type": "stream",
          "text": [
            "torch.Size([128, 1])\n",
            "torch.Size([128, 1])\n"
          ]
        },
        {
          "name": "stderr",
          "output_type": "stream",
          "text": [
            "\r 92%|█████████▏| 34/37 [00:05<00:00,  5.66it/s]"
          ]
        },
        {
          "name": "stdout",
          "output_type": "stream",
          "text": [
            "torch.Size([128, 1])\n",
            "torch.Size([128, 1])\n"
          ]
        },
        {
          "name": "stderr",
          "output_type": "stream",
          "text": [
            "\r 95%|█████████▍| 35/37 [00:06<00:00,  5.62it/s]"
          ]
        },
        {
          "name": "stdout",
          "output_type": "stream",
          "text": [
            "torch.Size([128, 1])\n",
            "torch.Size([128, 1])\n"
          ]
        },
        {
          "name": "stderr",
          "output_type": "stream",
          "text": [
            "\r 97%|█████████▋| 36/37 [00:06<00:00,  5.70it/s]"
          ]
        },
        {
          "name": "stdout",
          "output_type": "stream",
          "text": [
            "torch.Size([100, 1])\n",
            "torch.Size([100, 1])\n"
          ]
        },
        {
          "name": "stderr",
          "output_type": "stream",
          "text": [
            "100%|██████████| 37/37 [00:06<00:00,  5.70it/s]\n"
          ]
        }
      ],
      "source": [
        "from torch import optim\n",
        "\n",
        "lr = 0.001\n",
        "\n",
        "model_GAN = Net(in_channels=n_channels, num_classes=2)\n",
        "\n",
        "criterion = nn.BCEWithLogitsLoss()\n",
        "\n",
        "optimizer = optim.SGD(model_GAN.parameters(), lr=lr, momentum=0.9)\n",
        "\n",
        "\n",
        "from tqdm import tqdm\n",
        "import torch\n",
        "for epoch in range(NUM_EPOCHS):\n",
        "    train_correct = 0\n",
        "    train_total = 0\n",
        "    test_correct = 0\n",
        "    test_total = 0\n",
        "\n",
        "    model_GAN.train()\n",
        "    for inputs, targets in tqdm(train_gen_loader):\n",
        "        # forward + backward + optimize\n",
        "        optimizer.zero_grad()\n",
        "        outputs = model_GAN(inputs)\n",
        "\n",
        "        targets = targets.float()\n",
        "        outputs = outputs.float()\n",
        "\n",
        "        print(targets.shape)\n",
        "        print(outputs.shape)\n",
        "        loss = criterion(outputs, targets)\n",
        "\n",
        "        loss.backward()\n",
        "        optimizer.step()"
      ]
    },
    {
      "cell_type": "markdown",
      "metadata": {
        "id": "tvI42s9_Xu-a"
      },
      "source": [
        "Test of the classifier, as was done above with real data, but now with the generated dataset."
      ]
    },
    {
      "cell_type": "code",
      "execution_count": 27,
      "metadata": {
        "colab": {
          "base_uri": "https://localhost:8080/"
        },
        "id": "6J4H9P3jXu-a",
        "outputId": "7d6a47aa-7ada-4a37-aa2f-b987f5021aa7"
      },
      "outputs": [
        {
          "name": "stdout",
          "output_type": "stream",
          "text": [
            "==> Evaluating GAN model ...\n",
            "train  auc: 0.998  acc:0.984\n",
            "val  auc: 0.983  acc:0.927\n",
            "test  auc: 0.954  acc:0.888\n"
          ]
        }
      ],
      "source": [
        "print('==> Evaluating GAN model ...')\n",
        "acc_train_GAN, auc_train_GAN, y_true, cm_train_GAN, fpr_train_GAN, tpr_train_GAN = test('train', model_GAN)\n",
        "acc_val_GAN, auc_val_GAN, y_true, cm_val_GAN, fpr_val_GAN, tpr_val_GAN = test('val', model_GAN)\n",
        "acc_test_GAN, auc_test_GAN, y_true, cm_test_GAN, fpr_test_GAN, tpr_test_GAN = test('test', model_GAN)"
      ]
    },
    {
      "cell_type": "markdown",
      "metadata": {
        "id": "pw-LBBVoXu-a"
      },
      "source": [
        "# 7. Comparison of our Method and Baseline, Interpretration of Results"
      ]
    },
    {
      "cell_type": "markdown",
      "metadata": {
        "id": "_pl9540wXu-a"
      },
      "source": [
        "You may use some visualization techniques here to compare the baseline (i) with your method (ii). For example, it would be interesting to plot both ROC-AUC curves to visually compare them. Another visualization option is a confusion matrix for (i) and (ii)."
      ]
    },
    {
      "cell_type": "code",
      "execution_count": 28,
      "metadata": {
        "id": "daslC-yyXu-b"
      },
      "outputs": [],
      "source": [
        "# example function for plotting multiple ROC-AUC curve in one figure.\n",
        "def plot_roc_cur(fpr1, tpr1, fpr2, tpr2, auc1, auc2):\n",
        "    plt.plot(fpr1, tpr1, color='orange', label='Baseline Model (AUROC = %0.3f)' % auc1)\n",
        "    plt.plot(fpr2, tpr2, color='gray', label='GAN-trained-Model (AUROC = %0.3f)' % auc2)\n",
        "    plt.plot([0, 1], [0, 1], color='darkblue', linestyle='--')\n",
        "    plt.xlabel('False Positive Rate')\n",
        "    plt.ylabel('True Positive Rate')\n",
        "    plt.title('Receiver Operating Characteristic (ROC) Curve')\n",
        "    plt.legend()\n",
        "    plt.show()"
      ]
    },
    {
      "cell_type": "markdown",
      "metadata": {
        "id": "Vw_--Og58NA9"
      },
      "source": [
        "### Train Set Results"
      ]
    },
    {
      "cell_type": "code",
      "execution_count": 29,
      "metadata": {
        "colab": {
          "base_uri": "https://localhost:8080/",
          "height": 472
        },
        "id": "Q3axVYy28Q62",
        "outputId": "91009f81-c58b-46c3-b69e-eec8435157cc"
      },
      "outputs": [
        {
          "data": {
            "image/png": "[encoded data removed]",
            "text/plain": [
              "<Figure size 640x480 with 1 Axes>"
            ]
          },
          "metadata": {},
          "output_type": "display_data"
        }
      ],
      "source": [
        "plot_roc_cur(fpr_train_baseline, tpr_train_baseline, fpr_train_GAN, tpr_train_GAN, auc_train_baseline, auc_train_GAN)"
      ]
    },
    {
      "cell_type": "code",
      "execution_count": 30,
      "metadata": {
        "colab": {
          "base_uri": "https://localhost:8080/",
          "height": 422
        },
        "id": "cgnXGER-8Ouv",
        "outputId": "a7b63b74-f449-405a-811a-715b70530baa"
      },
      "outputs": [
        {
          "data": {
            "image/png": "[encoded data removed]",
            "text/plain": [
              "<Figure size 1000x500 with 4 Axes>"
            ]
          },
          "metadata": {},
          "output_type": "display_data"
        }
      ],
      "source": [
        "fig, ax = plt.subplots(1, 2, figsize=(10, 5))\n",
        "disp1 = ConfusionMatrixDisplay(confusion_matrix=cm_train_baseline)\n",
        "disp1.plot(ax=ax[0], values_format='.0f', cmap='Blues')\n",
        "disp2 = ConfusionMatrixDisplay(confusion_matrix=cm_train_GAN)\n",
        "disp2.plot(ax=ax[1], values_format='.0f', cmap='Blues')\n",
        "ax[0].set_title('Confusion Matrix train/baseline')\n",
        "ax[1].set_title('Confusion Matrix train/GAN')\n",
        "plt.subplots_adjust(wspace=0.6)\n",
        "plt.show()"
      ]
    },
    {
      "cell_type": "markdown",
      "metadata": {
        "id": "0fPn4g7GVvlA"
      },
      "source": [
        "### Validation Set Results"
      ]
    },
    {
      "cell_type": "code",
      "execution_count": 31,
      "metadata": {
        "colab": {
          "base_uri": "https://localhost:8080/",
          "height": 472
        },
        "id": "J9Sn3rHxV3hZ",
        "outputId": "cdbce49a-3ba9-4992-f0aa-35231bd0dbf0"
      },
      "outputs": [
        {
          "data": {
            "image/png": "[encoded data removed]",
            "text/plain": [
              "<Figure size 640x480 with 1 Axes>"
            ]
          },
          "metadata": {},
          "output_type": "display_data"
        }
      ],
      "source": [
        "plot_roc_cur(fpr_val_baseline, tpr_val_baseline, fpr_val_GAN, tpr_val_GAN, auc_val_baseline, auc_val_GAN)"
      ]
    },
    {
      "cell_type": "code",
      "execution_count": 32,
      "metadata": {
        "colab": {
          "base_uri": "https://localhost:8080/",
          "height": 422
        },
        "id": "jT_O7ZF2WFGX",
        "outputId": "22c723ba-7bae-4225-a972-860e9b212672"
      },
      "outputs": [
        {
          "data": {
            "image/png": "[encoded data removed]",
            "text/plain": [
              "<Figure size 1000x500 with 4 Axes>"
            ]
          },
          "metadata": {},
          "output_type": "display_data"
        }
      ],
      "source": [
        "fig, ax = plt.subplots(1, 2, figsize=(10, 5))\n",
        "disp1 = ConfusionMatrixDisplay(confusion_matrix=cm_val_baseline)\n",
        "disp1.plot(ax=ax[0], values_format='.0f', cmap='Blues')\n",
        "disp2 = ConfusionMatrixDisplay(confusion_matrix=cm_val_GAN)\n",
        "disp2.plot(ax=ax[1], values_format='.0f', cmap='Blues')\n",
        "ax[0].set_title('Confusion Matrix valid/baseline')\n",
        "ax[1].set_title('Confusion Matrix valid/GAN')\n",
        "plt.subplots_adjust(wspace=0.6)\n",
        "plt.show()"
      ]
    },
    {
      "cell_type": "markdown",
      "metadata": {
        "id": "kD3yJlM-Vn_A"
      },
      "source": [
        "### Test Set Results"
      ]
    },
    {
      "cell_type": "code",
      "execution_count": 33,
      "metadata": {
        "colab": {
          "base_uri": "https://localhost:8080/",
          "height": 472
        },
        "id": "xEHAaf9bWMW9",
        "outputId": "ab7ad0f5-1d90-4c3e-e606-ea1851a575a0"
      },
      "outputs": [
        {
          "data": {
            "image/png": "[encoded data removed]",
            "text/plain": [
              "<Figure size 640x480 with 1 Axes>"
            ]
          },
          "metadata": {},
          "output_type": "display_data"
        }
      ],
      "source": [
        "plot_roc_cur(fpr_test_baseline, tpr_test_baseline,fpr_test_GAN, tpr_test_GAN, auc_test_baseline, auc_test_GAN)"
      ]
    },
    {
      "cell_type": "code",
      "execution_count": 34,
      "metadata": {
        "colab": {
          "base_uri": "https://localhost:8080/",
          "height": 422
        },
        "id": "mZB4vG-KXu-b",
        "outputId": "bf7e6e8d-090f-40b5-a4de-21229eea37fc"
      },
      "outputs": [
        {
          "data": {
            "image/png": "[encoded data removed]",
            "text/plain": [
              "<Figure size 1000x500 with 4 Axes>"
            ]
          },
          "metadata": {},
          "output_type": "display_data"
        }
      ],
      "source": [
        "fig, ax = plt.subplots(1, 2, figsize=(10, 5))\n",
        "disp1 = ConfusionMatrixDisplay(confusion_matrix=cm_test_baseline)\n",
        "disp1.plot(ax=ax[0], values_format='.0f', cmap='Blues')\n",
        "disp2 = ConfusionMatrixDisplay(confusion_matrix=cm_test_GAN)\n",
        "disp2.plot(ax=ax[1], values_format='.0f', cmap='Blues')\n",
        "ax[0].set_title('Confusion Matrix test/baseline')\n",
        "ax[1].set_title('Confusion Matrix test/GAN')\n",
        "plt.subplots_adjust(wspace=0.6)\n",
        "plt.show()"
      ]
    },
    {
      "cell_type": "markdown",
      "metadata": {
        "id": "SKL__kr0VtK3"
      },
      "source": [
        "### Question"
      ]
    },
    {
      "cell_type": "markdown",
      "metadata": {
        "id": "v7t1FQaQXu-b"
      },
      "source": [
        "How would you interpret the results you achieved? Would you say your GAN-based privatization method is useful in practice? Do you reject or accept the hypothesis defined above?"
      ]
    },
    {
      "cell_type": "markdown",
      "metadata": {},
      "source": [
        "**Answer**\n",
        "\n",
        "Reflecting the Results in the figure below, the GAN-based privatization definitely presents a potential for practical uses, especially since it even has a higher test-accuracy compared to the baseline model (0.888 vs 0.822). However it slightly underperforms for the metric of area under the curve also visible in the above displayed ROC-curves. The GAN-method achived quite a high accuracies which in turn speaks for that it is able to learn effectively without too much overfitting present. \n",
        "\n",
        "Given these findings we can accept the hypothesis and conclude, conclude that the GAN-Method definitely presents a useful and well-performing technique to privatize learning data for pneumonia detection, while still maintaining usability and perfeormance and even improving the generalization on unseen data, with the improved test accuracy.\n",
        "\n",
        "\n",
        "Table of aggregated Results of both models for Train, Validation and Test set:\n",
        "\n",
        "| Dataset | Metric | Baseline Model | GAN Model |\n",
        "|---------|--------|----------------|-----------|\n",
        "| Train   | AUC    | 0.999          | 0.998     |\n",
        "|         | ACC    | 0.984          | 0.984     |\n",
        "| Val     | AUC    | 0.997          | 0.983     |\n",
        "|         | ACC    | 0.975          | 0.927     |\n",
        "| Test    | AUC    | 0.960          | 0.954     |\n",
        "|         | ACC    | 0.822          | 0.888     |"
      ]
    },
    {
      "cell_type": "markdown",
      "metadata": {
        "id": "5ja4rnvBXu-b"
      },
      "source": [
        "# 8. Reflective Account"
      ]
    },
    {
      "cell_type": "markdown",
      "metadata": {
        "id": "GG86mtOjXu-b"
      },
      "source": [
        "What could be the reasons why our study did or did not succeed? What do you think are the limitations of our study? What can we learn and takeaway from this exercise? How should it inform our future work? What would you try next?"
      ]
    },
    {
      "cell_type": "markdown",
      "metadata": {},
      "source": [
        "**Reasons for Success or Failure**\n",
        "\n",
        "A for reason seems to be in one aspect the simplicity of the image data with the images only being 28x28 pixels in gray scale and the patterns of pneumonia are even quite easily detectable by eye because of in tendency large amounts of fluids in the lungs and the GAM also was able to improve generalization through generalization. Another reason for the succes could also be the balanced data set, which was not the case for the original dataset.\n",
        "\n",
        "**Liminations of the Study**\n",
        "\n",
        "One of the limitations is for once the simplicity of the data and problem data, which definitely made it more feasible to generate more imitation images and the question is here how dar this can be applied to diseases with the less pronounced and obvious patterns, that also maybe require higher resolution images for an accurate diagnosis.\n",
        "\n",
        "**Learning and Takeaways**\n",
        "\n",
        "The most important key takeaways are that GAN-based privitization might actually be able to improve the final performance by mitigating errorfitting of patters and by artificially balancing out the dataset. But in turn there might be a need to balance between the metric of AUC (Area Under the Curve) and the privitization, in which the GAN-based model very slightly underperformed the baseline.\n",
        "\n",
        "**Future Work Recommendations**\n",
        "\n",
        "It would be very relevant in the future to invesitigate the impact of using higher-resolution higher images on the model performance and also maybe investigating its  applicability for more complex disease and injury patterns.\n",
        "Another interesting apsect could be explore other different GAN architectures and there final impact on perfermance and privacy.\n",
        "\n",
        "**Potential Next Steps to Try**\n",
        "\n",
        "Two interesting things would be try approach on other datasets from the MedMNIST database and see how applicable the same approch is there, while keeping with the same data there would also be the interesting possibility of comparing the GAN-results by creating more images since with a GAN your dataset is not limited and also comparing the performance and applicability with smaller original training sets, by artificially only selecting a subset of the images to see if the GAN overfits in that case too much.\n",
        "\n"
      ]
    },
    {
      "cell_type": "markdown",
      "metadata": {
        "id": "S_ARVenYXu-b"
      },
      "source": [
        "Thank you for working on this study. We hope you enjoyed it and it was a good learning experience for you.\n",
        "\n",
        "Please send any feedback you may have to [Richard.Osuala@ub.edu](mailto:Richard.Osuala@ub.edu)."
      ]
    }
  ],
  "metadata": {
    "accelerator": "GPU",
    "colab": {
      "gpuType": "V100",
      "provenance": []
    },
    "kernelspec": {
      "display_name": "Python 3",
      "name": "python3"
    },
    "language_info": {
      "codemirror_mode": {
        "name": "ipython",
        "version": 3
      },
      "file_extension": ".py",
      "mimetype": "text/x-python",
      "name": "python",
      "nbconvert_exporter": "python",
      "pygments_lexer": "ipython3",
      "version": "3.11.6"
    }
  },
  "nbformat": 4,
  "nbformat_minor": 0
}
